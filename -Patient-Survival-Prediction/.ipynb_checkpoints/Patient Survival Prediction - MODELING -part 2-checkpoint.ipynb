{
 "cells": [
  {
   "cell_type": "markdown",
   "metadata": {},
   "source": [
    "*Imports*"
   ]
  },
  {
   "cell_type": "code",
   "execution_count": 1,
   "metadata": {},
   "outputs": [
    {
     "data": {
      "text/html": [
       "<style>.container{width:90% !important;}</style>"
      ],
      "text/plain": [
       "<IPython.core.display.HTML object>"
      ]
     },
     "metadata": {},
     "output_type": "display_data"
    }
   ],
   "source": [
    "from IPython.core.display import display, HTML; display(HTML(\"<style>.container{width:90% !important;}</style>\")) "
   ]
  },
  {
   "cell_type": "code",
   "execution_count": 2,
   "metadata": {},
   "outputs": [],
   "source": [
    "import numpy as np\n",
    "import pandas as pd\n",
    "from imblearn.pipeline import Pipeline\n",
    "from imblearn.over_sampling import SMOTE\n",
    "from sklearn.preprocessing import LabelEncoder\n",
    "from sklearn.preprocessing import OneHotEncoder\n",
    "from sklearn.impute import SimpleImputer\n",
    "import matplotlib.pyplot as plt"
   ]
  },
  {
   "cell_type": "markdown",
   "metadata": {},
   "source": [
    "# Patient Survival Prediction - MODELING -part 2"
   ]
  },
  {
   "cell_type": "markdown",
   "metadata": {},
   "source": [
    "### *Importing data and columns names for transformer* "
   ]
  },
  {
   "cell_type": "code",
   "execution_count": 3,
   "metadata": {},
   "outputs": [],
   "source": [
    "data = pd.read_csv('dataset.csv')"
   ]
  },
  {
   "cell_type": "code",
   "execution_count": 4,
   "metadata": {},
   "outputs": [],
   "source": [
    "cat_col = pd.read_csv('cat_col.csv')['0'].tolist()"
   ]
  },
  {
   "cell_type": "code",
   "execution_count": 5,
   "metadata": {},
   "outputs": [],
   "source": [
    "cat_col_num = pd.read_csv('cat_col_num.csv')['0'].tolist()"
   ]
  },
  {
   "cell_type": "code",
   "execution_count": 6,
   "metadata": {},
   "outputs": [],
   "source": [
    "num_col = pd.read_csv('num_col.csv')['0'].tolist()"
   ]
  },
  {
   "cell_type": "markdown",
   "metadata": {},
   "source": [
    "*Let's make train and test sets*"
   ]
  },
  {
   "cell_type": "code",
   "execution_count": 7,
   "metadata": {},
   "outputs": [],
   "source": [
    "y = data.hospital_death"
   ]
  },
  {
   "cell_type": "code",
   "execution_count": 8,
   "metadata": {},
   "outputs": [],
   "source": [
    "X = data.drop('hospital_death',axis=1)"
   ]
  },
  {
   "cell_type": "code",
   "execution_count": 9,
   "metadata": {},
   "outputs": [],
   "source": [
    "from sklearn.model_selection import train_test_split\n",
    "X_train, X_test, y_train, y_test = train_test_split(X, y, test_size=0.3,stratify=y)"
   ]
  },
  {
   "cell_type": "markdown",
   "metadata": {},
   "source": [
    "### *Let's make a transformer for preprocessing of our data*\n",
    "\n",
    "*In my data is not many missing values but is around 80 columns so I decided to use transformers.*\n",
    "\n",
    "* **The first transformer is for choosing columns, DataFrameSelector. I am passing to transformer list of columns which I will use in that pipeline. (List of columns I prepared in part 1 EDA)** \n",
    "* **The second transformer handles missing values, filling by most frequent values.** \n",
    "* **The third transformer handles missing values in categorical columns, filling by \"not given\". I am not using here most frequent transformer because is medical data, and in my opinion better to make a new group for that ppl than give them the most common disease.** "
   ]
  },
  {
   "cell_type": "code",
   "execution_count": 10,
   "metadata": {},
   "outputs": [],
   "source": [
    "from sklearn.base import BaseEstimator, TransformerMixin\n",
    "\n",
    "class DataFrameSelector(BaseEstimator, TransformerMixin):\n",
    "    def __init__(self, attribute_names):\n",
    "        self.attribute_names = attribute_names\n",
    "    def fit(self, X, y=None):\n",
    "        return self\n",
    "    def transform(self, X, y=None):\n",
    "        return X[self.attribute_names]"
   ]
  },
  {
   "cell_type": "code",
   "execution_count": 11,
   "metadata": {},
   "outputs": [],
   "source": [
    "class MostFrequentImputer(BaseEstimator, TransformerMixin):\n",
    "    def fit(self, X, y=None):\n",
    "        self.most_frequent_ = pd.Series([X[c].value_counts().index[0] for c in X],\n",
    "                                        index=X.columns)\n",
    "        return self\n",
    "    def transform(self, X, y=None):\n",
    "        return X.fillna(self.most_frequent_)"
   ]
  },
  {
   "cell_type": "code",
   "execution_count": 12,
   "metadata": {},
   "outputs": [],
   "source": [
    "class NotGivenImputer(BaseEstimator, TransformerMixin):\n",
    "    def fit(self, X, y=None):\n",
    "        self.not_given_ = 'NotGiven'\n",
    "        return self\n",
    "        pass\n",
    "    def transform(self, X, y=None):\n",
    "        return X.fillna(self.not_given_)\n",
    "   "
   ]
  },
  {
   "cell_type": "markdown",
   "metadata": {},
   "source": [
    "*First pipeline, categorical columns, handling missing values by NotGivenImputer and One Hot Encoding all variables in list*"
   ]
  },
  {
   "cell_type": "code",
   "execution_count": 13,
   "metadata": {
    "scrolled": false
   },
   "outputs": [
    {
     "data": {
      "text/plain": [
       "array([[0., 0., 1., ..., 0., 0., 0.],\n",
       "       [0., 0., 0., ..., 0., 0., 0.],\n",
       "       [0., 0., 1., ..., 0., 0., 0.],\n",
       "       ...,\n",
       "       [1., 0., 0., ..., 0., 0., 1.],\n",
       "       [0., 0., 1., ..., 0., 0., 0.],\n",
       "       [1., 0., 0., ..., 0., 0., 0.]])"
      ]
     },
     "execution_count": 13,
     "metadata": {},
     "output_type": "execute_result"
    }
   ],
   "source": [
    "cat_one_hot_pipeline = Pipeline([\n",
    "        (\"select_cat\", DataFrameSelector(cat_col)),\n",
    "        (\"imputer\", NotGivenImputer()),\n",
    "        (\"cat_encoder\", OneHotEncoder(sparse=False, handle_unknown = 'ignore')),\n",
    "    ])\n",
    "\n",
    "cat_one_hot_pipeline.fit_transform(X_train)"
   ]
  },
  {
   "cell_type": "markdown",
   "metadata": {},
   "source": [
    "*Second pipeline, numerical columns which we will OneHotEnconde, handling missing values by MostFrequentImputer*"
   ]
  },
  {
   "cell_type": "code",
   "execution_count": 14,
   "metadata": {
    "scrolled": true
   },
   "outputs": [
    {
     "data": {
      "text/plain": [
       "array([[0., 1., 0., ..., 0., 1., 0.],\n",
       "       [1., 0., 1., ..., 0., 1., 0.],\n",
       "       [1., 0., 1., ..., 0., 1., 0.],\n",
       "       ...,\n",
       "       [0., 1., 0., ..., 0., 1., 0.],\n",
       "       [0., 1., 0., ..., 0., 1., 0.],\n",
       "       [1., 0., 1., ..., 0., 1., 0.]])"
      ]
     },
     "execution_count": 14,
     "metadata": {},
     "output_type": "execute_result"
    }
   ],
   "source": [
    "cat_num_one_hot_pipeline = Pipeline([\n",
    "        (\"select_cat\", DataFrameSelector(cat_col_num)),\n",
    "        (\"imputer\", MostFrequentImputer()),\n",
    "        (\"cat_encoder\", OneHotEncoder(sparse=False, handle_unknown = 'ignore')),\n",
    "    ])\n",
    "\n",
    "cat_num_one_hot_pipeline.fit_transform(X_train)"
   ]
  },
  {
   "cell_type": "markdown",
   "metadata": {},
   "source": [
    "*Third pipeline, numerical columns, handling missing values by SimpleImputer with using of the mean of variables*"
   ]
  },
  {
   "cell_type": "code",
   "execution_count": 15,
   "metadata": {},
   "outputs": [
    {
     "data": {
      "text/plain": [
       "array([[ 4.60000000e+01,  3.54533500e+01,  1.82900000e+02, ...,\n",
       "         3.30000000e+00,  4.00000000e-02,  1.00000000e-02],\n",
       "       [ 5.70000000e+01,  3.17579263e+01,  1.54900000e+02, ...,\n",
       "         4.10000000e+00,  8.00000000e-02,  3.00000000e-02],\n",
       "       [ 5.50000000e+01,  3.07000504e+01,  1.80300000e+02, ...,\n",
       "         2.90000000e+00,  6.00000000e-02,  3.00000000e-02],\n",
       "       ...,\n",
       "       [ 5.90000000e+01,  4.35575259e+01,  1.75200000e+02, ...,\n",
       "         4.40000000e+00,  8.62876785e-02,  4.31255011e-02],\n",
       "       [ 8.30000000e+01,  2.42384437e+01,  1.75200000e+02, ...,\n",
       "         4.50000000e+00, -1.00000000e+00,  3.00000000e-02],\n",
       "       [ 2.00000000e+01,  1.64960676e+01,  1.72700000e+02, ...,\n",
       "         4.00000000e+00,  3.90000000e-01,  3.60000000e-01]])"
      ]
     },
     "execution_count": 15,
     "metadata": {},
     "output_type": "execute_result"
    }
   ],
   "source": [
    "num_pipeline = Pipeline([\n",
    "        (\"select_numeric\", DataFrameSelector(num_col)),\n",
    "        (\"imputer\", SimpleImputer(strategy=\"mean\")),\n",
    "    ])\n",
    "num_pipeline.fit_transform(X_train)"
   ]
  },
  {
   "cell_type": "markdown",
   "metadata": {},
   "source": [
    "*Now I used FeatureUnion for making a transformer list for Grid Search.*"
   ]
  },
  {
   "cell_type": "code",
   "execution_count": 16,
   "metadata": {},
   "outputs": [],
   "source": [
    "from sklearn.pipeline import FeatureUnion\n",
    "\n",
    "preprocess_pipeline = FeatureUnion(transformer_list=[\n",
    "        (\"num_pipeline\", num_pipeline),\n",
    "        (\"cat_one_hot_pipeline\", cat_one_hot_pipeline),\n",
    "        (\"cat_num_one_hot_pipeline\", cat_num_one_hot_pipeline)\n",
    "        \n",
    "    ])"
   ]
  },
  {
   "cell_type": "code",
   "execution_count": 17,
   "metadata": {},
   "outputs": [],
   "source": [
    "from sklearn.model_selection import StratifiedKFold\n",
    "from sklearn.preprocessing import StandardScaler\n",
    "\n",
    "kfold = StratifiedKFold(n_splits=5)"
   ]
  },
  {
   "cell_type": "code",
   "execution_count": 19,
   "metadata": {},
   "outputs": [],
   "source": [
    "from sklearn.model_selection import GridSearchCV\n",
    "from imblearn.metrics import classification_report_imbalanced\n",
    "from sklearn import  metrics"
   ]
  },
  {
   "cell_type": "markdown",
   "metadata": {},
   "source": [
    "*The data has a lot of dimensions, I used PCA to reduce for faster calculations.*"
   ]
  },
  {
   "cell_type": "code",
   "execution_count": 20,
   "metadata": {},
   "outputs": [],
   "source": [
    "salcer = StandardScaler()"
   ]
  },
  {
   "cell_type": "code",
   "execution_count": 21,
   "metadata": {},
   "outputs": [],
   "source": [
    "X_transform = preprocess_pipeline.fit_transform(X)"
   ]
  },
  {
   "cell_type": "code",
   "execution_count": 22,
   "metadata": {},
   "outputs": [],
   "source": [
    "X_scaled = salcer.fit_transform(X_transform)"
   ]
  },
  {
   "cell_type": "code",
   "execution_count": 23,
   "metadata": {
    "scrolled": true
   },
   "outputs": [],
   "source": [
    "from sklearn.decomposition import PCA\n",
    "pca=PCA()"
   ]
  },
  {
   "cell_type": "code",
   "execution_count": 24,
   "metadata": {},
   "outputs": [
    {
     "data": {
      "text/plain": [
       "[<matplotlib.lines.Line2D at 0x1e9018c99d0>]"
      ]
     },
     "execution_count": 24,
     "metadata": {},
     "output_type": "execute_result"
    },
    {
     "data": {
      "image/png": "[encoded data removed]",
      "text/plain": [
       "<Figure size 432x288 with 1 Axes>"
      ]
     },
     "metadata": {
      "needs_background": "light"
     },
     "output_type": "display_data"
    }
   ],
   "source": [
    "pca.fit_transform(X_scaled)\n",
    "explained_variance_s=pca.explained_variance_ratio_\n",
    "plt.plot(explained_variance_s)"
   ]
  },
  {
   "cell_type": "code",
   "execution_count": 82,
   "metadata": {},
   "outputs": [
    {
     "data": {
      "text/plain": [
       "array([0.09, 0.14, 0.19, 0.22, 0.25, 0.27, 0.29, 0.31, 0.33, 0.35, 0.37,\n",
       "       0.39, 0.41, 0.43, 0.45, 0.46, 0.47, 0.48, 0.49, 0.5 , 0.51, 0.52,\n",
       "       0.53, 0.54, 0.55, 0.56, 0.57, 0.58, 0.59, 0.6 , 0.61, 0.62, 0.63,\n",
       "       0.64, 0.65, 0.66, 0.67, 0.68, 0.69, 0.7 , 0.71, 0.72, 0.73, 0.74,\n",
       "       0.75, 0.76, 0.77, 0.78, 0.79, 0.8 , 0.81, 0.82, 0.83, 0.84, 0.85,\n",
       "       0.86, 0.87, 0.88, 0.89, 0.9 , 0.91, 0.92, 0.93, 0.94, 0.95, 0.96,\n",
       "       0.97, 0.98, 0.98, 0.98, 0.98, 0.98, 0.98, 0.98, 0.98, 0.98, 0.98,\n",
       "       0.98, 0.98, 0.98, 0.98, 0.98, 0.98, 0.98, 0.98, 0.98, 0.98, 0.98,\n",
       "       0.98, 0.98, 0.98, 0.98, 0.98, 0.98, 0.98, 0.98, 0.98, 0.98, 0.98,\n",
       "       0.98, 0.98, 0.98, 0.98, 0.98, 0.98, 0.98, 0.98, 0.98, 0.98, 0.98,\n",
       "       0.98, 0.98, 0.98, 0.98, 0.98, 0.98, 0.98, 0.98, 0.98, 0.98, 0.98,\n",
       "       0.98, 0.98, 0.98, 0.98, 0.98, 0.98, 0.98, 0.98, 0.98, 0.98, 0.98,\n",
       "       0.98, 0.98, 0.98, 0.98, 0.98, 0.98, 0.98, 0.98, 0.98, 0.98, 0.98,\n",
       "       0.98, 0.98, 0.98, 0.98, 0.98, 0.98])"
      ]
     },
     "execution_count": 82,
     "metadata": {},
     "output_type": "execute_result"
    }
   ],
   "source": [
    "explained_variance_s.round(2).cumsum()"
   ]
  },
  {
   "cell_type": "markdown",
   "metadata": {},
   "source": [
    "*I noticed that more than half of the variables did not make any improvement to the explained variation.*"
   ]
  },
  {
   "cell_type": "markdown",
   "metadata": {},
   "source": [
    "\n",
    "##### *First part of our modeling will be supervised learning also  with neutral network, then second part we will try use clustering for detection of mortality in hospital.*\n",
    "\n",
    "*For each model i will check score with oversampling and without*\n"
   ]
  },
  {
   "cell_type": "markdown",
   "metadata": {},
   "source": [
    "###### Supervised learning\n",
    "\n",
    "For supervised learning I will use the following models.\n",
    "\n",
    "* *LogisticRegression*\n",
    "* *LinearSVC*\n",
    "* *SVC*\n",
    "* *KNeighborsClassifier*\n",
    "* *DecisionTreeClassifier*\n",
    "* *RandomForestClassifier*\n",
    "* *BaggingClassifier*\n",
    "* *ExtraTreesClassifier*\n",
    "* *AdaBoostClassifier*\n",
    "* *GradientBoostingClassifier*\n",
    "* *VotingClassifier*\n",
    "* *xgboost.XGBClassifier*\n",
    "\n",
    "* *MLP Classifier*\n",
    "* *Sequential model*\n",
    "\n",
    "###### Unsupervised learning\n",
    "\n",
    "For unsupervised learning I will use the following models.\n",
    "\n",
    "* *KMeans*\n",
    "* *DBSCAN*\n",
    "* *MiniBatchKMeans*"
   ]
  },
  {
   "cell_type": "code",
   "execution_count": null,
   "metadata": {},
   "outputs": [],
   "source": []
  },
  {
   "cell_type": "markdown",
   "metadata": {},
   "source": [
    "# SUPERVISED LEARNING"
   ]
  },
  {
   "cell_type": "markdown",
   "metadata": {},
   "source": [
    "## LOGISTIC REGRESSION"
   ]
  },
  {
   "cell_type": "markdown",
   "metadata": {},
   "source": [
    "###### Logistic Regression baseline model and loop for how score metrics chagne when incrsiding pca components."
   ]
  },
  {
   "cell_type": "code",
   "execution_count": 26,
   "metadata": {
    "scrolled": false
   },
   "outputs": [
    {
     "name": "stdout",
     "output_type": "stream",
     "text": [
      "2\n",
      "precision_score: 0.6459016393442623\n",
      "recall_score: 0.08294736842105263\n",
      "f1_score: 0.14701492537313432\n",
      "accuracy_score: 0.916915025078142\n",
      "_____________________________________________________\n",
      "3\n",
      "precision_score: 0.6095076400679117\n",
      "recall_score: 0.1511578947368421\n",
      "f1_score: 0.24224021592442646\n",
      "accuracy_score: 0.9183688304136076\n",
      "_____________________________________________________\n",
      "5\n",
      "precision_score: 0.6151202749140894\n",
      "recall_score: 0.15073684210526317\n",
      "f1_score: 0.24213730131890432\n",
      "accuracy_score: 0.9185505560805408\n",
      "_____________________________________________________\n",
      "10\n",
      "precision_score: 0.6169934640522876\n",
      "recall_score: 0.19873684210526316\n",
      "f1_score: 0.3006369426751592\n",
      "accuracy_score: 0.9201860870829396\n",
      "_____________________________________________________\n",
      "20\n",
      "precision_score: 0.6238317757009346\n",
      "recall_score: 0.2248421052631579\n",
      "f1_score: 0.33054781801299904\n",
      "accuracy_score: 0.9213854764846987\n",
      "_____________________________________________________\n",
      "30\n",
      "precision_score: 0.6477916194790487\n",
      "recall_score: 0.24084210526315789\n",
      "f1_score: 0.35113566605279317\n",
      "accuracy_score: 0.923166388020644\n",
      "_____________________________________________________\n",
      "60\n",
      "precision_score: 0.6421404682274248\n",
      "recall_score: 0.24252631578947367\n",
      "f1_score: 0.3520782396088019\n",
      "accuracy_score: 0.9229483172203242\n",
      "_____________________________________________________\n",
      "140\n",
      "precision_score: 0.6532921810699589\n",
      "recall_score: 0.2673684210526316\n",
      "f1_score: 0.3794442784583209\n",
      "accuracy_score: 0.9245111579559497\n",
      "_____________________________________________________\n"
     ]
    }
   ],
   "source": [
    "from sklearn.linear_model import LogisticRegression\n",
    "for i in [2,3,5,10,20,30,60,140]:  \n",
    "    pipe = Pipeline([\n",
    "        ('preprocessing', preprocess_pipeline),    \n",
    "        ('scaler', StandardScaler()),\n",
    "        ('pca', PCA(n_components=i)),\n",
    "        ('classifier', LogisticRegression(max_iter=10000))])\n",
    "\n",
    "\n",
    "    param_grid = {}\n",
    "\n",
    "    grid_1 = GridSearchCV(pipe, param_grid, cv=kfold)\n",
    "\n",
    "    grid_1.fit(X_train, y_train) \n",
    "    \n",
    "    models = []\n",
    "    models.append((f'{i}', grid_1.best_estimator_))\n",
    "    for name, model in models:\n",
    "    \n",
    "        print(i)\n",
    "        print(\"precision_score: {}\".format(metrics.precision_score(y_test, model.predict(X_test)) ))\n",
    "        print(\"recall_score: {}\".format( metrics.recall_score(y_test, model.predict(X_test)) ))\n",
    "        print(\"f1_score: {}\".format( metrics.f1_score(y_test, model.predict(X_test)) ))\n",
    "        print(\"accuracy_score: {}\".format( metrics.accuracy_score(y_test, model.predict(X_test)) ))\n",
    "        print('_____________________________________________________')"
   ]
  },
  {
   "cell_type": "markdown",
   "metadata": {},
   "source": [
    "*I chose a component for PCA with a value of 20, to simplify modeling, which gives satisfactory values*"
   ]
  },
  {
   "cell_type": "markdown",
   "metadata": {},
   "source": [
    "###### Logistic Regression baseline model with oversampling"
   ]
  },
  {
   "cell_type": "code",
   "execution_count": 28,
   "metadata": {
    "scrolled": true
   },
   "outputs": [
    {
     "data": {
      "text/plain": [
       "GridSearchCV(cv=StratifiedKFold(n_splits=5, random_state=None, shuffle=False),\n",
       "             estimator=Pipeline(steps=[('preprocessing',\n",
       "                                        FeatureUnion(transformer_list=[('num_pipeline',\n",
       "                                                                        Pipeline(steps=[('select_numeric',\n",
       "                                                                                         DataFrameSelector(attribute_names=['age',\n",
       "                                                                                                                            'bmi',\n",
       "                                                                                                                            'height',\n",
       "                                                                                                                            'icu_id',\n",
       "                                                                                                                            'pre_icu_los_days',\n",
       "                                                                                                                            'weight',\n",
       "                                                                                                                            'apache_2_diagnosis',\n",
       "                                                                                                                            'apache_3j_diagnosis',\n",
       "                                                                                                                            'heart_rate_ap...\n",
       "                                                                                                                            'diabetes_mellitus',\n",
       "                                                                                                                            'hepatic_failure',\n",
       "                                                                                                                            'immunosuppression',\n",
       "                                                                                                                            'leukemia',\n",
       "                                                                                                                            'lymphoma',\n",
       "                                                                                                                            'solid_tumor_with_metastasis'])),\n",
       "                                                                                        ('imputer',\n",
       "                                                                                         MostFrequentImputer()),\n",
       "                                                                                        ('cat_encoder',\n",
       "                                                                                         OneHotEncoder(handle_unknown='ignore',\n",
       "                                                                                                       sparse=False))]))])),\n",
       "                                       ('scaler', StandardScaler()),\n",
       "                                       ('pca', PCA(n_components=20)),\n",
       "                                       ('over', SMOTE()),\n",
       "                                       ('classifier',\n",
       "                                        LogisticRegression(max_iter=10000))]),\n",
       "             param_grid={})"
      ]
     },
     "execution_count": 28,
     "metadata": {},
     "output_type": "execute_result"
    }
   ],
   "source": [
    "pipe = Pipeline([\n",
    "    ('preprocessing', preprocess_pipeline), \n",
    "    ('scaler', StandardScaler()), \n",
    "    ('pca', PCA(n_components=20)),\n",
    "    ('over', SMOTE()),\n",
    "    ('classifier', LogisticRegression(max_iter=10000))])\n",
    "\n",
    "\n",
    "param_grid = {}\n",
    "\n",
    "grid_2 = GridSearchCV(pipe, param_grid, cv=kfold)\n",
    "\n",
    "grid_2.fit(X_train, y_train) "
   ]
  },
  {
   "cell_type": "code",
   "execution_count": 29,
   "metadata": {},
   "outputs": [
    {
     "name": "stdout",
     "output_type": "stream",
     "text": [
      "BaselineLogisticRegression\n",
      "precision_score: 0.6532921810699589\n",
      "recall_score: 0.2673684210526316\n",
      "f1_score: 0.3794442784583209\n",
      "accuracy_score: 0.9245111579559497\n",
      "BaselineLogisticRegressionSMOTE\n",
      "precision_score: 0.2504263786242183\n",
      "recall_score: 0.7418947368421053\n",
      "f1_score: 0.3744554245032408\n",
      "accuracy_score: 0.7860361997528531\n"
     ]
    }
   ],
   "source": [
    "models.append(('BaselineLogisticRegressionSMOTE', grid_2.best_estimator_))\n",
    "\n",
    "\n",
    "precision_score = []\n",
    "recall_score = []\n",
    "f1_score = []\n",
    "accuracy_score = []\n",
    "for name, model in models:\n",
    "    print(name)\n",
    "    print(\"precision_score: {}\".format(metrics.precision_score(y_test, model.predict(X_test)) ))\n",
    "    print(\"recall_score: {}\".format( metrics.recall_score(y_test, model.predict(X_test)) ))\n",
    "    print(\"f1_score: {}\".format( metrics.f1_score(y_test, model.predict(X_test)) ))\n",
    "    print(\"accuracy_score: {}\".format( metrics.accuracy_score(y_test, model.predict(X_test)) ))\n",
    "    precision_score.append(metrics.precision_score(y_test, model.predict(X_test)))\n",
    "    recall_score.append(metrics.recall_score(y_test, model.predict(X_test)))\n",
    "    f1_score.append( metrics.f1_score(y_test, model.predict(X_test)))\n",
    "    accuracy_score.append(metrics.accuracy_score(y_test, model.predict(X_test)))"
   ]
  },
  {
   "cell_type": "markdown",
   "metadata": {},
   "source": [
    "## Random Forest Classifier"
   ]
  },
  {
   "cell_type": "markdown",
   "metadata": {},
   "source": [
    "###### Random Forest Classifier Baseline"
   ]
  },
  {
   "cell_type": "code",
   "execution_count": 30,
   "metadata": {
    "scrolled": true
   },
   "outputs": [
    {
     "data": {
      "text/plain": [
       "GridSearchCV(cv=StratifiedKFold(n_splits=5, random_state=None, shuffle=False),\n",
       "             estimator=Pipeline(steps=[('preprocessing',\n",
       "                                        FeatureUnion(transformer_list=[('num_pipeline',\n",
       "                                                                        Pipeline(steps=[('select_numeric',\n",
       "                                                                                         DataFrameSelector(attribute_names=['age',\n",
       "                                                                                                                            'bmi',\n",
       "                                                                                                                            'height',\n",
       "                                                                                                                            'icu_id',\n",
       "                                                                                                                            'pre_icu_los_days',\n",
       "                                                                                                                            'weight',\n",
       "                                                                                                                            'apache_2_diagnosis',\n",
       "                                                                                                                            'apache_3j_diagnosis',\n",
       "                                                                                                                            'heart_rate_ap...\n",
       "                                                                                                                            'aids',\n",
       "                                                                                                                            'cirrhosis',\n",
       "                                                                                                                            'diabetes_mellitus',\n",
       "                                                                                                                            'hepatic_failure',\n",
       "                                                                                                                            'immunosuppression',\n",
       "                                                                                                                            'leukemia',\n",
       "                                                                                                                            'lymphoma',\n",
       "                                                                                                                            'solid_tumor_with_metastasis'])),\n",
       "                                                                                        ('imputer',\n",
       "                                                                                         MostFrequentImputer()),\n",
       "                                                                                        ('cat_encoder',\n",
       "                                                                                         OneHotEncoder(handle_unknown='ignore',\n",
       "                                                                                                       sparse=False))]))])),\n",
       "                                       ('scaler', StandardScaler()),\n",
       "                                       ('pca', PCA(n_components=20)),\n",
       "                                       ('classifier',\n",
       "                                        RandomForestClassifier())]),\n",
       "             param_grid={})"
      ]
     },
     "execution_count": 30,
     "metadata": {},
     "output_type": "execute_result"
    }
   ],
   "source": [
    "from sklearn.ensemble import RandomForestClassifier\n",
    "\n",
    "pipe = Pipeline([\n",
    "    ('preprocessing', preprocess_pipeline), \n",
    "    ('scaler', StandardScaler()),\n",
    "    ('pca', PCA(n_components=20)),\n",
    "    ('classifier', RandomForestClassifier())])\n",
    "\n",
    "\n",
    "param_grid = {}\n",
    "\n",
    "grid_5 = GridSearchCV(pipe, param_grid, cv=kfold)\n",
    "\n",
    "grid_5.fit(X_train, y_train)\n"
   ]
  },
  {
   "cell_type": "code",
   "execution_count": 31,
   "metadata": {},
   "outputs": [
    {
     "name": "stdout",
     "output_type": "stream",
     "text": [
      "BaselineLogisticRegression\n",
      "precision_score: 0.6532921810699589\n",
      "recall_score: 0.2673684210526316\n",
      "f1_score: 0.3794442784583209\n",
      "accuracy_score: 0.9245111579559497\n",
      "BaselineLogisticRegressionSMOTE\n",
      "precision_score: 0.2504263786242183\n",
      "recall_score: 0.7418947368421053\n",
      "f1_score: 0.3744554245032408\n",
      "accuracy_score: 0.7860361997528531\n",
      "RandomForest_BS\n",
      "precision_score: 0.6929698708751794\n",
      "recall_score: 0.2033684210526316\n",
      "f1_score: 0.31445312500000006\n",
      "accuracy_score: 0.9234571490877371\n"
     ]
    }
   ],
   "source": [
    "models.append(('RandomForest_BS', grid_5.best_estimator_))\n",
    "\n",
    "precision_score = []\n",
    "recall_score = []\n",
    "f1_score = []\n",
    "accuracy_score = []\n",
    "for name, model in models:\n",
    "    print(name)\n",
    "    print(\"precision_score: {}\".format(metrics.precision_score(y_test, model.predict(X_test)) ))\n",
    "    print(\"recall_score: {}\".format( metrics.recall_score(y_test, model.predict(X_test)) ))\n",
    "    print(\"f1_score: {}\".format( metrics.f1_score(y_test, model.predict(X_test)) ))\n",
    "    print(\"accuracy_score: {}\".format( metrics.accuracy_score(y_test, model.predict(X_test)) ))\n",
    "    precision_score.append(metrics.precision_score(y_test, model.predict(X_test)))\n",
    "    recall_score.append(metrics.recall_score(y_test, model.predict(X_test)))\n",
    "    f1_score.append( metrics.f1_score(y_test, model.predict(X_test)))\n",
    "    accuracy_score.append(metrics.accuracy_score(y_test, model.predict(X_test)))"
   ]
  },
  {
   "cell_type": "markdown",
   "metadata": {},
   "source": [
    "###### Random Forest Classifier Baseline with oversampling"
   ]
  },
  {
   "cell_type": "code",
   "execution_count": 32,
   "metadata": {},
   "outputs": [
    {
     "data": {
      "text/plain": [
       "{}"
      ]
     },
     "execution_count": 32,
     "metadata": {},
     "output_type": "execute_result"
    }
   ],
   "source": [
    "pipe = Pipeline([\n",
    "    ('preprocessing', preprocess_pipeline), \n",
    "    ('scaler', StandardScaler()),\n",
    "    ('pca', PCA(n_components=20)),\n",
    "    ('over', SMOTE()),\n",
    "    ('classifier', RandomForestClassifier())])\n",
    "\n",
    "\n",
    "param_grid = {}\n",
    "    \n",
    "\n",
    "grid_6 = GridSearchCV(pipe, param_grid, cv=kfold)\n",
    "\n",
    "grid_6.fit(X_train, y_train)\n",
    "grid_6.best_params_"
   ]
  },
  {
   "cell_type": "code",
   "execution_count": 33,
   "metadata": {},
   "outputs": [
    {
     "name": "stdout",
     "output_type": "stream",
     "text": [
      "BaselineLogisticRegression\n",
      "precision_score: 0.6532921810699589\n",
      "recall_score: 0.2673684210526316\n",
      "f1_score: 0.3794442784583209\n",
      "accuracy_score: 0.9245111579559497\n",
      "BaselineLogisticRegressionSMOTE\n",
      "precision_score: 0.2504263786242183\n",
      "recall_score: 0.7418947368421053\n",
      "f1_score: 0.3744554245032408\n",
      "accuracy_score: 0.7860361997528531\n",
      "RandomForest_BS\n",
      "precision_score: 0.6929698708751794\n",
      "recall_score: 0.2033684210526316\n",
      "f1_score: 0.31445312500000006\n",
      "accuracy_score: 0.9234571490877371\n",
      "RandomForest_BS_SMOTE\n",
      "precision_score: 0.3717908082408875\n",
      "recall_score: 0.4938947368421053\n",
      "f1_score: 0.42423146473779383\n",
      "accuracy_score: 0.8842770952969398\n"
     ]
    }
   ],
   "source": [
    "models.append(('RandomForest_BS_SMOTE', grid_6.best_estimator_))\n",
    "\n",
    "precision_score = []\n",
    "recall_score = []\n",
    "f1_score = []\n",
    "accuracy_score = []\n",
    "for name, model in models:\n",
    "    print(name)\n",
    "    print(\"precision_score: {}\".format(metrics.precision_score(y_test, model.predict(X_test)) ))\n",
    "    print(\"recall_score: {}\".format( metrics.recall_score(y_test, model.predict(X_test)) ))\n",
    "    print(\"f1_score: {}\".format( metrics.f1_score(y_test, model.predict(X_test)) ))\n",
    "    print(\"accuracy_score: {}\".format( metrics.accuracy_score(y_test, model.predict(X_test)) ))\n",
    "    precision_score.append(metrics.precision_score(y_test, model.predict(X_test)))\n",
    "    recall_score.append(metrics.recall_score(y_test, model.predict(X_test)))\n",
    "    f1_score.append( metrics.f1_score(y_test, model.predict(X_test)))\n",
    "    accuracy_score.append(metrics.accuracy_score(y_test, model.predict(X_test)))"
   ]
  },
  {
   "cell_type": "markdown",
   "metadata": {},
   "source": [
    "# XGBClassifier"
   ]
  },
  {
   "cell_type": "markdown",
   "metadata": {},
   "source": [
    "##### XGBClassifier_GS"
   ]
  },
  {
   "cell_type": "code",
   "execution_count": 34,
   "metadata": {
    "scrolled": true
   },
   "outputs": [
    {
     "name": "stderr",
     "output_type": "stream",
     "text": [
      "C:\\Users\\Daniel\\anaconda3\\lib\\site-packages\\xgboost\\sklearn.py:1224: UserWarning: The use of label encoder in XGBClassifier is deprecated and will be removed in a future release. To remove this warning, do the following: 1) Pass option use_label_encoder=False when constructing XGBClassifier object; and 2) Encode your labels (y) as integers starting with 0, i.e. 0, 1, 2, ..., [num_class - 1].\n",
      "  warnings.warn(label_encoder_deprecation_msg, UserWarning)\n"
     ]
    },
    {
     "name": "stdout",
     "output_type": "stream",
     "text": [
      "[11:39:17] WARNING: C:/Users/Administrator/workspace/xgboost-win64_release_1.5.1/src/learner.cc:1115: Starting in XGBoost 1.3.0, the default evaluation metric used with the objective 'binary:logistic' was changed from 'error' to 'logloss'. Explicitly set eval_metric if you'd like to restore the old behavior.\n"
     ]
    },
    {
     "name": "stderr",
     "output_type": "stream",
     "text": [
      "C:\\Users\\Daniel\\anaconda3\\lib\\site-packages\\xgboost\\sklearn.py:1224: UserWarning: The use of label encoder in XGBClassifier is deprecated and will be removed in a future release. To remove this warning, do the following: 1) Pass option use_label_encoder=False when constructing XGBClassifier object; and 2) Encode your labels (y) as integers starting with 0, i.e. 0, 1, 2, ..., [num_class - 1].\n",
      "  warnings.warn(label_encoder_deprecation_msg, UserWarning)\n"
     ]
    },
    {
     "name": "stdout",
     "output_type": "stream",
     "text": [
      "[11:39:21] WARNING: C:/Users/Administrator/workspace/xgboost-win64_release_1.5.1/src/learner.cc:1115: Starting in XGBoost 1.3.0, the default evaluation metric used with the objective 'binary:logistic' was changed from 'error' to 'logloss'. Explicitly set eval_metric if you'd like to restore the old behavior.\n"
     ]
    },
    {
     "name": "stderr",
     "output_type": "stream",
     "text": [
      "C:\\Users\\Daniel\\anaconda3\\lib\\site-packages\\xgboost\\sklearn.py:1224: UserWarning: The use of label encoder in XGBClassifier is deprecated and will be removed in a future release. To remove this warning, do the following: 1) Pass option use_label_encoder=False when constructing XGBClassifier object; and 2) Encode your labels (y) as integers starting with 0, i.e. 0, 1, 2, ..., [num_class - 1].\n",
      "  warnings.warn(label_encoder_deprecation_msg, UserWarning)\n"
     ]
    },
    {
     "name": "stdout",
     "output_type": "stream",
     "text": [
      "[11:39:25] WARNING: C:/Users/Administrator/workspace/xgboost-win64_release_1.5.1/src/learner.cc:1115: Starting in XGBoost 1.3.0, the default evaluation metric used with the objective 'binary:logistic' was changed from 'error' to 'logloss'. Explicitly set eval_metric if you'd like to restore the old behavior.\n"
     ]
    },
    {
     "name": "stderr",
     "output_type": "stream",
     "text": [
      "C:\\Users\\Daniel\\anaconda3\\lib\\site-packages\\xgboost\\sklearn.py:1224: UserWarning: The use of label encoder in XGBClassifier is deprecated and will be removed in a future release. To remove this warning, do the following: 1) Pass option use_label_encoder=False when constructing XGBClassifier object; and 2) Encode your labels (y) as integers starting with 0, i.e. 0, 1, 2, ..., [num_class - 1].\n",
      "  warnings.warn(label_encoder_deprecation_msg, UserWarning)\n"
     ]
    },
    {
     "name": "stdout",
     "output_type": "stream",
     "text": [
      "[11:39:30] WARNING: C:/Users/Administrator/workspace/xgboost-win64_release_1.5.1/src/learner.cc:1115: Starting in XGBoost 1.3.0, the default evaluation metric used with the objective 'binary:logistic' was changed from 'error' to 'logloss'. Explicitly set eval_metric if you'd like to restore the old behavior.\n"
     ]
    },
    {
     "name": "stderr",
     "output_type": "stream",
     "text": [
      "C:\\Users\\Daniel\\anaconda3\\lib\\site-packages\\xgboost\\sklearn.py:1224: UserWarning: The use of label encoder in XGBClassifier is deprecated and will be removed in a future release. To remove this warning, do the following: 1) Pass option use_label_encoder=False when constructing XGBClassifier object; and 2) Encode your labels (y) as integers starting with 0, i.e. 0, 1, 2, ..., [num_class - 1].\n",
      "  warnings.warn(label_encoder_deprecation_msg, UserWarning)\n"
     ]
    },
    {
     "name": "stdout",
     "output_type": "stream",
     "text": [
      "[11:39:34] WARNING: C:/Users/Administrator/workspace/xgboost-win64_release_1.5.1/src/learner.cc:1115: Starting in XGBoost 1.3.0, the default evaluation metric used with the objective 'binary:logistic' was changed from 'error' to 'logloss'. Explicitly set eval_metric if you'd like to restore the old behavior.\n"
     ]
    },
    {
     "name": "stderr",
     "output_type": "stream",
     "text": [
      "C:\\Users\\Daniel\\anaconda3\\lib\\site-packages\\xgboost\\sklearn.py:1224: UserWarning: The use of label encoder in XGBClassifier is deprecated and will be removed in a future release. To remove this warning, do the following: 1) Pass option use_label_encoder=False when constructing XGBClassifier object; and 2) Encode your labels (y) as integers starting with 0, i.e. 0, 1, 2, ..., [num_class - 1].\n",
      "  warnings.warn(label_encoder_deprecation_msg, UserWarning)\n"
     ]
    },
    {
     "name": "stdout",
     "output_type": "stream",
     "text": [
      "[11:39:39] WARNING: C:/Users/Administrator/workspace/xgboost-win64_release_1.5.1/src/learner.cc:1115: Starting in XGBoost 1.3.0, the default evaluation metric used with the objective 'binary:logistic' was changed from 'error' to 'logloss'. Explicitly set eval_metric if you'd like to restore the old behavior.\n"
     ]
    },
    {
     "data": {
      "text/plain": [
       "GridSearchCV(cv=StratifiedKFold(n_splits=5, random_state=None, shuffle=False),\n",
       "             estimator=Pipeline(steps=[('preprocessing',\n",
       "                                        FeatureUnion(transformer_list=[('num_pipeline',\n",
       "                                                                        Pipeline(steps=[('select_numeric',\n",
       "                                                                                         DataFrameSelector(attribute_names=['age',\n",
       "                                                                                                                            'bmi',\n",
       "                                                                                                                            'height',\n",
       "                                                                                                                            'icu_id',\n",
       "                                                                                                                            'pre_icu_los_days',\n",
       "                                                                                                                            'weight',\n",
       "                                                                                                                            'apache_2_diagnosis',\n",
       "                                                                                                                            'apache_3j_diagnosis',\n",
       "                                                                                                                            'heart_rate_ap...\n",
       "                                                      interaction_constraints=None,\n",
       "                                                      learning_rate=None,\n",
       "                                                      max_delta_step=None,\n",
       "                                                      max_depth=None,\n",
       "                                                      min_child_weight=None,\n",
       "                                                      missing=nan,\n",
       "                                                      monotone_constraints=None,\n",
       "                                                      n_estimators=100,\n",
       "                                                      n_jobs=None,\n",
       "                                                      num_parallel_tree=None,\n",
       "                                                      predictor=None,\n",
       "                                                      random_state=None,\n",
       "                                                      reg_alpha=None,\n",
       "                                                      reg_lambda=None,\n",
       "                                                      scale_pos_weight=None,\n",
       "                                                      subsample=None,\n",
       "                                                      tree_method=None,\n",
       "                                                      validate_parameters=None,\n",
       "                                                      verbosity=None))]),\n",
       "             param_grid={})"
      ]
     },
     "execution_count": 34,
     "metadata": {},
     "output_type": "execute_result"
    }
   ],
   "source": [
    "from xgboost.sklearn import XGBClassifier\n",
    "pipe = Pipeline([\n",
    "    ('preprocessing', preprocess_pipeline), \n",
    "     ('scaler', StandardScaler()),\n",
    "    ('pca', PCA(n_components=20)),\n",
    "    ('classifier', XGBClassifier())])\n",
    "\n",
    "param_grid = { }    \n",
    "\n",
    "grid_10 = GridSearchCV(pipe, param_grid, cv=kfold)\n",
    "\n",
    "grid_10.fit(X_train, y_train)"
   ]
  },
  {
   "cell_type": "code",
   "execution_count": 35,
   "metadata": {},
   "outputs": [
    {
     "name": "stdout",
     "output_type": "stream",
     "text": [
      "BaselineLogisticRegression\n",
      "precision_score: 0.6532921810699589\n",
      "recall_score: 0.2673684210526316\n",
      "f1_score: 0.3794442784583209\n",
      "accuracy_score: 0.9245111579559497\n",
      "BaselineLogisticRegressionSMOTE\n",
      "precision_score: 0.2504263786242183\n",
      "recall_score: 0.7418947368421053\n",
      "f1_score: 0.3744554245032408\n",
      "accuracy_score: 0.7860361997528531\n",
      "RandomForest_BS\n",
      "precision_score: 0.6929698708751794\n",
      "recall_score: 0.2033684210526316\n",
      "f1_score: 0.31445312500000006\n",
      "accuracy_score: 0.9234571490877371\n",
      "RandomForest_BS_SMOTE\n",
      "precision_score: 0.3717908082408875\n",
      "recall_score: 0.4938947368421053\n",
      "f1_score: 0.42423146473779383\n",
      "accuracy_score: 0.8842770952969398\n",
      "XGBClassifier_GS\n",
      "precision_score: 0.6019512195121951\n",
      "recall_score: 0.2597894736842105\n",
      "f1_score: 0.36294117647058827\n",
      "accuracy_score: 0.9212764410845388\n"
     ]
    }
   ],
   "source": [
    "models.append(('XGBClassifier_GS', grid_10.best_estimator_))\n",
    "\n",
    "precision_score = []\n",
    "recall_score = []\n",
    "f1_score = []\n",
    "accuracy_score = []\n",
    "for name, model in models:\n",
    "    print(name)\n",
    "    print(\"precision_score: {}\".format(metrics.precision_score(y_test, model.predict(X_test)) ))\n",
    "    print(\"recall_score: {}\".format( metrics.recall_score(y_test, model.predict(X_test)) ))\n",
    "    print(\"f1_score: {}\".format( metrics.f1_score(y_test, model.predict(X_test)) ))\n",
    "    print(\"accuracy_score: {}\".format( metrics.accuracy_score(y_test, model.predict(X_test)) ))\n",
    "    precision_score.append(metrics.precision_score(y_test, model.predict(X_test)))\n",
    "    recall_score.append(metrics.recall_score(y_test, model.predict(X_test)))\n",
    "    f1_score.append( metrics.f1_score(y_test, model.predict(X_test)))\n",
    "    accuracy_score.append(metrics.accuracy_score(y_test, model.predict(X_test)))"
   ]
  },
  {
   "cell_type": "markdown",
   "metadata": {},
   "source": [
    "##### XGBClassifier_GS_SMOTE"
   ]
  },
  {
   "cell_type": "code",
   "execution_count": 36,
   "metadata": {
    "scrolled": true
   },
   "outputs": [
    {
     "name": "stderr",
     "output_type": "stream",
     "text": [
      "C:\\Users\\Daniel\\anaconda3\\lib\\site-packages\\xgboost\\sklearn.py:1224: UserWarning: The use of label encoder in XGBClassifier is deprecated and will be removed in a future release. To remove this warning, do the following: 1) Pass option use_label_encoder=False when constructing XGBClassifier object; and 2) Encode your labels (y) as integers starting with 0, i.e. 0, 1, 2, ..., [num_class - 1].\n",
      "  warnings.warn(label_encoder_deprecation_msg, UserWarning)\n"
     ]
    },
    {
     "name": "stdout",
     "output_type": "stream",
     "text": [
      "[11:40:01] WARNING: C:/Users/Administrator/workspace/xgboost-win64_release_1.5.1/src/learner.cc:1115: Starting in XGBoost 1.3.0, the default evaluation metric used with the objective 'binary:logistic' was changed from 'error' to 'logloss'. Explicitly set eval_metric if you'd like to restore the old behavior.\n"
     ]
    },
    {
     "name": "stderr",
     "output_type": "stream",
     "text": [
      "C:\\Users\\Daniel\\anaconda3\\lib\\site-packages\\xgboost\\sklearn.py:1224: UserWarning: The use of label encoder in XGBClassifier is deprecated and will be removed in a future release. To remove this warning, do the following: 1) Pass option use_label_encoder=False when constructing XGBClassifier object; and 2) Encode your labels (y) as integers starting with 0, i.e. 0, 1, 2, ..., [num_class - 1].\n",
      "  warnings.warn(label_encoder_deprecation_msg, UserWarning)\n"
     ]
    },
    {
     "name": "stdout",
     "output_type": "stream",
     "text": [
      "[11:40:09] WARNING: C:/Users/Administrator/workspace/xgboost-win64_release_1.5.1/src/learner.cc:1115: Starting in XGBoost 1.3.0, the default evaluation metric used with the objective 'binary:logistic' was changed from 'error' to 'logloss'. Explicitly set eval_metric if you'd like to restore the old behavior.\n"
     ]
    },
    {
     "name": "stderr",
     "output_type": "stream",
     "text": [
      "C:\\Users\\Daniel\\anaconda3\\lib\\site-packages\\xgboost\\sklearn.py:1224: UserWarning: The use of label encoder in XGBClassifier is deprecated and will be removed in a future release. To remove this warning, do the following: 1) Pass option use_label_encoder=False when constructing XGBClassifier object; and 2) Encode your labels (y) as integers starting with 0, i.e. 0, 1, 2, ..., [num_class - 1].\n",
      "  warnings.warn(label_encoder_deprecation_msg, UserWarning)\n"
     ]
    },
    {
     "name": "stdout",
     "output_type": "stream",
     "text": [
      "[11:40:18] WARNING: C:/Users/Administrator/workspace/xgboost-win64_release_1.5.1/src/learner.cc:1115: Starting in XGBoost 1.3.0, the default evaluation metric used with the objective 'binary:logistic' was changed from 'error' to 'logloss'. Explicitly set eval_metric if you'd like to restore the old behavior.\n"
     ]
    },
    {
     "name": "stderr",
     "output_type": "stream",
     "text": [
      "C:\\Users\\Daniel\\anaconda3\\lib\\site-packages\\xgboost\\sklearn.py:1224: UserWarning: The use of label encoder in XGBClassifier is deprecated and will be removed in a future release. To remove this warning, do the following: 1) Pass option use_label_encoder=False when constructing XGBClassifier object; and 2) Encode your labels (y) as integers starting with 0, i.e. 0, 1, 2, ..., [num_class - 1].\n",
      "  warnings.warn(label_encoder_deprecation_msg, UserWarning)\n"
     ]
    },
    {
     "name": "stdout",
     "output_type": "stream",
     "text": [
      "[11:40:26] WARNING: C:/Users/Administrator/workspace/xgboost-win64_release_1.5.1/src/learner.cc:1115: Starting in XGBoost 1.3.0, the default evaluation metric used with the objective 'binary:logistic' was changed from 'error' to 'logloss'. Explicitly set eval_metric if you'd like to restore the old behavior.\n"
     ]
    },
    {
     "name": "stderr",
     "output_type": "stream",
     "text": [
      "C:\\Users\\Daniel\\anaconda3\\lib\\site-packages\\xgboost\\sklearn.py:1224: UserWarning: The use of label encoder in XGBClassifier is deprecated and will be removed in a future release. To remove this warning, do the following: 1) Pass option use_label_encoder=False when constructing XGBClassifier object; and 2) Encode your labels (y) as integers starting with 0, i.e. 0, 1, 2, ..., [num_class - 1].\n",
      "  warnings.warn(label_encoder_deprecation_msg, UserWarning)\n"
     ]
    },
    {
     "name": "stdout",
     "output_type": "stream",
     "text": [
      "[11:40:34] WARNING: C:/Users/Administrator/workspace/xgboost-win64_release_1.5.1/src/learner.cc:1115: Starting in XGBoost 1.3.0, the default evaluation metric used with the objective 'binary:logistic' was changed from 'error' to 'logloss'. Explicitly set eval_metric if you'd like to restore the old behavior.\n"
     ]
    },
    {
     "name": "stderr",
     "output_type": "stream",
     "text": [
      "C:\\Users\\Daniel\\anaconda3\\lib\\site-packages\\xgboost\\sklearn.py:1224: UserWarning: The use of label encoder in XGBClassifier is deprecated and will be removed in a future release. To remove this warning, do the following: 1) Pass option use_label_encoder=False when constructing XGBClassifier object; and 2) Encode your labels (y) as integers starting with 0, i.e. 0, 1, 2, ..., [num_class - 1].\n",
      "  warnings.warn(label_encoder_deprecation_msg, UserWarning)\n"
     ]
    },
    {
     "name": "stdout",
     "output_type": "stream",
     "text": [
      "[11:40:43] WARNING: C:/Users/Administrator/workspace/xgboost-win64_release_1.5.1/src/learner.cc:1115: Starting in XGBoost 1.3.0, the default evaluation metric used with the objective 'binary:logistic' was changed from 'error' to 'logloss'. Explicitly set eval_metric if you'd like to restore the old behavior.\n"
     ]
    },
    {
     "data": {
      "text/plain": [
       "GridSearchCV(cv=StratifiedKFold(n_splits=5, random_state=None, shuffle=False),\n",
       "             estimator=Pipeline(steps=[('preprocessing',\n",
       "                                        FeatureUnion(transformer_list=[('num_pipeline',\n",
       "                                                                        Pipeline(steps=[('select_numeric',\n",
       "                                                                                         DataFrameSelector(attribute_names=['age',\n",
       "                                                                                                                            'bmi',\n",
       "                                                                                                                            'height',\n",
       "                                                                                                                            'icu_id',\n",
       "                                                                                                                            'pre_icu_los_days',\n",
       "                                                                                                                            'weight',\n",
       "                                                                                                                            'apache_2_diagnosis',\n",
       "                                                                                                                            'apache_3j_diagnosis',\n",
       "                                                                                                                            'heart_rate_ap...\n",
       "                                                      interaction_constraints=None,\n",
       "                                                      learning_rate=None,\n",
       "                                                      max_delta_step=None,\n",
       "                                                      max_depth=None,\n",
       "                                                      min_child_weight=None,\n",
       "                                                      missing=nan,\n",
       "                                                      monotone_constraints=None,\n",
       "                                                      n_estimators=100,\n",
       "                                                      n_jobs=None,\n",
       "                                                      num_parallel_tree=None,\n",
       "                                                      predictor=None,\n",
       "                                                      random_state=None,\n",
       "                                                      reg_alpha=None,\n",
       "                                                      reg_lambda=None,\n",
       "                                                      scale_pos_weight=None,\n",
       "                                                      subsample=None,\n",
       "                                                      tree_method=None,\n",
       "                                                      validate_parameters=None,\n",
       "                                                      verbosity=None))]),\n",
       "             param_grid={})"
      ]
     },
     "execution_count": 36,
     "metadata": {},
     "output_type": "execute_result"
    }
   ],
   "source": [
    "pipe = Pipeline([\n",
    "    ('preprocessing', preprocess_pipeline), \n",
    "    ('scaler', StandardScaler()),\n",
    "    ('over', SMOTE()),\n",
    "    ('pca', PCA(n_components=20)),\n",
    "    ('classifier', XGBClassifier())])\n",
    "\n",
    "param_grid =     {}\n",
    "\n",
    "grid_11 = GridSearchCV(pipe, param_grid, cv=kfold)\n",
    "\n",
    "grid_11.fit(X_train, y_train)"
   ]
  },
  {
   "cell_type": "code",
   "execution_count": 37,
   "metadata": {
    "scrolled": false
   },
   "outputs": [
    {
     "name": "stdout",
     "output_type": "stream",
     "text": [
      "BaselineLogisticRegression\n",
      "precision_score: 0.6532921810699589\n",
      "recall_score: 0.2673684210526316\n",
      "f1_score: 0.3794442784583209\n",
      "accuracy_score: 0.9245111579559497\n",
      "BaselineLogisticRegressionSMOTE\n",
      "precision_score: 0.2504263786242183\n",
      "recall_score: 0.7418947368421053\n",
      "f1_score: 0.3744554245032408\n",
      "accuracy_score: 0.7860361997528531\n",
      "RandomForest_BS\n",
      "precision_score: 0.6929698708751794\n",
      "recall_score: 0.2033684210526316\n",
      "f1_score: 0.31445312500000006\n",
      "accuracy_score: 0.9234571490877371\n",
      "RandomForest_BS_SMOTE\n",
      "precision_score: 0.3717908082408875\n",
      "recall_score: 0.4938947368421053\n",
      "f1_score: 0.42423146473779383\n",
      "accuracy_score: 0.8842770952969398\n",
      "XGBClassifier_GS\n",
      "precision_score: 0.6019512195121951\n",
      "recall_score: 0.2597894736842105\n",
      "f1_score: 0.36294117647058827\n",
      "accuracy_score: 0.9212764410845388\n",
      "XGBClassifier_GS_SMOTE\n",
      "precision_score: 0.2624511303756587\n",
      "recall_score: 0.6501052631578947\n",
      "f1_score: 0.37394042140954226\n",
      "accuracy_score: 0.8120956603910736\n"
     ]
    }
   ],
   "source": [
    "models.append(('XGBClassifier_GS_SMOTE', grid_11.best_estimator_))\n",
    "\n",
    "precision_score = []\n",
    "recall_score = []\n",
    "f1_score = []\n",
    "accuracy_score = []\n",
    "for name, model in models:\n",
    "    print(name)\n",
    "    print(\"precision_score: {}\".format(metrics.precision_score(y_test, model.predict(X_test)) ))\n",
    "    print(\"recall_score: {}\".format( metrics.recall_score(y_test, model.predict(X_test)) ))\n",
    "    print(\"f1_score: {}\".format( metrics.f1_score(y_test, model.predict(X_test)) ))\n",
    "    print(\"accuracy_score: {}\".format( metrics.accuracy_score(y_test, model.predict(X_test)) ))\n",
    "    precision_score.append(metrics.precision_score(y_test, model.predict(X_test)))\n",
    "    recall_score.append(metrics.recall_score(y_test, model.predict(X_test)))\n",
    "    f1_score.append( metrics.f1_score(y_test, model.predict(X_test)))\n",
    "    accuracy_score.append(metrics.accuracy_score(y_test, model.predict(X_test)))"
   ]
  },
  {
   "cell_type": "markdown",
   "metadata": {},
   "source": [
    "# Linerar SVC"
   ]
  },
  {
   "cell_type": "markdown",
   "metadata": {},
   "source": [
    "##### Linerar SVC GS"
   ]
  },
  {
   "cell_type": "code",
   "execution_count": 38,
   "metadata": {
    "scrolled": true
   },
   "outputs": [
    {
     "name": "stderr",
     "output_type": "stream",
     "text": [
      "C:\\Users\\Daniel\\anaconda3\\lib\\site-packages\\sklearn\\svm\\_base.py:1206: ConvergenceWarning: Liblinear failed to converge, increase the number of iterations.\n",
      "  warnings.warn(\n",
      "C:\\Users\\Daniel\\anaconda3\\lib\\site-packages\\sklearn\\svm\\_base.py:1206: ConvergenceWarning: Liblinear failed to converge, increase the number of iterations.\n",
      "  warnings.warn(\n",
      "C:\\Users\\Daniel\\anaconda3\\lib\\site-packages\\sklearn\\svm\\_base.py:1206: ConvergenceWarning: Liblinear failed to converge, increase the number of iterations.\n",
      "  warnings.warn(\n",
      "C:\\Users\\Daniel\\anaconda3\\lib\\site-packages\\sklearn\\svm\\_base.py:1206: ConvergenceWarning: Liblinear failed to converge, increase the number of iterations.\n",
      "  warnings.warn(\n",
      "C:\\Users\\Daniel\\anaconda3\\lib\\site-packages\\sklearn\\svm\\_base.py:1206: ConvergenceWarning: Liblinear failed to converge, increase the number of iterations.\n",
      "  warnings.warn(\n",
      "C:\\Users\\Daniel\\anaconda3\\lib\\site-packages\\sklearn\\svm\\_base.py:1206: ConvergenceWarning: Liblinear failed to converge, increase the number of iterations.\n",
      "  warnings.warn(\n"
     ]
    },
    {
     "data": {
      "text/plain": [
       "GridSearchCV(cv=StratifiedKFold(n_splits=5, random_state=None, shuffle=False),\n",
       "             estimator=Pipeline(steps=[('preprocessing',\n",
       "                                        FeatureUnion(transformer_list=[('num_pipeline',\n",
       "                                                                        Pipeline(steps=[('select_numeric',\n",
       "                                                                                         DataFrameSelector(attribute_names=['age',\n",
       "                                                                                                                            'bmi',\n",
       "                                                                                                                            'height',\n",
       "                                                                                                                            'icu_id',\n",
       "                                                                                                                            'pre_icu_los_days',\n",
       "                                                                                                                            'weight',\n",
       "                                                                                                                            'apache_2_diagnosis',\n",
       "                                                                                                                            'apache_3j_diagnosis',\n",
       "                                                                                                                            'heart_rate_ap...\n",
       "                                                                                                                            'ventilated_apache',\n",
       "                                                                                                                            'aids',\n",
       "                                                                                                                            'cirrhosis',\n",
       "                                                                                                                            'diabetes_mellitus',\n",
       "                                                                                                                            'hepatic_failure',\n",
       "                                                                                                                            'immunosuppression',\n",
       "                                                                                                                            'leukemia',\n",
       "                                                                                                                            'lymphoma',\n",
       "                                                                                                                            'solid_tumor_with_metastasis'])),\n",
       "                                                                                        ('imputer',\n",
       "                                                                                         MostFrequentImputer()),\n",
       "                                                                                        ('cat_encoder',\n",
       "                                                                                         OneHotEncoder(handle_unknown='ignore',\n",
       "                                                                                                       sparse=False))]))])),\n",
       "                                       ('scaler', StandardScaler()),\n",
       "                                       ('pca', PCA(n_components=20)),\n",
       "                                       ('classifier', LinearSVC())]),\n",
       "             param_grid={})"
      ]
     },
     "execution_count": 38,
     "metadata": {},
     "output_type": "execute_result"
    }
   ],
   "source": [
    "from sklearn.svm import LinearSVC\n",
    "pipe = Pipeline([\n",
    "    ('preprocessing', preprocess_pipeline), \n",
    "     ('scaler', StandardScaler()),\n",
    "    ('pca', PCA(n_components=20)),\n",
    "    ('classifier', LinearSVC())])\n",
    "\n",
    "param_grid = {}\n",
    "\n",
    "\n",
    "\n",
    "grid_12 = GridSearchCV(pipe, param_grid, cv=kfold)\n",
    "\n",
    "grid_12.fit(X_train, y_train)"
   ]
  },
  {
   "cell_type": "code",
   "execution_count": 39,
   "metadata": {
    "scrolled": true
   },
   "outputs": [
    {
     "name": "stdout",
     "output_type": "stream",
     "text": [
      "BaselineLogisticRegression\n",
      "precision_score: 0.6532921810699589\n",
      "recall_score: 0.2673684210526316\n",
      "f1_score: 0.3794442784583209\n",
      "accuracy_score: 0.9245111579559497\n",
      "BaselineLogisticRegressionSMOTE\n",
      "precision_score: 0.2504263786242183\n",
      "recall_score: 0.7418947368421053\n",
      "f1_score: 0.3744554245032408\n",
      "accuracy_score: 0.7860361997528531\n",
      "RandomForest_BS\n",
      "precision_score: 0.6929698708751794\n",
      "recall_score: 0.2033684210526316\n",
      "f1_score: 0.31445312500000006\n",
      "accuracy_score: 0.9234571490877371\n",
      "RandomForest_BS_SMOTE\n",
      "precision_score: 0.3717908082408875\n",
      "recall_score: 0.4938947368421053\n",
      "f1_score: 0.42423146473779383\n",
      "accuracy_score: 0.8842770952969398\n",
      "XGBClassifier_GS\n",
      "precision_score: 0.6019512195121951\n",
      "recall_score: 0.2597894736842105\n",
      "f1_score: 0.36294117647058827\n",
      "accuracy_score: 0.9212764410845388\n",
      "XGBClassifier_GS_SMOTE\n",
      "precision_score: 0.2624511303756587\n",
      "recall_score: 0.6501052631578947\n",
      "f1_score: 0.37394042140954226\n",
      "accuracy_score: 0.8120956603910736\n",
      "LinerarSVC_GS\n",
      "precision_score: 0.6964618249534451\n",
      "recall_score: 0.15747368421052632\n",
      "f1_score: 0.25686813186813184\n",
      "accuracy_score: 0.921349131351312\n"
     ]
    }
   ],
   "source": [
    "models.append(('LinerarSVC_GS', grid_12.best_estimator_))\n",
    "\n",
    "precision_score = []\n",
    "recall_score = []\n",
    "f1_score = []\n",
    "accuracy_score = []\n",
    "for name, model in models:\n",
    "    print(name)\n",
    "    print(\"precision_score: {}\".format(metrics.precision_score(y_test, model.predict(X_test)) ))\n",
    "    print(\"recall_score: {}\".format( metrics.recall_score(y_test, model.predict(X_test)) ))\n",
    "    print(\"f1_score: {}\".format( metrics.f1_score(y_test, model.predict(X_test)) ))\n",
    "    print(\"accuracy_score: {}\".format( metrics.accuracy_score(y_test, model.predict(X_test)) ))\n",
    "    precision_score.append(metrics.precision_score(y_test, model.predict(X_test)))\n",
    "    recall_score.append(metrics.recall_score(y_test, model.predict(X_test)))\n",
    "    f1_score.append( metrics.f1_score(y_test, model.predict(X_test)))\n",
    "    accuracy_score.append(metrics.accuracy_score(y_test, model.predict(X_test)))"
   ]
  },
  {
   "cell_type": "markdown",
   "metadata": {},
   "source": [
    "##### Linerar SVC GS with oversampling "
   ]
  },
  {
   "cell_type": "code",
   "execution_count": 40,
   "metadata": {
    "scrolled": true
   },
   "outputs": [
    {
     "name": "stderr",
     "output_type": "stream",
     "text": [
      "C:\\Users\\Daniel\\anaconda3\\lib\\site-packages\\sklearn\\svm\\_base.py:1206: ConvergenceWarning: Liblinear failed to converge, increase the number of iterations.\n",
      "  warnings.warn(\n",
      "C:\\Users\\Daniel\\anaconda3\\lib\\site-packages\\sklearn\\svm\\_base.py:1206: ConvergenceWarning: Liblinear failed to converge, increase the number of iterations.\n",
      "  warnings.warn(\n",
      "C:\\Users\\Daniel\\anaconda3\\lib\\site-packages\\sklearn\\svm\\_base.py:1206: ConvergenceWarning: Liblinear failed to converge, increase the number of iterations.\n",
      "  warnings.warn(\n",
      "C:\\Users\\Daniel\\anaconda3\\lib\\site-packages\\sklearn\\svm\\_base.py:1206: ConvergenceWarning: Liblinear failed to converge, increase the number of iterations.\n",
      "  warnings.warn(\n",
      "C:\\Users\\Daniel\\anaconda3\\lib\\site-packages\\sklearn\\svm\\_base.py:1206: ConvergenceWarning: Liblinear failed to converge, increase the number of iterations.\n",
      "  warnings.warn(\n",
      "C:\\Users\\Daniel\\anaconda3\\lib\\site-packages\\sklearn\\svm\\_base.py:1206: ConvergenceWarning: Liblinear failed to converge, increase the number of iterations.\n",
      "  warnings.warn(\n"
     ]
    },
    {
     "data": {
      "text/plain": [
       "GridSearchCV(cv=StratifiedKFold(n_splits=5, random_state=None, shuffle=False),\n",
       "             estimator=Pipeline(steps=[('preprocessing',\n",
       "                                        FeatureUnion(transformer_list=[('num_pipeline',\n",
       "                                                                        Pipeline(steps=[('select_numeric',\n",
       "                                                                                         DataFrameSelector(attribute_names=['age',\n",
       "                                                                                                                            'bmi',\n",
       "                                                                                                                            'height',\n",
       "                                                                                                                            'icu_id',\n",
       "                                                                                                                            'pre_icu_los_days',\n",
       "                                                                                                                            'weight',\n",
       "                                                                                                                            'apache_2_diagnosis',\n",
       "                                                                                                                            'apache_3j_diagnosis',\n",
       "                                                                                                                            'heart_rate_ap...\n",
       "                                                                                                                            'ventilated_apache',\n",
       "                                                                                                                            'aids',\n",
       "                                                                                                                            'cirrhosis',\n",
       "                                                                                                                            'diabetes_mellitus',\n",
       "                                                                                                                            'hepatic_failure',\n",
       "                                                                                                                            'immunosuppression',\n",
       "                                                                                                                            'leukemia',\n",
       "                                                                                                                            'lymphoma',\n",
       "                                                                                                                            'solid_tumor_with_metastasis'])),\n",
       "                                                                                        ('imputer',\n",
       "                                                                                         MostFrequentImputer()),\n",
       "                                                                                        ('cat_encoder',\n",
       "                                                                                         OneHotEncoder(handle_unknown='ignore',\n",
       "                                                                                                       sparse=False))]))])),\n",
       "                                       ('scaler', StandardScaler()),\n",
       "                                       ('pca', PCA(n_components=20)),\n",
       "                                       ('classifier', LinearSVC())]),\n",
       "             param_grid={})"
      ]
     },
     "execution_count": 40,
     "metadata": {},
     "output_type": "execute_result"
    }
   ],
   "source": [
    "pipe = Pipeline([\n",
    "    ('preprocessing', preprocess_pipeline), \n",
    "     ('scaler', StandardScaler()),\n",
    "    ('pca', PCA(n_components=20)),\n",
    "    ('classifier', LinearSVC())])\n",
    "\n",
    "param_grid = {}\n",
    "\n",
    "grid_13 = GridSearchCV(pipe, param_grid, cv=kfold)\n",
    "\n",
    "grid_13.fit(X_train, y_train)"
   ]
  },
  {
   "cell_type": "code",
   "execution_count": 41,
   "metadata": {
    "scrolled": true
   },
   "outputs": [
    {
     "name": "stdout",
     "output_type": "stream",
     "text": [
      "BaselineLogisticRegression\n",
      "precision_score: 0.6532921810699589\n",
      "recall_score: 0.2673684210526316\n",
      "f1_score: 0.3794442784583209\n",
      "accuracy_score: 0.9245111579559497\n",
      "BaselineLogisticRegressionSMOTE\n",
      "precision_score: 0.2504263786242183\n",
      "recall_score: 0.7418947368421053\n",
      "f1_score: 0.3744554245032408\n",
      "accuracy_score: 0.7860361997528531\n",
      "RandomForest_BS\n",
      "precision_score: 0.6929698708751794\n",
      "recall_score: 0.2033684210526316\n",
      "f1_score: 0.31445312500000006\n",
      "accuracy_score: 0.9234571490877371\n",
      "RandomForest_BS_SMOTE\n",
      "precision_score: 0.3717908082408875\n",
      "recall_score: 0.4938947368421053\n",
      "f1_score: 0.42423146473779383\n",
      "accuracy_score: 0.8842770952969398\n",
      "XGBClassifier_GS\n",
      "precision_score: 0.6019512195121951\n",
      "recall_score: 0.2597894736842105\n",
      "f1_score: 0.36294117647058827\n",
      "accuracy_score: 0.9212764410845388\n",
      "XGBClassifier_GS_SMOTE\n",
      "precision_score: 0.2624511303756587\n",
      "recall_score: 0.6501052631578947\n",
      "f1_score: 0.37394042140954226\n",
      "accuracy_score: 0.8120956603910736\n",
      "LinerarSVC_GS\n",
      "precision_score: 0.6964618249534451\n",
      "recall_score: 0.15747368421052632\n",
      "f1_score: 0.25686813186813184\n",
      "accuracy_score: 0.921349131351312\n",
      "LinerarSVC_GS_SMOTE\n",
      "precision_score: 0.700587084148728\n",
      "recall_score: 0.15073684210526317\n",
      "f1_score: 0.24809424809424813\n",
      "accuracy_score: 0.9211310605509923\n"
     ]
    }
   ],
   "source": [
    "models.append(('LinerarSVC_GS_SMOTE', grid_13.best_estimator_))\n",
    "\n",
    "precision_score = []\n",
    "recall_score = []\n",
    "f1_score = []\n",
    "accuracy_score = []\n",
    "for name, model in models:\n",
    "    print(name)\n",
    "    print(\"precision_score: {}\".format(metrics.precision_score(y_test, model.predict(X_test)) ))\n",
    "    print(\"recall_score: {}\".format( metrics.recall_score(y_test, model.predict(X_test)) ))\n",
    "    print(\"f1_score: {}\".format( metrics.f1_score(y_test, model.predict(X_test)) ))\n",
    "    print(\"accuracy_score: {}\".format( metrics.accuracy_score(y_test, model.predict(X_test)) ))\n",
    "    precision_score.append(metrics.precision_score(y_test, model.predict(X_test)))\n",
    "    recall_score.append(metrics.recall_score(y_test, model.predict(X_test)))\n",
    "    f1_score.append( metrics.f1_score(y_test, model.predict(X_test)))\n",
    "    accuracy_score.append(metrics.accuracy_score(y_test, model.predict(X_test)))"
   ]
  },
  {
   "cell_type": "markdown",
   "metadata": {},
   "source": [
    "# ExtraTreesClassifier"
   ]
  },
  {
   "cell_type": "markdown",
   "metadata": {},
   "source": [
    "##### ExtraTreesClassifier GS"
   ]
  },
  {
   "cell_type": "code",
   "execution_count": 42,
   "metadata": {
    "scrolled": true
   },
   "outputs": [
    {
     "data": {
      "text/plain": [
       "GridSearchCV(cv=StratifiedKFold(n_splits=5, random_state=None, shuffle=False),\n",
       "             estimator=Pipeline(steps=[('preprocessing',\n",
       "                                        FeatureUnion(transformer_list=[('num_pipeline',\n",
       "                                                                        Pipeline(steps=[('select_numeric',\n",
       "                                                                                         DataFrameSelector(attribute_names=['age',\n",
       "                                                                                                                            'bmi',\n",
       "                                                                                                                            'height',\n",
       "                                                                                                                            'icu_id',\n",
       "                                                                                                                            'pre_icu_los_days',\n",
       "                                                                                                                            'weight',\n",
       "                                                                                                                            'apache_2_diagnosis',\n",
       "                                                                                                                            'apache_3j_diagnosis',\n",
       "                                                                                                                            'heart_rate_ap...\n",
       "                                                                                                                            'aids',\n",
       "                                                                                                                            'cirrhosis',\n",
       "                                                                                                                            'diabetes_mellitus',\n",
       "                                                                                                                            'hepatic_failure',\n",
       "                                                                                                                            'immunosuppression',\n",
       "                                                                                                                            'leukemia',\n",
       "                                                                                                                            'lymphoma',\n",
       "                                                                                                                            'solid_tumor_with_metastasis'])),\n",
       "                                                                                        ('imputer',\n",
       "                                                                                         MostFrequentImputer()),\n",
       "                                                                                        ('cat_encoder',\n",
       "                                                                                         OneHotEncoder(handle_unknown='ignore',\n",
       "                                                                                                       sparse=False))]))])),\n",
       "                                       ('scaler', StandardScaler()),\n",
       "                                       ('pca', PCA(n_components=20)),\n",
       "                                       ('classifier', ExtraTreesClassifier())]),\n",
       "             param_grid={})"
      ]
     },
     "execution_count": 42,
     "metadata": {},
     "output_type": "execute_result"
    }
   ],
   "source": [
    "from sklearn.ensemble import ExtraTreesClassifier\n",
    "\n",
    "pipe = Pipeline([\n",
    "    ('preprocessing', preprocess_pipeline), \n",
    "    ('scaler', StandardScaler()),\n",
    "    ('pca', PCA(n_components=20)),\n",
    "    ('classifier', ExtraTreesClassifier())])\n",
    "\n",
    "\n",
    "param_grid = {}\n",
    "\n",
    "grid_14 = GridSearchCV(pipe, param_grid, cv=kfold)\n",
    "\n",
    "grid_14.fit(X_train, y_train)"
   ]
  },
  {
   "cell_type": "code",
   "execution_count": 43,
   "metadata": {
    "scrolled": true
   },
   "outputs": [
    {
     "name": "stdout",
     "output_type": "stream",
     "text": [
      "BaselineLogisticRegression\n",
      "precision_score: 0.6532921810699589\n",
      "recall_score: 0.2673684210526316\n",
      "f1_score: 0.3794442784583209\n",
      "accuracy_score: 0.9245111579559497\n",
      "BaselineLogisticRegressionSMOTE\n",
      "precision_score: 0.2504263786242183\n",
      "recall_score: 0.7418947368421053\n",
      "f1_score: 0.3744554245032408\n",
      "accuracy_score: 0.7860361997528531\n",
      "RandomForest_BS\n",
      "precision_score: 0.6929698708751794\n",
      "recall_score: 0.2033684210526316\n",
      "f1_score: 0.31445312500000006\n",
      "accuracy_score: 0.9234571490877371\n",
      "RandomForest_BS_SMOTE\n",
      "precision_score: 0.3717908082408875\n",
      "recall_score: 0.4938947368421053\n",
      "f1_score: 0.42423146473779383\n",
      "accuracy_score: 0.8842770952969398\n",
      "XGBClassifier_GS\n",
      "precision_score: 0.6019512195121951\n",
      "recall_score: 0.2597894736842105\n",
      "f1_score: 0.36294117647058827\n",
      "accuracy_score: 0.9212764410845388\n",
      "XGBClassifier_GS_SMOTE\n",
      "precision_score: 0.2624511303756587\n",
      "recall_score: 0.6501052631578947\n",
      "f1_score: 0.37394042140954226\n",
      "accuracy_score: 0.8120956603910736\n",
      "LinerarSVC_GS\n",
      "precision_score: 0.6964618249534451\n",
      "recall_score: 0.15747368421052632\n",
      "f1_score: 0.25686813186813184\n",
      "accuracy_score: 0.921349131351312\n",
      "LinerarSVC_GS_SMOTE\n",
      "precision_score: 0.700587084148728\n",
      "recall_score: 0.15073684210526317\n",
      "f1_score: 0.24809424809424813\n",
      "accuracy_score: 0.9211310605509923\n",
      "ExtraTreesClassifier_GS\n",
      "precision_score: 0.6962699822380106\n",
      "recall_score: 0.16505263157894737\n",
      "f1_score: 0.2668481960517359\n",
      "accuracy_score: 0.9217125826851784\n"
     ]
    }
   ],
   "source": [
    "models.append(('ExtraTreesClassifier_GS', grid_14.best_estimator_))\n",
    "\n",
    "precision_score = []\n",
    "recall_score = []\n",
    "f1_score = []\n",
    "accuracy_score = []\n",
    "for name, model in models:\n",
    "    print(name)\n",
    "    print(\"precision_score: {}\".format(metrics.precision_score(y_test, model.predict(X_test)) ))\n",
    "    print(\"recall_score: {}\".format( metrics.recall_score(y_test, model.predict(X_test)) ))\n",
    "    print(\"f1_score: {}\".format( metrics.f1_score(y_test, model.predict(X_test)) ))\n",
    "    print(\"accuracy_score: {}\".format( metrics.accuracy_score(y_test, model.predict(X_test)) ))\n",
    "    precision_score.append(metrics.precision_score(y_test, model.predict(X_test)))\n",
    "    recall_score.append(metrics.recall_score(y_test, model.predict(X_test)))\n",
    "    f1_score.append( metrics.f1_score(y_test, model.predict(X_test)))\n",
    "    accuracy_score.append(metrics.accuracy_score(y_test, model.predict(X_test)))"
   ]
  },
  {
   "cell_type": "markdown",
   "metadata": {},
   "source": [
    "###### ExtraTreesClassifier GS with oversampling"
   ]
  },
  {
   "cell_type": "code",
   "execution_count": 44,
   "metadata": {
    "scrolled": true
   },
   "outputs": [
    {
     "data": {
      "text/plain": [
       "GridSearchCV(cv=StratifiedKFold(n_splits=5, random_state=None, shuffle=False),\n",
       "             estimator=Pipeline(steps=[('preprocessing',\n",
       "                                        FeatureUnion(transformer_list=[('num_pipeline',\n",
       "                                                                        Pipeline(steps=[('select_numeric',\n",
       "                                                                                         DataFrameSelector(attribute_names=['age',\n",
       "                                                                                                                            'bmi',\n",
       "                                                                                                                            'height',\n",
       "                                                                                                                            'icu_id',\n",
       "                                                                                                                            'pre_icu_los_days',\n",
       "                                                                                                                            'weight',\n",
       "                                                                                                                            'apache_2_diagnosis',\n",
       "                                                                                                                            'apache_3j_diagnosis',\n",
       "                                                                                                                            'heart_rate_ap...\n",
       "                                                                                                                            'cirrhosis',\n",
       "                                                                                                                            'diabetes_mellitus',\n",
       "                                                                                                                            'hepatic_failure',\n",
       "                                                                                                                            'immunosuppression',\n",
       "                                                                                                                            'leukemia',\n",
       "                                                                                                                            'lymphoma',\n",
       "                                                                                                                            'solid_tumor_with_metastasis'])),\n",
       "                                                                                        ('imputer',\n",
       "                                                                                         MostFrequentImputer()),\n",
       "                                                                                        ('cat_encoder',\n",
       "                                                                                         OneHotEncoder(handle_unknown='ignore',\n",
       "                                                                                                       sparse=False))]))])),\n",
       "                                       ('scaler', StandardScaler()),\n",
       "                                       ('over', SMOTE()),\n",
       "                                       ('pca', PCA(n_components=20)),\n",
       "                                       ('classifier', ExtraTreesClassifier())]),\n",
       "             param_grid={})"
      ]
     },
     "execution_count": 44,
     "metadata": {},
     "output_type": "execute_result"
    }
   ],
   "source": [
    "pipe = Pipeline([\n",
    "    ('preprocessing', preprocess_pipeline), \n",
    "    ('scaler', StandardScaler()),\n",
    "    ('over', SMOTE()),\n",
    "    ('pca', PCA(n_components=20)),\n",
    "    ('classifier', ExtraTreesClassifier())])\n",
    "\n",
    "\n",
    "param_grid = {}\n",
    "                        \n",
    "'''            'classifier__max_depth': [1,2,5,10,20],\n",
    "            'classifier__min_samples_leaf': [1,2,5,10],\n",
    "            'classifier__min_samples_split': [1,2,5,10],}\n",
    "    '''\n",
    "\n",
    "grid_15 = GridSearchCV(pipe, param_grid, cv=kfold)\n",
    "\n",
    "grid_15.fit(X_train, y_train)"
   ]
  },
  {
   "cell_type": "code",
   "execution_count": 45,
   "metadata": {
    "scrolled": true
   },
   "outputs": [
    {
     "name": "stdout",
     "output_type": "stream",
     "text": [
      "BaselineLogisticRegression\n",
      "precision_score: 0.6532921810699589\n",
      "recall_score: 0.2673684210526316\n",
      "f1_score: 0.3794442784583209\n",
      "accuracy_score: 0.9245111579559497\n",
      "BaselineLogisticRegressionSMOTE\n",
      "precision_score: 0.2504263786242183\n",
      "recall_score: 0.7418947368421053\n",
      "f1_score: 0.3744554245032408\n",
      "accuracy_score: 0.7860361997528531\n",
      "RandomForest_BS\n",
      "precision_score: 0.6929698708751794\n",
      "recall_score: 0.2033684210526316\n",
      "f1_score: 0.31445312500000006\n",
      "accuracy_score: 0.9234571490877371\n",
      "RandomForest_BS_SMOTE\n",
      "precision_score: 0.3717908082408875\n",
      "recall_score: 0.4938947368421053\n",
      "f1_score: 0.42423146473779383\n",
      "accuracy_score: 0.8842770952969398\n",
      "XGBClassifier_GS\n",
      "precision_score: 0.6019512195121951\n",
      "recall_score: 0.2597894736842105\n",
      "f1_score: 0.36294117647058827\n",
      "accuracy_score: 0.9212764410845388\n",
      "XGBClassifier_GS_SMOTE\n",
      "precision_score: 0.2624511303756587\n",
      "recall_score: 0.6501052631578947\n",
      "f1_score: 0.37394042140954226\n",
      "accuracy_score: 0.8120956603910736\n",
      "LinerarSVC_GS\n",
      "precision_score: 0.6964618249534451\n",
      "recall_score: 0.15747368421052632\n",
      "f1_score: 0.25686813186813184\n",
      "accuracy_score: 0.921349131351312\n",
      "LinerarSVC_GS_SMOTE\n",
      "precision_score: 0.700587084148728\n",
      "recall_score: 0.15073684210526317\n",
      "f1_score: 0.24809424809424813\n",
      "accuracy_score: 0.9211310605509923\n",
      "ExtraTreesClassifier_GS\n",
      "precision_score: 0.6962699822380106\n",
      "recall_score: 0.16505263157894737\n",
      "f1_score: 0.2668481960517359\n",
      "accuracy_score: 0.9217125826851784\n",
      "ExtraTreesClassifier_GS_SMOTE\n",
      "precision_score: 0.3789938817131203\n",
      "recall_score: 0.4694736842105263\n",
      "f1_score: 0.41940944141433134\n",
      "accuracy_score: 0.8878025732354438\n"
     ]
    }
   ],
   "source": [
    "models.append(('ExtraTreesClassifier_GS_SMOTE', grid_15.best_estimator_))\n",
    "\n",
    "precision_score = []\n",
    "recall_score = []\n",
    "f1_score = []\n",
    "accuracy_score = []\n",
    "for name, model in models:\n",
    "    print(name)\n",
    "    print(\"precision_score: {}\".format(metrics.precision_score(y_test, model.predict(X_test)) ))\n",
    "    print(\"recall_score: {}\".format( metrics.recall_score(y_test, model.predict(X_test)) ))\n",
    "    print(\"f1_score: {}\".format( metrics.f1_score(y_test, model.predict(X_test)) ))\n",
    "    print(\"accuracy_score: {}\".format( metrics.accuracy_score(y_test, model.predict(X_test)) ))\n",
    "    precision_score.append(metrics.precision_score(y_test, model.predict(X_test)))\n",
    "    recall_score.append(metrics.recall_score(y_test, model.predict(X_test)))\n",
    "    f1_score.append( metrics.f1_score(y_test, model.predict(X_test)))\n",
    "    accuracy_score.append(metrics.accuracy_score(y_test, model.predict(X_test)))"
   ]
  },
  {
   "cell_type": "markdown",
   "metadata": {},
   "source": [
    "# Ada Boost Classifier"
   ]
  },
  {
   "cell_type": "markdown",
   "metadata": {},
   "source": [
    "##### AdaBoostClassifier GS"
   ]
  },
  {
   "cell_type": "code",
   "execution_count": 46,
   "metadata": {
    "scrolled": true
   },
   "outputs": [
    {
     "data": {
      "text/plain": [
       "GridSearchCV(cv=StratifiedKFold(n_splits=5, random_state=None, shuffle=False),\n",
       "             estimator=Pipeline(steps=[('preprocessing',\n",
       "                                        FeatureUnion(transformer_list=[('num_pipeline',\n",
       "                                                                        Pipeline(steps=[('select_numeric',\n",
       "                                                                                         DataFrameSelector(attribute_names=['age',\n",
       "                                                                                                                            'bmi',\n",
       "                                                                                                                            'height',\n",
       "                                                                                                                            'icu_id',\n",
       "                                                                                                                            'pre_icu_los_days',\n",
       "                                                                                                                            'weight',\n",
       "                                                                                                                            'apache_2_diagnosis',\n",
       "                                                                                                                            'apache_3j_diagnosis',\n",
       "                                                                                                                            'heart_rate_ap...\n",
       "                                                                                                                            'ventilated_apache',\n",
       "                                                                                                                            'aids',\n",
       "                                                                                                                            'cirrhosis',\n",
       "                                                                                                                            'diabetes_mellitus',\n",
       "                                                                                                                            'hepatic_failure',\n",
       "                                                                                                                            'immunosuppression',\n",
       "                                                                                                                            'leukemia',\n",
       "                                                                                                                            'lymphoma',\n",
       "                                                                                                                            'solid_tumor_with_metastasis'])),\n",
       "                                                                                        ('imputer',\n",
       "                                                                                         MostFrequentImputer()),\n",
       "                                                                                        ('cat_encoder',\n",
       "                                                                                         OneHotEncoder(handle_unknown='ignore',\n",
       "                                                                                                       sparse=False))]))])),\n",
       "                                       ('scaler', StandardScaler()),\n",
       "                                       ('pca', PCA(n_components=20)),\n",
       "                                       ('classifier', AdaBoostClassifier())]),\n",
       "             param_grid={})"
      ]
     },
     "execution_count": 46,
     "metadata": {},
     "output_type": "execute_result"
    }
   ],
   "source": [
    "from sklearn.ensemble import AdaBoostClassifier\n",
    "\n",
    "pipe = Pipeline([\n",
    "    ('preprocessing', preprocess_pipeline),\n",
    "    ('scaler', StandardScaler()),\n",
    "    ('pca', PCA(n_components=20)),\n",
    "    ('classifier',AdaBoostClassifier())\n",
    "])\n",
    "\n",
    "param_grid = {}\n",
    "\n",
    "\n",
    "grid_16 = GridSearchCV(pipe, param_grid, cv=kfold)\n",
    "\n",
    "grid_16.fit(X_train, y_train)\n"
   ]
  },
  {
   "cell_type": "code",
   "execution_count": 47,
   "metadata": {
    "scrolled": true
   },
   "outputs": [
    {
     "name": "stdout",
     "output_type": "stream",
     "text": [
      "BaselineLogisticRegression\n",
      "precision_score: 0.6532921810699589\n",
      "recall_score: 0.2673684210526316\n",
      "f1_score: 0.3794442784583209\n",
      "accuracy_score: 0.9245111579559497\n",
      "BaselineLogisticRegressionSMOTE\n",
      "precision_score: 0.2504263786242183\n",
      "recall_score: 0.7418947368421053\n",
      "f1_score: 0.3744554245032408\n",
      "accuracy_score: 0.7860361997528531\n",
      "RandomForest_BS\n",
      "precision_score: 0.6929698708751794\n",
      "recall_score: 0.2033684210526316\n",
      "f1_score: 0.31445312500000006\n",
      "accuracy_score: 0.9234571490877371\n",
      "RandomForest_BS_SMOTE\n",
      "precision_score: 0.3717908082408875\n",
      "recall_score: 0.4938947368421053\n",
      "f1_score: 0.42423146473779383\n",
      "accuracy_score: 0.8842770952969398\n",
      "XGBClassifier_GS\n",
      "precision_score: 0.6019512195121951\n",
      "recall_score: 0.2597894736842105\n",
      "f1_score: 0.36294117647058827\n",
      "accuracy_score: 0.9212764410845388\n",
      "XGBClassifier_GS_SMOTE\n",
      "precision_score: 0.2624511303756587\n",
      "recall_score: 0.6501052631578947\n",
      "f1_score: 0.37394042140954226\n",
      "accuracy_score: 0.8120956603910736\n",
      "LinerarSVC_GS\n",
      "precision_score: 0.6964618249534451\n",
      "recall_score: 0.15747368421052632\n",
      "f1_score: 0.25686813186813184\n",
      "accuracy_score: 0.921349131351312\n",
      "LinerarSVC_GS_SMOTE\n",
      "precision_score: 0.700587084148728\n",
      "recall_score: 0.15073684210526317\n",
      "f1_score: 0.24809424809424813\n",
      "accuracy_score: 0.9211310605509923\n",
      "ExtraTreesClassifier_GS\n",
      "precision_score: 0.6962699822380106\n",
      "recall_score: 0.16505263157894737\n",
      "f1_score: 0.2668481960517359\n",
      "accuracy_score: 0.9217125826851784\n",
      "ExtraTreesClassifier_GS_SMOTE\n",
      "precision_score: 0.3789938817131203\n",
      "recall_score: 0.4694736842105263\n",
      "f1_score: 0.41940944141433134\n",
      "accuracy_score: 0.8878025732354438\n",
      "AdaBoostClassifier_GS\n",
      "precision_score: 0.5923076923076923\n",
      "recall_score: 0.22694736842105262\n",
      "f1_score: 0.3281582952815829\n",
      "accuracy_score: 0.9197862906156865\n"
     ]
    }
   ],
   "source": [
    "models.append(('AdaBoostClassifier_GS', grid_16.best_estimator_))\n",
    "\n",
    "precision_score = []\n",
    "recall_score = []\n",
    "f1_score = []\n",
    "accuracy_score = []\n",
    "for name, model in models:\n",
    "    print(name)\n",
    "    print(\"precision_score: {}\".format(metrics.precision_score(y_test, model.predict(X_test)) ))\n",
    "    print(\"recall_score: {}\".format( metrics.recall_score(y_test, model.predict(X_test)) ))\n",
    "    print(\"f1_score: {}\".format( metrics.f1_score(y_test, model.predict(X_test)) ))\n",
    "    print(\"accuracy_score: {}\".format( metrics.accuracy_score(y_test, model.predict(X_test)) ))\n",
    "    precision_score.append(metrics.precision_score(y_test, model.predict(X_test)))\n",
    "    recall_score.append(metrics.recall_score(y_test, model.predict(X_test)))\n",
    "    f1_score.append( metrics.f1_score(y_test, model.predict(X_test)))\n",
    "    accuracy_score.append(metrics.accuracy_score(y_test, model.predict(X_test)))"
   ]
  },
  {
   "cell_type": "code",
   "execution_count": null,
   "metadata": {},
   "outputs": [],
   "source": []
  },
  {
   "cell_type": "markdown",
   "metadata": {},
   "source": [
    "##### AdaBoostClassifier GS with oversampling"
   ]
  },
  {
   "cell_type": "code",
   "execution_count": 48,
   "metadata": {
    "scrolled": true
   },
   "outputs": [
    {
     "data": {
      "text/plain": [
       "GridSearchCV(cv=StratifiedKFold(n_splits=5, random_state=None, shuffle=False),\n",
       "             estimator=Pipeline(steps=[('preprocessing',\n",
       "                                        FeatureUnion(transformer_list=[('num_pipeline',\n",
       "                                                                        Pipeline(steps=[('select_numeric',\n",
       "                                                                                         DataFrameSelector(attribute_names=['age',\n",
       "                                                                                                                            'bmi',\n",
       "                                                                                                                            'height',\n",
       "                                                                                                                            'icu_id',\n",
       "                                                                                                                            'pre_icu_los_days',\n",
       "                                                                                                                            'weight',\n",
       "                                                                                                                            'apache_2_diagnosis',\n",
       "                                                                                                                            'apache_3j_diagnosis',\n",
       "                                                                                                                            'heart_rate_ap...\n",
       "                                                                                                                            'cirrhosis',\n",
       "                                                                                                                            'diabetes_mellitus',\n",
       "                                                                                                                            'hepatic_failure',\n",
       "                                                                                                                            'immunosuppression',\n",
       "                                                                                                                            'leukemia',\n",
       "                                                                                                                            'lymphoma',\n",
       "                                                                                                                            'solid_tumor_with_metastasis'])),\n",
       "                                                                                        ('imputer',\n",
       "                                                                                         MostFrequentImputer()),\n",
       "                                                                                        ('cat_encoder',\n",
       "                                                                                         OneHotEncoder(handle_unknown='ignore',\n",
       "                                                                                                       sparse=False))]))])),\n",
       "                                       ('scaler', StandardScaler()),\n",
       "                                       ('pca', PCA(n_components=20)),\n",
       "                                       ('over', SMOTE()),\n",
       "                                       ('classifier', AdaBoostClassifier())]),\n",
       "             param_grid={})"
      ]
     },
     "execution_count": 48,
     "metadata": {},
     "output_type": "execute_result"
    }
   ],
   "source": [
    "pipe = Pipeline([\n",
    "    ('preprocessing', preprocess_pipeline),\n",
    "    ('scaler', StandardScaler()),\n",
    "    ('pca', PCA(n_components=20)),\n",
    "    ('over', SMOTE()),\n",
    "    ('classifier',AdaBoostClassifier())\n",
    "])\n",
    "\n",
    "param_grid = { }\n",
    "\n",
    "\n",
    "grid_17 = GridSearchCV(pipe, param_grid, cv=kfold)\n",
    "\n",
    "grid_17.fit(X_train, y_train)"
   ]
  },
  {
   "cell_type": "code",
   "execution_count": 49,
   "metadata": {
    "scrolled": true
   },
   "outputs": [
    {
     "name": "stdout",
     "output_type": "stream",
     "text": [
      "BaselineLogisticRegression\n",
      "precision_score: 0.6532921810699589\n",
      "recall_score: 0.2673684210526316\n",
      "f1_score: 0.3794442784583209\n",
      "accuracy_score: 0.9245111579559497\n",
      "BaselineLogisticRegressionSMOTE\n",
      "precision_score: 0.2504263786242183\n",
      "recall_score: 0.7418947368421053\n",
      "f1_score: 0.3744554245032408\n",
      "accuracy_score: 0.7860361997528531\n",
      "RandomForest_BS\n",
      "precision_score: 0.6929698708751794\n",
      "recall_score: 0.2033684210526316\n",
      "f1_score: 0.31445312500000006\n",
      "accuracy_score: 0.9234571490877371\n",
      "RandomForest_BS_SMOTE\n",
      "precision_score: 0.3717908082408875\n",
      "recall_score: 0.4938947368421053\n",
      "f1_score: 0.42423146473779383\n",
      "accuracy_score: 0.8842770952969398\n",
      "XGBClassifier_GS\n",
      "precision_score: 0.6019512195121951\n",
      "recall_score: 0.2597894736842105\n",
      "f1_score: 0.36294117647058827\n",
      "accuracy_score: 0.9212764410845388\n",
      "XGBClassifier_GS_SMOTE\n",
      "precision_score: 0.2624511303756587\n",
      "recall_score: 0.6501052631578947\n",
      "f1_score: 0.37394042140954226\n",
      "accuracy_score: 0.8120956603910736\n",
      "LinerarSVC_GS\n",
      "precision_score: 0.6964618249534451\n",
      "recall_score: 0.15747368421052632\n",
      "f1_score: 0.25686813186813184\n",
      "accuracy_score: 0.921349131351312\n",
      "LinerarSVC_GS_SMOTE\n",
      "precision_score: 0.700587084148728\n",
      "recall_score: 0.15073684210526317\n",
      "f1_score: 0.24809424809424813\n",
      "accuracy_score: 0.9211310605509923\n",
      "ExtraTreesClassifier_GS\n",
      "precision_score: 0.6962699822380106\n",
      "recall_score: 0.16505263157894737\n",
      "f1_score: 0.2668481960517359\n",
      "accuracy_score: 0.9217125826851784\n",
      "ExtraTreesClassifier_GS_SMOTE\n",
      "precision_score: 0.3789938817131203\n",
      "recall_score: 0.4694736842105263\n",
      "f1_score: 0.41940944141433134\n",
      "accuracy_score: 0.8878025732354438\n",
      "AdaBoostClassifier_GS\n",
      "precision_score: 0.5923076923076923\n",
      "recall_score: 0.22694736842105262\n",
      "f1_score: 0.3281582952815829\n",
      "accuracy_score: 0.9197862906156865\n",
      "AdaBoostClassifier_GS_SMOTE\n",
      "precision_score: 0.24197090310183914\n",
      "recall_score: 0.7423157894736843\n",
      "f1_score: 0.36497257012731604\n",
      "accuracy_score: 0.7770226066729665\n"
     ]
    }
   ],
   "source": [
    "models.append(('AdaBoostClassifier_GS_SMOTE', grid_17.best_estimator_))\n",
    "\n",
    "precision_score = []\n",
    "recall_score = []\n",
    "f1_score = []\n",
    "accuracy_score = []\n",
    "for name, model in models:\n",
    "    print(name)\n",
    "    print(\"precision_score: {}\".format(metrics.precision_score(y_test, model.predict(X_test)) ))\n",
    "    print(\"recall_score: {}\".format( metrics.recall_score(y_test, model.predict(X_test)) ))\n",
    "    print(\"f1_score: {}\".format( metrics.f1_score(y_test, model.predict(X_test)) ))\n",
    "    print(\"accuracy_score: {}\".format( metrics.accuracy_score(y_test, model.predict(X_test)) ))\n",
    "    precision_score.append(metrics.precision_score(y_test, model.predict(X_test)))\n",
    "    recall_score.append(metrics.recall_score(y_test, model.predict(X_test)))\n",
    "    f1_score.append( metrics.f1_score(y_test, model.predict(X_test)))\n",
    "    accuracy_score.append(metrics.accuracy_score(y_test, model.predict(X_test)))"
   ]
  },
  {
   "cell_type": "code",
   "execution_count": null,
   "metadata": {},
   "outputs": [],
   "source": []
  },
  {
   "cell_type": "markdown",
   "metadata": {},
   "source": [
    "# KNeighborsClassifier"
   ]
  },
  {
   "cell_type": "markdown",
   "metadata": {},
   "source": [
    "##### KNeighborsClassifier GS"
   ]
  },
  {
   "cell_type": "code",
   "execution_count": 50,
   "metadata": {
    "scrolled": true
   },
   "outputs": [
    {
     "data": {
      "text/plain": [
       "GridSearchCV(cv=StratifiedKFold(n_splits=5, random_state=None, shuffle=False),\n",
       "             estimator=Pipeline(steps=[('preprocessing',\n",
       "                                        FeatureUnion(transformer_list=[('num_pipeline',\n",
       "                                                                        Pipeline(steps=[('select_numeric',\n",
       "                                                                                         DataFrameSelector(attribute_names=['age',\n",
       "                                                                                                                            'bmi',\n",
       "                                                                                                                            'height',\n",
       "                                                                                                                            'icu_id',\n",
       "                                                                                                                            'pre_icu_los_days',\n",
       "                                                                                                                            'weight',\n",
       "                                                                                                                            'apache_2_diagnosis',\n",
       "                                                                                                                            'apache_3j_diagnosis',\n",
       "                                                                                                                            'heart_rate_ap...\n",
       "                                                                                                                            'aids',\n",
       "                                                                                                                            'cirrhosis',\n",
       "                                                                                                                            'diabetes_mellitus',\n",
       "                                                                                                                            'hepatic_failure',\n",
       "                                                                                                                            'immunosuppression',\n",
       "                                                                                                                            'leukemia',\n",
       "                                                                                                                            'lymphoma',\n",
       "                                                                                                                            'solid_tumor_with_metastasis'])),\n",
       "                                                                                        ('imputer',\n",
       "                                                                                         MostFrequentImputer()),\n",
       "                                                                                        ('cat_encoder',\n",
       "                                                                                         OneHotEncoder(handle_unknown='ignore',\n",
       "                                                                                                       sparse=False))]))])),\n",
       "                                       ('scaler', StandardScaler()),\n",
       "                                       ('pca', PCA(n_components=20)),\n",
       "                                       ('classifier', KNeighborsClassifier())]),\n",
       "             param_grid={})"
      ]
     },
     "execution_count": 50,
     "metadata": {},
     "output_type": "execute_result"
    }
   ],
   "source": [
    "from sklearn.neighbors import KNeighborsClassifier\n",
    "\n",
    "pipe = Pipeline([('preprocessing', preprocess_pipeline), \n",
    "                  ('scaler', StandardScaler()),\n",
    "                 ('pca', PCA(n_components=20)),\n",
    "                 ('classifier', KNeighborsClassifier())])\n",
    "\n",
    "param_grid = {}\n",
    "\n",
    "\n",
    "grid_18 = GridSearchCV(pipe, param_grid, cv=kfold)\n",
    "\n",
    "grid_18.fit(X_train, y_train)\n"
   ]
  },
  {
   "cell_type": "code",
   "execution_count": 51,
   "metadata": {
    "scrolled": true
   },
   "outputs": [
    {
     "name": "stdout",
     "output_type": "stream",
     "text": [
      "BaselineLogisticRegression\n",
      "precision_score: 0.6532921810699589\n",
      "recall_score: 0.2673684210526316\n",
      "f1_score: 0.3794442784583209\n",
      "accuracy_score: 0.9245111579559497\n",
      "BaselineLogisticRegressionSMOTE\n",
      "precision_score: 0.2504263786242183\n",
      "recall_score: 0.7418947368421053\n",
      "f1_score: 0.3744554245032408\n",
      "accuracy_score: 0.7860361997528531\n",
      "RandomForest_BS\n",
      "precision_score: 0.6929698708751794\n",
      "recall_score: 0.2033684210526316\n",
      "f1_score: 0.31445312500000006\n",
      "accuracy_score: 0.9234571490877371\n",
      "RandomForest_BS_SMOTE\n",
      "precision_score: 0.3717908082408875\n",
      "recall_score: 0.4938947368421053\n",
      "f1_score: 0.42423146473779383\n",
      "accuracy_score: 0.8842770952969398\n",
      "XGBClassifier_GS\n",
      "precision_score: 0.6019512195121951\n",
      "recall_score: 0.2597894736842105\n",
      "f1_score: 0.36294117647058827\n",
      "accuracy_score: 0.9212764410845388\n",
      "XGBClassifier_GS_SMOTE\n",
      "precision_score: 0.2624511303756587\n",
      "recall_score: 0.6501052631578947\n",
      "f1_score: 0.37394042140954226\n",
      "accuracy_score: 0.8120956603910736\n",
      "LinerarSVC_GS\n",
      "precision_score: 0.6964618249534451\n",
      "recall_score: 0.15747368421052632\n",
      "f1_score: 0.25686813186813184\n",
      "accuracy_score: 0.921349131351312\n",
      "LinerarSVC_GS_SMOTE\n",
      "precision_score: 0.700587084148728\n",
      "recall_score: 0.15073684210526317\n",
      "f1_score: 0.24809424809424813\n",
      "accuracy_score: 0.9211310605509923\n",
      "ExtraTreesClassifier_GS\n",
      "precision_score: 0.6962699822380106\n",
      "recall_score: 0.16505263157894737\n",
      "f1_score: 0.2668481960517359\n",
      "accuracy_score: 0.9217125826851784\n",
      "ExtraTreesClassifier_GS_SMOTE\n",
      "precision_score: 0.3789938817131203\n",
      "recall_score: 0.4694736842105263\n",
      "f1_score: 0.41940944141433134\n",
      "accuracy_score: 0.8878025732354438\n",
      "AdaBoostClassifier_GS\n",
      "precision_score: 0.5923076923076923\n",
      "recall_score: 0.22694736842105262\n",
      "f1_score: 0.3281582952815829\n",
      "accuracy_score: 0.9197862906156865\n",
      "AdaBoostClassifier_GS_SMOTE\n",
      "precision_score: 0.24197090310183914\n",
      "recall_score: 0.7423157894736843\n",
      "f1_score: 0.36497257012731604\n",
      "accuracy_score: 0.7770226066729665\n",
      "KNeighborsClassifier_GS\n",
      "precision_score: 0.5339470655926352\n",
      "recall_score: 0.19536842105263158\n",
      "f1_score: 0.28606658446362515\n",
      "accuracy_score: 0.9158246710765429\n"
     ]
    }
   ],
   "source": [
    "models.append(('KNeighborsClassifier_GS', grid_18.best_estimator_))\n",
    "\n",
    "\n",
    "\n",
    "precision_score = []\n",
    "recall_score = []\n",
    "f1_score = []\n",
    "accuracy_score = []\n",
    "for name, model in models:\n",
    "    print(name)\n",
    "    print(\"precision_score: {}\".format(metrics.precision_score(y_test, model.predict(X_test)) ))\n",
    "    print(\"recall_score: {}\".format( metrics.recall_score(y_test, model.predict(X_test)) ))\n",
    "    print(\"f1_score: {}\".format( metrics.f1_score(y_test, model.predict(X_test)) ))\n",
    "    print(\"accuracy_score: {}\".format( metrics.accuracy_score(y_test, model.predict(X_test)) ))\n",
    "    precision_score.append(metrics.precision_score(y_test, model.predict(X_test)))\n",
    "    recall_score.append(metrics.recall_score(y_test, model.predict(X_test)))\n",
    "    f1_score.append( metrics.f1_score(y_test, model.predict(X_test)))\n",
    "    accuracy_score.append(metrics.accuracy_score(y_test, model.predict(X_test)))"
   ]
  },
  {
   "cell_type": "code",
   "execution_count": null,
   "metadata": {},
   "outputs": [],
   "source": []
  },
  {
   "cell_type": "markdown",
   "metadata": {},
   "source": [
    "##### KNeighborsClassifier GS with oversampling"
   ]
  },
  {
   "cell_type": "code",
   "execution_count": 52,
   "metadata": {
    "scrolled": true
   },
   "outputs": [
    {
     "data": {
      "text/plain": [
       "GridSearchCV(cv=StratifiedKFold(n_splits=5, random_state=None, shuffle=False),\n",
       "             estimator=Pipeline(steps=[('preprocessing',\n",
       "                                        FeatureUnion(transformer_list=[('num_pipeline',\n",
       "                                                                        Pipeline(steps=[('select_numeric',\n",
       "                                                                                         DataFrameSelector(attribute_names=['age',\n",
       "                                                                                                                            'bmi',\n",
       "                                                                                                                            'height',\n",
       "                                                                                                                            'icu_id',\n",
       "                                                                                                                            'pre_icu_los_days',\n",
       "                                                                                                                            'weight',\n",
       "                                                                                                                            'apache_2_diagnosis',\n",
       "                                                                                                                            'apache_3j_diagnosis',\n",
       "                                                                                                                            'heart_rate_ap...\n",
       "                                                                                                                            'cirrhosis',\n",
       "                                                                                                                            'diabetes_mellitus',\n",
       "                                                                                                                            'hepatic_failure',\n",
       "                                                                                                                            'immunosuppression',\n",
       "                                                                                                                            'leukemia',\n",
       "                                                                                                                            'lymphoma',\n",
       "                                                                                                                            'solid_tumor_with_metastasis'])),\n",
       "                                                                                        ('imputer',\n",
       "                                                                                         MostFrequentImputer()),\n",
       "                                                                                        ('cat_encoder',\n",
       "                                                                                         OneHotEncoder(handle_unknown='ignore',\n",
       "                                                                                                       sparse=False))]))])),\n",
       "                                       ('scaler', StandardScaler()),\n",
       "                                       ('over', SMOTE()),\n",
       "                                       ('pca', PCA(n_components=20)),\n",
       "                                       ('classifier', KNeighborsClassifier())]),\n",
       "             param_grid={})"
      ]
     },
     "execution_count": 52,
     "metadata": {},
     "output_type": "execute_result"
    }
   ],
   "source": [
    "pipe = Pipeline([('preprocessing', preprocess_pipeline), \n",
    "                  ('scaler', StandardScaler()),\n",
    "                 ('over', SMOTE()),\n",
    "                 ('pca', PCA(n_components=20)),\n",
    "                 ('classifier', KNeighborsClassifier())])\n",
    "\n",
    "param_grid = {}\n",
    "\n",
    "\n",
    "grid_19 = GridSearchCV(pipe, param_grid, cv=kfold)\n",
    "\n",
    "grid_19.fit(X_train, y_train)"
   ]
  },
  {
   "cell_type": "code",
   "execution_count": 53,
   "metadata": {
    "scrolled": true
   },
   "outputs": [
    {
     "name": "stdout",
     "output_type": "stream",
     "text": [
      "BaselineLogisticRegression\n",
      "precision_score: 0.6532921810699589\n",
      "recall_score: 0.2673684210526316\n",
      "f1_score: 0.3794442784583209\n",
      "accuracy_score: 0.9245111579559497\n",
      "BaselineLogisticRegressionSMOTE\n",
      "precision_score: 0.2504263786242183\n",
      "recall_score: 0.7418947368421053\n",
      "f1_score: 0.3744554245032408\n",
      "accuracy_score: 0.7860361997528531\n",
      "RandomForest_BS\n",
      "precision_score: 0.6929698708751794\n",
      "recall_score: 0.2033684210526316\n",
      "f1_score: 0.31445312500000006\n",
      "accuracy_score: 0.9234571490877371\n",
      "RandomForest_BS_SMOTE\n",
      "precision_score: 0.3717908082408875\n",
      "recall_score: 0.4938947368421053\n",
      "f1_score: 0.42423146473779383\n",
      "accuracy_score: 0.8842770952969398\n",
      "XGBClassifier_GS\n",
      "precision_score: 0.6019512195121951\n",
      "recall_score: 0.2597894736842105\n",
      "f1_score: 0.36294117647058827\n",
      "accuracy_score: 0.9212764410845388\n",
      "XGBClassifier_GS_SMOTE\n",
      "precision_score: 0.2624511303756587\n",
      "recall_score: 0.6501052631578947\n",
      "f1_score: 0.37394042140954226\n",
      "accuracy_score: 0.8120956603910736\n",
      "LinerarSVC_GS\n",
      "precision_score: 0.6964618249534451\n",
      "recall_score: 0.15747368421052632\n",
      "f1_score: 0.25686813186813184\n",
      "accuracy_score: 0.921349131351312\n",
      "LinerarSVC_GS_SMOTE\n",
      "precision_score: 0.700587084148728\n",
      "recall_score: 0.15073684210526317\n",
      "f1_score: 0.24809424809424813\n",
      "accuracy_score: 0.9211310605509923\n",
      "ExtraTreesClassifier_GS\n",
      "precision_score: 0.6962699822380106\n",
      "recall_score: 0.16505263157894737\n",
      "f1_score: 0.2668481960517359\n",
      "accuracy_score: 0.9217125826851784\n",
      "ExtraTreesClassifier_GS_SMOTE\n",
      "precision_score: 0.3789938817131203\n",
      "recall_score: 0.4694736842105263\n",
      "f1_score: 0.41940944141433134\n",
      "accuracy_score: 0.8878025732354438\n",
      "AdaBoostClassifier_GS\n",
      "precision_score: 0.5923076923076923\n",
      "recall_score: 0.22694736842105262\n",
      "f1_score: 0.3281582952815829\n",
      "accuracy_score: 0.9197862906156865\n",
      "AdaBoostClassifier_GS_SMOTE\n",
      "precision_score: 0.24197090310183914\n",
      "recall_score: 0.7423157894736843\n",
      "f1_score: 0.36497257012731604\n",
      "accuracy_score: 0.7770226066729665\n",
      "KNeighborsClassifier_GS\n",
      "precision_score: 0.5339470655926352\n",
      "recall_score: 0.19536842105263158\n",
      "f1_score: 0.28606658446362515\n",
      "accuracy_score: 0.9158246710765429\n",
      "KNeighborsClassifier_GS_SMOTE\n",
      "precision_score: 0.22233651726671566\n",
      "recall_score: 0.6370526315789473\n",
      "f1_score: 0.32962962962962966\n",
      "accuracy_score: 0.7763320491386203\n"
     ]
    }
   ],
   "source": [
    "models.append(('KNeighborsClassifier_GS_SMOTE', grid_19.best_estimator_))\n",
    "\n",
    "\n",
    "\n",
    "precision_score = []\n",
    "recall_score = []\n",
    "f1_score = []\n",
    "accuracy_score = []\n",
    "for name, model in models:\n",
    "    print(name)\n",
    "    print(\"precision_score: {}\".format(metrics.precision_score(y_test, model.predict(X_test)) ))\n",
    "    print(\"recall_score: {}\".format( metrics.recall_score(y_test, model.predict(X_test)) ))\n",
    "    print(\"f1_score: {}\".format( metrics.f1_score(y_test, model.predict(X_test)) ))\n",
    "    print(\"accuracy_score: {}\".format( metrics.accuracy_score(y_test, model.predict(X_test)) ))\n",
    "    precision_score.append(metrics.precision_score(y_test, model.predict(X_test)))\n",
    "    recall_score.append(metrics.recall_score(y_test, model.predict(X_test)))\n",
    "    f1_score.append( metrics.f1_score(y_test, model.predict(X_test)))\n",
    "    accuracy_score.append(metrics.accuracy_score(y_test, model.predict(X_test)))"
   ]
  },
  {
   "cell_type": "code",
   "execution_count": null,
   "metadata": {},
   "outputs": [],
   "source": []
  },
  {
   "cell_type": "markdown",
   "metadata": {},
   "source": [
    "## GradientBoostingClassifier"
   ]
  },
  {
   "cell_type": "markdown",
   "metadata": {},
   "source": [
    "##### GradientBoostingClassifier GS"
   ]
  },
  {
   "cell_type": "code",
   "execution_count": 55,
   "metadata": {
    "scrolled": true
   },
   "outputs": [
    {
     "data": {
      "text/plain": [
       "GridSearchCV(cv=StratifiedKFold(n_splits=5, random_state=None, shuffle=False),\n",
       "             estimator=Pipeline(steps=[('preprocessing',\n",
       "                                        FeatureUnion(transformer_list=[('num_pipeline',\n",
       "                                                                        Pipeline(steps=[('select_numeric',\n",
       "                                                                                         DataFrameSelector(attribute_names=['age',\n",
       "                                                                                                                            'bmi',\n",
       "                                                                                                                            'height',\n",
       "                                                                                                                            'icu_id',\n",
       "                                                                                                                            'pre_icu_los_days',\n",
       "                                                                                                                            'weight',\n",
       "                                                                                                                            'apache_2_diagnosis',\n",
       "                                                                                                                            'apache_3j_diagnosis',\n",
       "                                                                                                                            'heart_rate_ap...\n",
       "                                                                                                                            'cirrhosis',\n",
       "                                                                                                                            'diabetes_mellitus',\n",
       "                                                                                                                            'hepatic_failure',\n",
       "                                                                                                                            'immunosuppression',\n",
       "                                                                                                                            'leukemia',\n",
       "                                                                                                                            'lymphoma',\n",
       "                                                                                                                            'solid_tumor_with_metastasis'])),\n",
       "                                                                                        ('imputer',\n",
       "                                                                                         MostFrequentImputer()),\n",
       "                                                                                        ('cat_encoder',\n",
       "                                                                                         OneHotEncoder(handle_unknown='ignore',\n",
       "                                                                                                       sparse=False))]))])),\n",
       "                                       ('scaler', StandardScaler()),\n",
       "                                       ('pca', PCA(n_components=20)),\n",
       "                                       ('classifier',\n",
       "                                        GradientBoostingClassifier())]),\n",
       "             param_grid={})"
      ]
     },
     "execution_count": 55,
     "metadata": {},
     "output_type": "execute_result"
    }
   ],
   "source": [
    "from sklearn.ensemble import GradientBoostingClassifier\n",
    "\n",
    "pipe = Pipeline([('preprocessing', preprocess_pipeline), \n",
    "                  ('scaler', StandardScaler()),\n",
    "                 ('pca', PCA(n_components=20)),\n",
    "                 ('classifier', GradientBoostingClassifier())])\n",
    "\n",
    "param_grid = {}\n",
    "\n",
    "grid_20 = GridSearchCV(pipe, param_grid, cv=kfold)\n",
    "\n",
    "grid_20.fit(X_train, y_train)"
   ]
  },
  {
   "cell_type": "code",
   "execution_count": 56,
   "metadata": {
    "scrolled": true
   },
   "outputs": [
    {
     "name": "stdout",
     "output_type": "stream",
     "text": [
      "BaselineLogisticRegression\n",
      "precision_score: 0.6532921810699589\n",
      "recall_score: 0.2673684210526316\n",
      "f1_score: 0.3794442784583209\n",
      "accuracy_score: 0.9245111579559497\n",
      "BaselineLogisticRegressionSMOTE\n",
      "precision_score: 0.2504263786242183\n",
      "recall_score: 0.7418947368421053\n",
      "f1_score: 0.3744554245032408\n",
      "accuracy_score: 0.7860361997528531\n",
      "RandomForest_BS\n",
      "precision_score: 0.6929698708751794\n",
      "recall_score: 0.2033684210526316\n",
      "f1_score: 0.31445312500000006\n",
      "accuracy_score: 0.9234571490877371\n",
      "RandomForest_BS_SMOTE\n",
      "precision_score: 0.3717908082408875\n",
      "recall_score: 0.4938947368421053\n",
      "f1_score: 0.42423146473779383\n",
      "accuracy_score: 0.8842770952969398\n",
      "XGBClassifier_GS\n",
      "precision_score: 0.6019512195121951\n",
      "recall_score: 0.2597894736842105\n",
      "f1_score: 0.36294117647058827\n",
      "accuracy_score: 0.9212764410845388\n",
      "XGBClassifier_GS_SMOTE\n",
      "precision_score: 0.2624511303756587\n",
      "recall_score: 0.6501052631578947\n",
      "f1_score: 0.37394042140954226\n",
      "accuracy_score: 0.8120956603910736\n",
      "LinerarSVC_GS\n",
      "precision_score: 0.6964618249534451\n",
      "recall_score: 0.15747368421052632\n",
      "f1_score: 0.25686813186813184\n",
      "accuracy_score: 0.921349131351312\n",
      "LinerarSVC_GS_SMOTE\n",
      "precision_score: 0.700587084148728\n",
      "recall_score: 0.15073684210526317\n",
      "f1_score: 0.24809424809424813\n",
      "accuracy_score: 0.9211310605509923\n",
      "ExtraTreesClassifier_GS\n",
      "precision_score: 0.6962699822380106\n",
      "recall_score: 0.16505263157894737\n",
      "f1_score: 0.2668481960517359\n",
      "accuracy_score: 0.9217125826851784\n",
      "ExtraTreesClassifier_GS_SMOTE\n",
      "precision_score: 0.3789938817131203\n",
      "recall_score: 0.4694736842105263\n",
      "f1_score: 0.41940944141433134\n",
      "accuracy_score: 0.8878025732354438\n",
      "AdaBoostClassifier_GS\n",
      "precision_score: 0.5923076923076923\n",
      "recall_score: 0.22694736842105262\n",
      "f1_score: 0.3281582952815829\n",
      "accuracy_score: 0.9197862906156865\n",
      "AdaBoostClassifier_GS_SMOTE\n",
      "precision_score: 0.24197090310183914\n",
      "recall_score: 0.7423157894736843\n",
      "f1_score: 0.36497257012731604\n",
      "accuracy_score: 0.7770226066729665\n",
      "KNeighborsClassifier_GS\n",
      "precision_score: 0.5339470655926352\n",
      "recall_score: 0.19536842105263158\n",
      "f1_score: 0.28606658446362515\n",
      "accuracy_score: 0.9158246710765429\n",
      "KNeighborsClassifier_GS_SMOTE\n",
      "precision_score: 0.22233651726671566\n",
      "recall_score: 0.6370526315789473\n",
      "f1_score: 0.32962962962962966\n",
      "accuracy_score: 0.7763320491386203\n",
      "GradientBoostingClassifier_GS\n",
      "precision_score: 0.6403301886792453\n",
      "recall_score: 0.2286315789473684\n",
      "f1_score: 0.33695314923983866\n",
      "accuracy_score: 0.9223304499527514\n"
     ]
    }
   ],
   "source": [
    "models.append(('GradientBoostingClassifier_GS', grid_20.best_estimator_))\n",
    "\n",
    "precision_score = []\n",
    "recall_score = []\n",
    "f1_score = []\n",
    "accuracy_score = []\n",
    "for name, model in models:\n",
    "    print(name)\n",
    "    print(\"precision_score: {}\".format(metrics.precision_score(y_test, model.predict(X_test)) ))\n",
    "    print(\"recall_score: {}\".format( metrics.recall_score(y_test, model.predict(X_test)) ))\n",
    "    print(\"f1_score: {}\".format( metrics.f1_score(y_test, model.predict(X_test)) ))\n",
    "    print(\"accuracy_score: {}\".format( metrics.accuracy_score(y_test, model.predict(X_test)) ))\n",
    "    precision_score.append(metrics.precision_score(y_test, model.predict(X_test)))\n",
    "    recall_score.append(metrics.recall_score(y_test, model.predict(X_test)))\n",
    "    f1_score.append( metrics.f1_score(y_test, model.predict(X_test)))\n",
    "    accuracy_score.append(metrics.accuracy_score(y_test, model.predict(X_test)))"
   ]
  },
  {
   "cell_type": "code",
   "execution_count": null,
   "metadata": {},
   "outputs": [],
   "source": []
  },
  {
   "cell_type": "markdown",
   "metadata": {},
   "source": [
    "##### GradientBoostingClassifier GS with oversampling"
   ]
  },
  {
   "cell_type": "code",
   "execution_count": 57,
   "metadata": {
    "scrolled": true
   },
   "outputs": [
    {
     "data": {
      "text/plain": [
       "GridSearchCV(cv=StratifiedKFold(n_splits=5, random_state=None, shuffle=False),\n",
       "             estimator=Pipeline(steps=[('preprocessing',\n",
       "                                        FeatureUnion(transformer_list=[('num_pipeline',\n",
       "                                                                        Pipeline(steps=[('select_numeric',\n",
       "                                                                                         DataFrameSelector(attribute_names=['age',\n",
       "                                                                                                                            'bmi',\n",
       "                                                                                                                            'height',\n",
       "                                                                                                                            'icu_id',\n",
       "                                                                                                                            'pre_icu_los_days',\n",
       "                                                                                                                            'weight',\n",
       "                                                                                                                            'apache_2_diagnosis',\n",
       "                                                                                                                            'apache_3j_diagnosis',\n",
       "                                                                                                                            'heart_rate_ap...\n",
       "                                                                                                                            'diabetes_mellitus',\n",
       "                                                                                                                            'hepatic_failure',\n",
       "                                                                                                                            'immunosuppression',\n",
       "                                                                                                                            'leukemia',\n",
       "                                                                                                                            'lymphoma',\n",
       "                                                                                                                            'solid_tumor_with_metastasis'])),\n",
       "                                                                                        ('imputer',\n",
       "                                                                                         MostFrequentImputer()),\n",
       "                                                                                        ('cat_encoder',\n",
       "                                                                                         OneHotEncoder(handle_unknown='ignore',\n",
       "                                                                                                       sparse=False))]))])),\n",
       "                                       ('scaler', StandardScaler()),\n",
       "                                       ('over', SMOTE()),\n",
       "                                       ('pca', PCA(n_components=20)),\n",
       "                                       ('classifier',\n",
       "                                        GradientBoostingClassifier())]),\n",
       "             param_grid={})"
      ]
     },
     "execution_count": 57,
     "metadata": {},
     "output_type": "execute_result"
    }
   ],
   "source": [
    "pipe = Pipeline([('preprocessing', preprocess_pipeline), \n",
    "                  ('scaler', StandardScaler()),\n",
    "                  ('over', SMOTE()),\n",
    "                 ('pca', PCA(n_components=20)),\n",
    "                 ('classifier', GradientBoostingClassifier())])\n",
    "\n",
    "param_grid = {}\n",
    "    \n",
    "\n",
    "\n",
    "grid_21 = GridSearchCV(pipe, param_grid, cv=kfold)\n",
    "\n",
    "grid_21.fit(X_train, y_train)"
   ]
  },
  {
   "cell_type": "code",
   "execution_count": 58,
   "metadata": {
    "scrolled": true
   },
   "outputs": [
    {
     "name": "stdout",
     "output_type": "stream",
     "text": [
      "BaselineLogisticRegression\n",
      "precision_score: 0.6532921810699589\n",
      "recall_score: 0.2673684210526316\n",
      "f1_score: 0.3794442784583209\n",
      "accuracy_score: 0.9245111579559497\n",
      "BaselineLogisticRegressionSMOTE\n",
      "precision_score: 0.2504263786242183\n",
      "recall_score: 0.7418947368421053\n",
      "f1_score: 0.3744554245032408\n",
      "accuracy_score: 0.7860361997528531\n",
      "RandomForest_BS\n",
      "precision_score: 0.6929698708751794\n",
      "recall_score: 0.2033684210526316\n",
      "f1_score: 0.31445312500000006\n",
      "accuracy_score: 0.9234571490877371\n",
      "RandomForest_BS_SMOTE\n",
      "precision_score: 0.3717908082408875\n",
      "recall_score: 0.4938947368421053\n",
      "f1_score: 0.42423146473779383\n",
      "accuracy_score: 0.8842770952969398\n",
      "XGBClassifier_GS\n",
      "precision_score: 0.6019512195121951\n",
      "recall_score: 0.2597894736842105\n",
      "f1_score: 0.36294117647058827\n",
      "accuracy_score: 0.9212764410845388\n",
      "XGBClassifier_GS_SMOTE\n",
      "precision_score: 0.2624511303756587\n",
      "recall_score: 0.6501052631578947\n",
      "f1_score: 0.37394042140954226\n",
      "accuracy_score: 0.8120956603910736\n",
      "LinerarSVC_GS\n",
      "precision_score: 0.6964618249534451\n",
      "recall_score: 0.15747368421052632\n",
      "f1_score: 0.25686813186813184\n",
      "accuracy_score: 0.921349131351312\n",
      "LinerarSVC_GS_SMOTE\n",
      "precision_score: 0.700587084148728\n",
      "recall_score: 0.15073684210526317\n",
      "f1_score: 0.24809424809424813\n",
      "accuracy_score: 0.9211310605509923\n",
      "ExtraTreesClassifier_GS\n",
      "precision_score: 0.6962699822380106\n",
      "recall_score: 0.16505263157894737\n",
      "f1_score: 0.2668481960517359\n",
      "accuracy_score: 0.9217125826851784\n",
      "ExtraTreesClassifier_GS_SMOTE\n",
      "precision_score: 0.3789938817131203\n",
      "recall_score: 0.4694736842105263\n",
      "f1_score: 0.41940944141433134\n",
      "accuracy_score: 0.8878025732354438\n",
      "AdaBoostClassifier_GS\n",
      "precision_score: 0.5923076923076923\n",
      "recall_score: 0.22694736842105262\n",
      "f1_score: 0.3281582952815829\n",
      "accuracy_score: 0.9197862906156865\n",
      "AdaBoostClassifier_GS_SMOTE\n",
      "precision_score: 0.24197090310183914\n",
      "recall_score: 0.7423157894736843\n",
      "f1_score: 0.36497257012731604\n",
      "accuracy_score: 0.7770226066729665\n",
      "KNeighborsClassifier_GS\n",
      "precision_score: 0.5339470655926352\n",
      "recall_score: 0.19536842105263158\n",
      "f1_score: 0.28606658446362515\n",
      "accuracy_score: 0.9158246710765429\n",
      "KNeighborsClassifier_GS_SMOTE\n",
      "precision_score: 0.22233651726671566\n",
      "recall_score: 0.6370526315789473\n",
      "f1_score: 0.32962962962962966\n",
      "accuracy_score: 0.7763320491386203\n",
      "GradientBoostingClassifier_GS\n",
      "precision_score: 0.6403301886792453\n",
      "recall_score: 0.2286315789473684\n",
      "f1_score: 0.33695314923983866\n",
      "accuracy_score: 0.9223304499527514\n",
      "GradientBoostingClassifier_GS_SMOTE\n",
      "precision_score: 0.2471692902513118\n",
      "recall_score: 0.7536842105263157\n",
      "f1_score: 0.3722574607465945\n",
      "accuracy_score: 0.7805844297448572\n"
     ]
    }
   ],
   "source": [
    "models.append(('GradientBoostingClassifier_GS_SMOTE', grid_21.best_estimator_))\n",
    "\n",
    "precision_score = []\n",
    "recall_score = []\n",
    "f1_score = []\n",
    "accuracy_score = []\n",
    "for name, model in models:\n",
    "    print(name)\n",
    "    print(\"precision_score: {}\".format(metrics.precision_score(y_test, model.predict(X_test)) ))\n",
    "    print(\"recall_score: {}\".format( metrics.recall_score(y_test, model.predict(X_test)) ))\n",
    "    print(\"f1_score: {}\".format( metrics.f1_score(y_test, model.predict(X_test)) ))\n",
    "    print(\"accuracy_score: {}\".format( metrics.accuracy_score(y_test, model.predict(X_test)) ))\n",
    "    precision_score.append(metrics.precision_score(y_test, model.predict(X_test)))\n",
    "    recall_score.append(metrics.recall_score(y_test, model.predict(X_test)))\n",
    "    f1_score.append( metrics.f1_score(y_test, model.predict(X_test)))\n",
    "    accuracy_score.append(metrics.accuracy_score(y_test, model.predict(X_test)))"
   ]
  },
  {
   "cell_type": "code",
   "execution_count": null,
   "metadata": {},
   "outputs": [],
   "source": []
  },
  {
   "cell_type": "markdown",
   "metadata": {},
   "source": [
    "# Bagging Classifier"
   ]
  },
  {
   "cell_type": "markdown",
   "metadata": {},
   "source": [
    "##### BaggingClassifier GS"
   ]
  },
  {
   "cell_type": "code",
   "execution_count": 59,
   "metadata": {},
   "outputs": [
    {
     "data": {
      "text/plain": [
       "{}"
      ]
     },
     "execution_count": 59,
     "metadata": {},
     "output_type": "execute_result"
    }
   ],
   "source": [
    "from sklearn.ensemble import BaggingClassifier\n",
    "from sklearn.tree import DecisionTreeClassifier\n",
    "pipe = Pipeline([('preprocessing', preprocess_pipeline), \n",
    "                  ('scaler', StandardScaler()),\n",
    "                 ('pca', PCA(n_components=20)),\n",
    "                 ('classifier', BaggingClassifier(DecisionTreeClassifier(),\n",
    "                                   max_samples=0.7,\n",
    "                                   bootstrap=True))])\n",
    "\n",
    "\n",
    "\n",
    "param_grid ={    }  \n",
    "\n",
    "grid_22= GridSearchCV(pipe, param_grid,cv=kfold)\n",
    "\n",
    "grid_22.fit(X_train, y_train)\n",
    "grid_22.best_params_"
   ]
  },
  {
   "cell_type": "code",
   "execution_count": 60,
   "metadata": {
    "scrolled": true
   },
   "outputs": [
    {
     "name": "stdout",
     "output_type": "stream",
     "text": [
      "BaselineLogisticRegression\n",
      "precision_score: 0.6532921810699589\n",
      "recall_score: 0.2673684210526316\n",
      "f1_score: 0.3794442784583209\n",
      "accuracy_score: 0.9245111579559497\n",
      "BaselineLogisticRegressionSMOTE\n",
      "precision_score: 0.2504263786242183\n",
      "recall_score: 0.7418947368421053\n",
      "f1_score: 0.3744554245032408\n",
      "accuracy_score: 0.7860361997528531\n",
      "RandomForest_BS\n",
      "precision_score: 0.6929698708751794\n",
      "recall_score: 0.2033684210526316\n",
      "f1_score: 0.31445312500000006\n",
      "accuracy_score: 0.9234571490877371\n",
      "RandomForest_BS_SMOTE\n",
      "precision_score: 0.3717908082408875\n",
      "recall_score: 0.4938947368421053\n",
      "f1_score: 0.42423146473779383\n",
      "accuracy_score: 0.8842770952969398\n",
      "XGBClassifier_GS\n",
      "precision_score: 0.6019512195121951\n",
      "recall_score: 0.2597894736842105\n",
      "f1_score: 0.36294117647058827\n",
      "accuracy_score: 0.9212764410845388\n",
      "XGBClassifier_GS_SMOTE\n",
      "precision_score: 0.2624511303756587\n",
      "recall_score: 0.6501052631578947\n",
      "f1_score: 0.37394042140954226\n",
      "accuracy_score: 0.8120956603910736\n",
      "LinerarSVC_GS\n",
      "precision_score: 0.6964618249534451\n",
      "recall_score: 0.15747368421052632\n",
      "f1_score: 0.25686813186813184\n",
      "accuracy_score: 0.921349131351312\n",
      "LinerarSVC_GS_SMOTE\n",
      "precision_score: 0.700587084148728\n",
      "recall_score: 0.15073684210526317\n",
      "f1_score: 0.24809424809424813\n",
      "accuracy_score: 0.9211310605509923\n",
      "ExtraTreesClassifier_GS\n",
      "precision_score: 0.6962699822380106\n",
      "recall_score: 0.16505263157894737\n",
      "f1_score: 0.2668481960517359\n",
      "accuracy_score: 0.9217125826851784\n",
      "ExtraTreesClassifier_GS_SMOTE\n",
      "precision_score: 0.3789938817131203\n",
      "recall_score: 0.4694736842105263\n",
      "f1_score: 0.41940944141433134\n",
      "accuracy_score: 0.8878025732354438\n",
      "AdaBoostClassifier_GS\n",
      "precision_score: 0.5923076923076923\n",
      "recall_score: 0.22694736842105262\n",
      "f1_score: 0.3281582952815829\n",
      "accuracy_score: 0.9197862906156865\n",
      "AdaBoostClassifier_GS_SMOTE\n",
      "precision_score: 0.24197090310183914\n",
      "recall_score: 0.7423157894736843\n",
      "f1_score: 0.36497257012731604\n",
      "accuracy_score: 0.7770226066729665\n",
      "KNeighborsClassifier_GS\n",
      "precision_score: 0.5339470655926352\n",
      "recall_score: 0.19536842105263158\n",
      "f1_score: 0.28606658446362515\n",
      "accuracy_score: 0.9158246710765429\n",
      "KNeighborsClassifier_GS_SMOTE\n",
      "precision_score: 0.22233651726671566\n",
      "recall_score: 0.6370526315789473\n",
      "f1_score: 0.32962962962962966\n",
      "accuracy_score: 0.7763320491386203\n",
      "GradientBoostingClassifier_GS\n",
      "precision_score: 0.6403301886792453\n",
      "recall_score: 0.2286315789473684\n",
      "f1_score: 0.33695314923983866\n",
      "accuracy_score: 0.9223304499527514\n",
      "GradientBoostingClassifier_GS_SMOTE\n",
      "precision_score: 0.2471692902513118\n",
      "recall_score: 0.7536842105263157\n",
      "f1_score: 0.3722574607465945\n",
      "accuracy_score: 0.7805844297448572\n",
      "BaggingClassifier_GS\n",
      "precision_score: 0.581145584725537\n",
      "recall_score: 0.20505263157894738\n",
      "f1_score: 0.30314347961406785\n",
      "accuracy_score: 0.9186232463473141\n"
     ]
    }
   ],
   "source": [
    "models.append(('BaggingClassifier_GS', grid_22.best_estimator_))\n",
    "\n",
    "\n",
    "\n",
    "precision_score = []\n",
    "recall_score = []\n",
    "f1_score = []\n",
    "accuracy_score = []\n",
    "for name, model in models:\n",
    "    print(name)\n",
    "    print(\"precision_score: {}\".format(metrics.precision_score(y_test, model.predict(X_test)) ))\n",
    "    print(\"recall_score: {}\".format( metrics.recall_score(y_test, model.predict(X_test)) ))\n",
    "    print(\"f1_score: {}\".format( metrics.f1_score(y_test, model.predict(X_test)) ))\n",
    "    print(\"accuracy_score: {}\".format( metrics.accuracy_score(y_test, model.predict(X_test)) ))\n",
    "    precision_score.append(metrics.precision_score(y_test, model.predict(X_test)))\n",
    "    recall_score.append(metrics.recall_score(y_test, model.predict(X_test)))\n",
    "    f1_score.append( metrics.f1_score(y_test, model.predict(X_test)))\n",
    "    accuracy_score.append(metrics.accuracy_score(y_test, model.predict(X_test)))"
   ]
  },
  {
   "cell_type": "code",
   "execution_count": null,
   "metadata": {},
   "outputs": [],
   "source": []
  },
  {
   "cell_type": "markdown",
   "metadata": {},
   "source": [
    "##### BaggingClassifier GS with oversampling"
   ]
  },
  {
   "cell_type": "code",
   "execution_count": 61,
   "metadata": {},
   "outputs": [
    {
     "data": {
      "text/plain": [
       "{}"
      ]
     },
     "execution_count": 61,
     "metadata": {},
     "output_type": "execute_result"
    }
   ],
   "source": [
    "pipe = Pipeline([('preprocessing', preprocess_pipeline), \n",
    "                  ('scaler', StandardScaler()),\n",
    "                 ('over', SMOTE()),\n",
    "                 ('pca', PCA(n_components=20)),\n",
    "                 ('classifier', BaggingClassifier(DecisionTreeClassifier(),\n",
    "                                   max_samples=0.7,\n",
    "                                   bootstrap=True))])\n",
    "\n",
    "\n",
    "\n",
    "param_grid ={}   \n",
    "\n",
    "grid_23= GridSearchCV(pipe, param_grid,cv=kfold)\n",
    "\n",
    "grid_23.fit(X_train, y_train)\n",
    "grid_23.best_params_"
   ]
  },
  {
   "cell_type": "code",
   "execution_count": 62,
   "metadata": {
    "scrolled": true
   },
   "outputs": [
    {
     "name": "stdout",
     "output_type": "stream",
     "text": [
      "BaselineLogisticRegression\n",
      "precision_score: 0.6532921810699589\n",
      "recall_score: 0.2673684210526316\n",
      "f1_score: 0.3794442784583209\n",
      "accuracy_score: 0.9245111579559497\n",
      "BaselineLogisticRegressionSMOTE\n",
      "precision_score: 0.2504263786242183\n",
      "recall_score: 0.7418947368421053\n",
      "f1_score: 0.3744554245032408\n",
      "accuracy_score: 0.7860361997528531\n",
      "RandomForest_BS\n",
      "precision_score: 0.6929698708751794\n",
      "recall_score: 0.2033684210526316\n",
      "f1_score: 0.31445312500000006\n",
      "accuracy_score: 0.9234571490877371\n",
      "RandomForest_BS_SMOTE\n",
      "precision_score: 0.3717908082408875\n",
      "recall_score: 0.4938947368421053\n",
      "f1_score: 0.42423146473779383\n",
      "accuracy_score: 0.8842770952969398\n",
      "XGBClassifier_GS\n",
      "precision_score: 0.6019512195121951\n",
      "recall_score: 0.2597894736842105\n",
      "f1_score: 0.36294117647058827\n",
      "accuracy_score: 0.9212764410845388\n",
      "XGBClassifier_GS_SMOTE\n",
      "precision_score: 0.2624511303756587\n",
      "recall_score: 0.6501052631578947\n",
      "f1_score: 0.37394042140954226\n",
      "accuracy_score: 0.8120956603910736\n",
      "LinerarSVC_GS\n",
      "precision_score: 0.6964618249534451\n",
      "recall_score: 0.15747368421052632\n",
      "f1_score: 0.25686813186813184\n",
      "accuracy_score: 0.921349131351312\n",
      "LinerarSVC_GS_SMOTE\n",
      "precision_score: 0.700587084148728\n",
      "recall_score: 0.15073684210526317\n",
      "f1_score: 0.24809424809424813\n",
      "accuracy_score: 0.9211310605509923\n",
      "ExtraTreesClassifier_GS\n",
      "precision_score: 0.6962699822380106\n",
      "recall_score: 0.16505263157894737\n",
      "f1_score: 0.2668481960517359\n",
      "accuracy_score: 0.9217125826851784\n",
      "ExtraTreesClassifier_GS_SMOTE\n",
      "precision_score: 0.3789938817131203\n",
      "recall_score: 0.4694736842105263\n",
      "f1_score: 0.41940944141433134\n",
      "accuracy_score: 0.8878025732354438\n",
      "AdaBoostClassifier_GS\n",
      "precision_score: 0.5923076923076923\n",
      "recall_score: 0.22694736842105262\n",
      "f1_score: 0.3281582952815829\n",
      "accuracy_score: 0.9197862906156865\n",
      "AdaBoostClassifier_GS_SMOTE\n",
      "precision_score: 0.24197090310183914\n",
      "recall_score: 0.7423157894736843\n",
      "f1_score: 0.36497257012731604\n",
      "accuracy_score: 0.7770226066729665\n",
      "KNeighborsClassifier_GS\n",
      "precision_score: 0.5339470655926352\n",
      "recall_score: 0.19536842105263158\n",
      "f1_score: 0.28606658446362515\n",
      "accuracy_score: 0.9158246710765429\n",
      "KNeighborsClassifier_GS_SMOTE\n",
      "precision_score: 0.22233651726671566\n",
      "recall_score: 0.6370526315789473\n",
      "f1_score: 0.32962962962962966\n",
      "accuracy_score: 0.7763320491386203\n",
      "GradientBoostingClassifier_GS\n",
      "precision_score: 0.6403301886792453\n",
      "recall_score: 0.2286315789473684\n",
      "f1_score: 0.33695314923983866\n",
      "accuracy_score: 0.9223304499527514\n",
      "GradientBoostingClassifier_GS_SMOTE\n",
      "precision_score: 0.2471692902513118\n",
      "recall_score: 0.7536842105263157\n",
      "f1_score: 0.3722574607465945\n",
      "accuracy_score: 0.7805844297448572\n",
      "BaggingClassifier_GS\n",
      "precision_score: 0.581145584725537\n",
      "recall_score: 0.20505263157894738\n",
      "f1_score: 0.30314347961406785\n",
      "accuracy_score: 0.9186232463473141\n",
      "BaggingClassifier_GS_SMOTE\n",
      "precision_score: 0.30403741999015266\n",
      "recall_score: 0.52\n",
      "f1_score: 0.383719123815442\n",
      "accuracy_score: 0.855818855855201\n"
     ]
    }
   ],
   "source": [
    "models.append(('BaggingClassifier_GS_SMOTE', grid_23.best_estimator_))\n",
    "\n",
    "\n",
    "\n",
    "precision_score = []\n",
    "recall_score = []\n",
    "f1_score = []\n",
    "accuracy_score = []\n",
    "for name, model in models:\n",
    "    print(name)\n",
    "    print(\"precision_score: {}\".format(metrics.precision_score(y_test, model.predict(X_test)) ))\n",
    "    print(\"recall_score: {}\".format( metrics.recall_score(y_test, model.predict(X_test)) ))\n",
    "    print(\"f1_score: {}\".format( metrics.f1_score(y_test, model.predict(X_test)) ))\n",
    "    print(\"accuracy_score: {}\".format( metrics.accuracy_score(y_test, model.predict(X_test)) ))\n",
    "    precision_score.append(metrics.precision_score(y_test, model.predict(X_test)))\n",
    "    recall_score.append(metrics.recall_score(y_test, model.predict(X_test)))\n",
    "    f1_score.append( metrics.f1_score(y_test, model.predict(X_test)))\n",
    "    accuracy_score.append(metrics.accuracy_score(y_test, model.predict(X_test)))"
   ]
  },
  {
   "cell_type": "markdown",
   "metadata": {},
   "source": [
    "# Voting Classifier"
   ]
  },
  {
   "cell_type": "code",
   "execution_count": 63,
   "metadata": {
    "scrolled": true
   },
   "outputs": [
    {
     "data": {
      "text/plain": [
       "GridSearchCV(cv=StratifiedKFold(n_splits=5, random_state=None, shuffle=False),\n",
       "             estimator=Pipeline(steps=[('preprocessing',\n",
       "                                        FeatureUnion(transformer_list=[('num_pipeline',\n",
       "                                                                        Pipeline(steps=[('select_numeric',\n",
       "                                                                                         DataFrameSelector(attribute_names=['age',\n",
       "                                                                                                                            'bmi',\n",
       "                                                                                                                            'height',\n",
       "                                                                                                                            'icu_id',\n",
       "                                                                                                                            'pre_icu_los_days',\n",
       "                                                                                                                            'weight',\n",
       "                                                                                                                            'apache_2_diagnosis',\n",
       "                                                                                                                            'apache_3j_diagnosis',\n",
       "                                                                                                                            'heart_rate_ap...\n",
       "                                                                                        ('imputer',\n",
       "                                                                                         MostFrequentImputer()),\n",
       "                                                                                        ('cat_encoder',\n",
       "                                                                                         OneHotEncoder(handle_unknown='ignore',\n",
       "                                                                                                       sparse=False))]))])),\n",
       "                                       ('scaler', StandardScaler()),\n",
       "                                       ('pca', PCA(n_components=20)),\n",
       "                                       ('clasifier',\n",
       "                                        VotingClassifier(estimators=[('lr',\n",
       "                                                                      LogisticRegression()),\n",
       "                                                                     ('dtc',\n",
       "                                                                      DecisionTreeClassifier()),\n",
       "                                                                     ('rfc',\n",
       "                                                                      RandomForestClassifier()),\n",
       "                                                                     ('knc',\n",
       "                                                                      KNeighborsClassifier())]))]),\n",
       "             param_grid={})"
      ]
     },
     "execution_count": 63,
     "metadata": {},
     "output_type": "execute_result"
    }
   ],
   "source": [
    "from sklearn.ensemble import VotingClassifier\n",
    "\n",
    "estimators = [\n",
    "    ('lr',LogisticRegression()),\n",
    "    ('dtc',DecisionTreeClassifier()),    \n",
    "    ('rfc',RandomForestClassifier()),\n",
    "    ('knc',KNeighborsClassifier())]\n",
    "    \n",
    "pipe = Pipeline([('preprocessing', preprocess_pipeline), \n",
    "                  ('scaler', StandardScaler()),\n",
    "                 ('pca', PCA(n_components=20)),\n",
    "                 ('clasifier',VotingClassifier(estimators=estimators))])\n",
    "    \n",
    "param_grid = {}\n",
    "\n",
    "\n",
    "\n",
    "grid_24= GridSearchCV(pipe, param_grid, cv=kfold)\n",
    "\n",
    "grid_24.fit(X_train, y_train)"
   ]
  },
  {
   "cell_type": "code",
   "execution_count": 64,
   "metadata": {
    "scrolled": true
   },
   "outputs": [
    {
     "name": "stdout",
     "output_type": "stream",
     "text": [
      "BaselineLogisticRegression\n",
      "precision_score: 0.6532921810699589\n",
      "recall_score: 0.2673684210526316\n",
      "f1_score: 0.3794442784583209\n",
      "accuracy_score: 0.9245111579559497\n",
      "BaselineLogisticRegressionSMOTE\n",
      "precision_score: 0.2504263786242183\n",
      "recall_score: 0.7418947368421053\n",
      "f1_score: 0.3744554245032408\n",
      "accuracy_score: 0.7860361997528531\n",
      "RandomForest_BS\n",
      "precision_score: 0.6929698708751794\n",
      "recall_score: 0.2033684210526316\n",
      "f1_score: 0.31445312500000006\n",
      "accuracy_score: 0.9234571490877371\n",
      "RandomForest_BS_SMOTE\n",
      "precision_score: 0.3717908082408875\n",
      "recall_score: 0.4938947368421053\n",
      "f1_score: 0.42423146473779383\n",
      "accuracy_score: 0.8842770952969398\n",
      "XGBClassifier_GS\n",
      "precision_score: 0.6019512195121951\n",
      "recall_score: 0.2597894736842105\n",
      "f1_score: 0.36294117647058827\n",
      "accuracy_score: 0.9212764410845388\n",
      "XGBClassifier_GS_SMOTE\n",
      "precision_score: 0.2624511303756587\n",
      "recall_score: 0.6501052631578947\n",
      "f1_score: 0.37394042140954226\n",
      "accuracy_score: 0.8120956603910736\n",
      "LinerarSVC_GS\n",
      "precision_score: 0.6964618249534451\n",
      "recall_score: 0.15747368421052632\n",
      "f1_score: 0.25686813186813184\n",
      "accuracy_score: 0.921349131351312\n",
      "LinerarSVC_GS_SMOTE\n",
      "precision_score: 0.700587084148728\n",
      "recall_score: 0.15073684210526317\n",
      "f1_score: 0.24809424809424813\n",
      "accuracy_score: 0.9211310605509923\n",
      "ExtraTreesClassifier_GS\n",
      "precision_score: 0.6962699822380106\n",
      "recall_score: 0.16505263157894737\n",
      "f1_score: 0.2668481960517359\n",
      "accuracy_score: 0.9217125826851784\n",
      "ExtraTreesClassifier_GS_SMOTE\n",
      "precision_score: 0.3789938817131203\n",
      "recall_score: 0.4694736842105263\n",
      "f1_score: 0.41940944141433134\n",
      "accuracy_score: 0.8878025732354438\n",
      "AdaBoostClassifier_GS\n",
      "precision_score: 0.5923076923076923\n",
      "recall_score: 0.22694736842105262\n",
      "f1_score: 0.3281582952815829\n",
      "accuracy_score: 0.9197862906156865\n",
      "AdaBoostClassifier_GS_SMOTE\n",
      "precision_score: 0.24197090310183914\n",
      "recall_score: 0.7423157894736843\n",
      "f1_score: 0.36497257012731604\n",
      "accuracy_score: 0.7770226066729665\n",
      "KNeighborsClassifier_GS\n",
      "precision_score: 0.5339470655926352\n",
      "recall_score: 0.19536842105263158\n",
      "f1_score: 0.28606658446362515\n",
      "accuracy_score: 0.9158246710765429\n",
      "KNeighborsClassifier_GS_SMOTE\n",
      "precision_score: 0.22233651726671566\n",
      "recall_score: 0.6370526315789473\n",
      "f1_score: 0.32962962962962966\n",
      "accuracy_score: 0.7763320491386203\n",
      "GradientBoostingClassifier_GS\n",
      "precision_score: 0.6403301886792453\n",
      "recall_score: 0.2286315789473684\n",
      "f1_score: 0.33695314923983866\n",
      "accuracy_score: 0.9223304499527514\n",
      "GradientBoostingClassifier_GS_SMOTE\n",
      "precision_score: 0.2471692902513118\n",
      "recall_score: 0.7536842105263157\n",
      "f1_score: 0.3722574607465945\n",
      "accuracy_score: 0.7805844297448572\n",
      "BaggingClassifier_GS\n",
      "precision_score: 0.581145584725537\n",
      "recall_score: 0.20505263157894738\n",
      "f1_score: 0.30314347961406785\n",
      "accuracy_score: 0.9186232463473141\n",
      "BaggingClassifier_GS_SMOTE\n",
      "precision_score: 0.30403741999015266\n",
      "recall_score: 0.52\n",
      "f1_score: 0.383719123815442\n",
      "accuracy_score: 0.855818855855201\n",
      "VotingClassifier_GS\n",
      "precision_score: 0.7082601054481547\n",
      "recall_score: 0.1696842105263158\n",
      "f1_score: 0.2737771739130435\n",
      "accuracy_score: 0.9222941048193647\n"
     ]
    }
   ],
   "source": [
    "models.append(('VotingClassifier_GS', grid_24.best_estimator_))\n",
    "\n",
    "precision_score = []\n",
    "recall_score = []\n",
    "f1_score = []\n",
    "accuracy_score = []\n",
    "for name, model in models:\n",
    "    print(name)\n",
    "    print(\"precision_score: {}\".format(metrics.precision_score(y_test, model.predict(X_test)) ))\n",
    "    print(\"recall_score: {}\".format( metrics.recall_score(y_test, model.predict(X_test)) ))\n",
    "    print(\"f1_score: {}\".format( metrics.f1_score(y_test, model.predict(X_test)) ))\n",
    "    print(\"accuracy_score: {}\".format( metrics.accuracy_score(y_test, model.predict(X_test)) ))\n",
    "    precision_score.append(metrics.precision_score(y_test, model.predict(X_test)))\n",
    "    recall_score.append(metrics.recall_score(y_test, model.predict(X_test)))\n",
    "    f1_score.append( metrics.f1_score(y_test, model.predict(X_test)))\n",
    "    accuracy_score.append(metrics.accuracy_score(y_test, model.predict(X_test)))"
   ]
  },
  {
   "cell_type": "code",
   "execution_count": null,
   "metadata": {},
   "outputs": [],
   "source": []
  },
  {
   "cell_type": "code",
   "execution_count": null,
   "metadata": {},
   "outputs": [],
   "source": []
  },
  {
   "cell_type": "code",
   "execution_count": 65,
   "metadata": {
    "scrolled": true
   },
   "outputs": [
    {
     "data": {
      "text/plain": [
       "GridSearchCV(cv=StratifiedKFold(n_splits=5, random_state=None, shuffle=False),\n",
       "             estimator=Pipeline(steps=[('preprocessing',\n",
       "                                        FeatureUnion(transformer_list=[('num_pipeline',\n",
       "                                                                        Pipeline(steps=[('select_numeric',\n",
       "                                                                                         DataFrameSelector(attribute_names=['age',\n",
       "                                                                                                                            'bmi',\n",
       "                                                                                                                            'height',\n",
       "                                                                                                                            'icu_id',\n",
       "                                                                                                                            'pre_icu_los_days',\n",
       "                                                                                                                            'weight',\n",
       "                                                                                                                            'apache_2_diagnosis',\n",
       "                                                                                                                            'apache_3j_diagnosis',\n",
       "                                                                                                                            'heart_rate_ap...\n",
       "                                                                                         MostFrequentImputer()),\n",
       "                                                                                        ('cat_encoder',\n",
       "                                                                                         OneHotEncoder(handle_unknown='ignore',\n",
       "                                                                                                       sparse=False))]))])),\n",
       "                                       ('scaler', StandardScaler()),\n",
       "                                       ('pca', PCA(n_components=20)),\n",
       "                                       ('over', SMOTE()),\n",
       "                                       ('clasifier',\n",
       "                                        VotingClassifier(estimators=[('lr',\n",
       "                                                                      LogisticRegression()),\n",
       "                                                                     ('dtc',\n",
       "                                                                      DecisionTreeClassifier()),\n",
       "                                                                     ('rfc',\n",
       "                                                                      RandomForestClassifier()),\n",
       "                                                                     ('knc',\n",
       "                                                                      KNeighborsClassifier())]))]),\n",
       "             param_grid={})"
      ]
     },
     "execution_count": 65,
     "metadata": {},
     "output_type": "execute_result"
    }
   ],
   "source": [
    "estimators = [\n",
    "    ('lr',LogisticRegression()),\n",
    "    ('dtc',DecisionTreeClassifier()),    \n",
    "    ('rfc',RandomForestClassifier()),\n",
    "    ('knc',KNeighborsClassifier())]\n",
    "    \n",
    "pipe = Pipeline([('preprocessing', preprocess_pipeline), \n",
    "                  ('scaler', StandardScaler()),\n",
    "                 ('pca', PCA(n_components=20)),\n",
    "                 ('over', SMOTE()),\n",
    "                 ('clasifier',VotingClassifier(estimators=estimators))])\n",
    "    \n",
    "param_grid = {}\n",
    "\n",
    "\n",
    "\n",
    "grid_25= GridSearchCV(pipe, param_grid, cv=kfold)\n",
    "\n",
    "grid_25.fit(X_train, y_train)"
   ]
  },
  {
   "cell_type": "code",
   "execution_count": 66,
   "metadata": {
    "scrolled": true
   },
   "outputs": [
    {
     "name": "stdout",
     "output_type": "stream",
     "text": [
      "BaselineLogisticRegression\n",
      "precision_score: 0.6532921810699589\n",
      "recall_score: 0.2673684210526316\n",
      "f1_score: 0.3794442784583209\n",
      "accuracy_score: 0.9245111579559497\n",
      "BaselineLogisticRegressionSMOTE\n",
      "precision_score: 0.2504263786242183\n",
      "recall_score: 0.7418947368421053\n",
      "f1_score: 0.3744554245032408\n",
      "accuracy_score: 0.7860361997528531\n",
      "RandomForest_BS\n",
      "precision_score: 0.6929698708751794\n",
      "recall_score: 0.2033684210526316\n",
      "f1_score: 0.31445312500000006\n",
      "accuracy_score: 0.9234571490877371\n",
      "RandomForest_BS_SMOTE\n",
      "precision_score: 0.3717908082408875\n",
      "recall_score: 0.4938947368421053\n",
      "f1_score: 0.42423146473779383\n",
      "accuracy_score: 0.8842770952969398\n",
      "XGBClassifier_GS\n",
      "precision_score: 0.6019512195121951\n",
      "recall_score: 0.2597894736842105\n",
      "f1_score: 0.36294117647058827\n",
      "accuracy_score: 0.9212764410845388\n",
      "XGBClassifier_GS_SMOTE\n",
      "precision_score: 0.2624511303756587\n",
      "recall_score: 0.6501052631578947\n",
      "f1_score: 0.37394042140954226\n",
      "accuracy_score: 0.8120956603910736\n",
      "LinerarSVC_GS\n",
      "precision_score: 0.6964618249534451\n",
      "recall_score: 0.15747368421052632\n",
      "f1_score: 0.25686813186813184\n",
      "accuracy_score: 0.921349131351312\n",
      "LinerarSVC_GS_SMOTE\n",
      "precision_score: 0.700587084148728\n",
      "recall_score: 0.15073684210526317\n",
      "f1_score: 0.24809424809424813\n",
      "accuracy_score: 0.9211310605509923\n",
      "ExtraTreesClassifier_GS\n",
      "precision_score: 0.6962699822380106\n",
      "recall_score: 0.16505263157894737\n",
      "f1_score: 0.2668481960517359\n",
      "accuracy_score: 0.9217125826851784\n",
      "ExtraTreesClassifier_GS_SMOTE\n",
      "precision_score: 0.3789938817131203\n",
      "recall_score: 0.4694736842105263\n",
      "f1_score: 0.41940944141433134\n",
      "accuracy_score: 0.8878025732354438\n",
      "AdaBoostClassifier_GS\n",
      "precision_score: 0.5923076923076923\n",
      "recall_score: 0.22694736842105262\n",
      "f1_score: 0.3281582952815829\n",
      "accuracy_score: 0.9197862906156865\n",
      "AdaBoostClassifier_GS_SMOTE\n",
      "precision_score: 0.24197090310183914\n",
      "recall_score: 0.7423157894736843\n",
      "f1_score: 0.36497257012731604\n",
      "accuracy_score: 0.7770226066729665\n",
      "KNeighborsClassifier_GS\n",
      "precision_score: 0.5339470655926352\n",
      "recall_score: 0.19536842105263158\n",
      "f1_score: 0.28606658446362515\n",
      "accuracy_score: 0.9158246710765429\n",
      "KNeighborsClassifier_GS_SMOTE\n",
      "precision_score: 0.22233651726671566\n",
      "recall_score: 0.6370526315789473\n",
      "f1_score: 0.32962962962962966\n",
      "accuracy_score: 0.7763320491386203\n",
      "GradientBoostingClassifier_GS\n",
      "precision_score: 0.6403301886792453\n",
      "recall_score: 0.2286315789473684\n",
      "f1_score: 0.33695314923983866\n",
      "accuracy_score: 0.9223304499527514\n",
      "GradientBoostingClassifier_GS_SMOTE\n",
      "precision_score: 0.2471692902513118\n",
      "recall_score: 0.7536842105263157\n",
      "f1_score: 0.3722574607465945\n",
      "accuracy_score: 0.7805844297448572\n",
      "BaggingClassifier_GS\n",
      "precision_score: 0.581145584725537\n",
      "recall_score: 0.20505263157894738\n",
      "f1_score: 0.30314347961406785\n",
      "accuracy_score: 0.9186232463473141\n",
      "BaggingClassifier_GS_SMOTE\n",
      "precision_score: 0.30403741999015266\n",
      "recall_score: 0.52\n",
      "f1_score: 0.383719123815442\n",
      "accuracy_score: 0.855818855855201\n",
      "VotingClassifier_GS\n",
      "precision_score: 0.7082601054481547\n",
      "recall_score: 0.1696842105263158\n",
      "f1_score: 0.2737771739130435\n",
      "accuracy_score: 0.9222941048193647\n",
      "VotingClassifier_GS\n",
      "precision_score: 0.36022625781482587\n",
      "recall_score: 0.5094736842105263\n",
      "f1_score: 0.42204394837809556\n",
      "accuracy_score: 0.8795522279566766\n"
     ]
    }
   ],
   "source": [
    "models.append(('VotingClassifier_GS', grid_25.best_estimator_))\n",
    "\n",
    "precision_score = []\n",
    "recall_score = []\n",
    "f1_score = []\n",
    "accuracy_score = []\n",
    "for name, model in models:\n",
    "    print(name)\n",
    "    print(\"precision_score: {}\".format(metrics.precision_score(y_test, model.predict(X_test)) ))\n",
    "    print(\"recall_score: {}\".format( metrics.recall_score(y_test, model.predict(X_test)) ))\n",
    "    print(\"f1_score: {}\".format( metrics.f1_score(y_test, model.predict(X_test)) ))\n",
    "    print(\"accuracy_score: {}\".format( metrics.accuracy_score(y_test, model.predict(X_test)) ))\n",
    "    precision_score.append(metrics.precision_score(y_test, model.predict(X_test)))\n",
    "    recall_score.append(metrics.recall_score(y_test, model.predict(X_test)))\n",
    "    f1_score.append( metrics.f1_score(y_test, model.predict(X_test)))\n",
    "    accuracy_score.append(metrics.accuracy_score(y_test, model.predict(X_test)))"
   ]
  },
  {
   "cell_type": "markdown",
   "metadata": {},
   "source": [
    "# Decision Tree Classifier"
   ]
  },
  {
   "cell_type": "code",
   "execution_count": 67,
   "metadata": {
    "scrolled": true
   },
   "outputs": [
    {
     "data": {
      "text/plain": [
       "GridSearchCV(cv=StratifiedKFold(n_splits=5, random_state=None, shuffle=False),\n",
       "             estimator=Pipeline(steps=[('preprocessing',\n",
       "                                        FeatureUnion(transformer_list=[('num_pipeline',\n",
       "                                                                        Pipeline(steps=[('select_numeric',\n",
       "                                                                                         DataFrameSelector(attribute_names=['age',\n",
       "                                                                                                                            'bmi',\n",
       "                                                                                                                            'height',\n",
       "                                                                                                                            'icu_id',\n",
       "                                                                                                                            'pre_icu_los_days',\n",
       "                                                                                                                            'weight',\n",
       "                                                                                                                            'apache_2_diagnosis',\n",
       "                                                                                                                            'apache_3j_diagnosis',\n",
       "                                                                                                                            'heart_rate_ap...\n",
       "                                                                                                                            'diabetes_mellitus',\n",
       "                                                                                                                            'hepatic_failure',\n",
       "                                                                                                                            'immunosuppression',\n",
       "                                                                                                                            'leukemia',\n",
       "                                                                                                                            'lymphoma',\n",
       "                                                                                                                            'solid_tumor_with_metastasis'])),\n",
       "                                                                                        ('imputer',\n",
       "                                                                                         MostFrequentImputer()),\n",
       "                                                                                        ('cat_encoder',\n",
       "                                                                                         OneHotEncoder(handle_unknown='ignore',\n",
       "                                                                                                       sparse=False))]))])),\n",
       "                                       ('scaler', StandardScaler()),\n",
       "                                       ('pca', PCA(n_components=20)),\n",
       "                                       ('classifier',\n",
       "                                        DecisionTreeClassifier())]),\n",
       "             param_grid={}, return_train_score=True)"
      ]
     },
     "execution_count": 67,
     "metadata": {},
     "output_type": "execute_result"
    }
   ],
   "source": [
    "from sklearn.tree import DecisionTreeClassifier\n",
    "pipe = Pipeline([('preprocessing', preprocess_pipeline), \n",
    "                  ('scaler', StandardScaler()),\n",
    "                 ('pca', PCA(n_components=20)),\n",
    "                 ('classifier', DecisionTreeClassifier()),\n",
    "                                   ])\n",
    "\n",
    "\n",
    "\n",
    "param_grid = {}\n",
    "\n",
    "grid_26 = GridSearchCV(pipe, param_grid,cv=kfold, return_train_score=True)\n",
    "\n",
    "grid_26.fit(X_train, y_train)\n"
   ]
  },
  {
   "cell_type": "code",
   "execution_count": 68,
   "metadata": {
    "scrolled": true
   },
   "outputs": [
    {
     "name": "stdout",
     "output_type": "stream",
     "text": [
      "BaselineLogisticRegression\n",
      "precision_score: 0.6532921810699589\n",
      "recall_score: 0.2673684210526316\n",
      "f1_score: 0.3794442784583209\n",
      "accuracy_score: 0.9245111579559497\n",
      "BaselineLogisticRegressionSMOTE\n",
      "precision_score: 0.2504263786242183\n",
      "recall_score: 0.7418947368421053\n",
      "f1_score: 0.3744554245032408\n",
      "accuracy_score: 0.7860361997528531\n",
      "RandomForest_BS\n",
      "precision_score: 0.6929698708751794\n",
      "recall_score: 0.2033684210526316\n",
      "f1_score: 0.31445312500000006\n",
      "accuracy_score: 0.9234571490877371\n",
      "RandomForest_BS_SMOTE\n",
      "precision_score: 0.3717908082408875\n",
      "recall_score: 0.4938947368421053\n",
      "f1_score: 0.42423146473779383\n",
      "accuracy_score: 0.8842770952969398\n",
      "XGBClassifier_GS\n",
      "precision_score: 0.6019512195121951\n",
      "recall_score: 0.2597894736842105\n",
      "f1_score: 0.36294117647058827\n",
      "accuracy_score: 0.9212764410845388\n",
      "XGBClassifier_GS_SMOTE\n",
      "precision_score: 0.2624511303756587\n",
      "recall_score: 0.6501052631578947\n",
      "f1_score: 0.37394042140954226\n",
      "accuracy_score: 0.8120956603910736\n",
      "LinerarSVC_GS\n",
      "precision_score: 0.6964618249534451\n",
      "recall_score: 0.15747368421052632\n",
      "f1_score: 0.25686813186813184\n",
      "accuracy_score: 0.921349131351312\n",
      "LinerarSVC_GS_SMOTE\n",
      "precision_score: 0.700587084148728\n",
      "recall_score: 0.15073684210526317\n",
      "f1_score: 0.24809424809424813\n",
      "accuracy_score: 0.9211310605509923\n",
      "ExtraTreesClassifier_GS\n",
      "precision_score: 0.6962699822380106\n",
      "recall_score: 0.16505263157894737\n",
      "f1_score: 0.2668481960517359\n",
      "accuracy_score: 0.9217125826851784\n",
      "ExtraTreesClassifier_GS_SMOTE\n",
      "precision_score: 0.3789938817131203\n",
      "recall_score: 0.4694736842105263\n",
      "f1_score: 0.41940944141433134\n",
      "accuracy_score: 0.8878025732354438\n",
      "AdaBoostClassifier_GS\n",
      "precision_score: 0.5923076923076923\n",
      "recall_score: 0.22694736842105262\n",
      "f1_score: 0.3281582952815829\n",
      "accuracy_score: 0.9197862906156865\n",
      "AdaBoostClassifier_GS_SMOTE\n",
      "precision_score: 0.24197090310183914\n",
      "recall_score: 0.7423157894736843\n",
      "f1_score: 0.36497257012731604\n",
      "accuracy_score: 0.7770226066729665\n",
      "KNeighborsClassifier_GS\n",
      "precision_score: 0.5339470655926352\n",
      "recall_score: 0.19536842105263158\n",
      "f1_score: 0.28606658446362515\n",
      "accuracy_score: 0.9158246710765429\n",
      "KNeighborsClassifier_GS_SMOTE\n",
      "precision_score: 0.22233651726671566\n",
      "recall_score: 0.6370526315789473\n",
      "f1_score: 0.32962962962962966\n",
      "accuracy_score: 0.7763320491386203\n",
      "GradientBoostingClassifier_GS\n",
      "precision_score: 0.6403301886792453\n",
      "recall_score: 0.2286315789473684\n",
      "f1_score: 0.33695314923983866\n",
      "accuracy_score: 0.9223304499527514\n",
      "GradientBoostingClassifier_GS_SMOTE\n",
      "precision_score: 0.2471692902513118\n",
      "recall_score: 0.7536842105263157\n",
      "f1_score: 0.3722574607465945\n",
      "accuracy_score: 0.7805844297448572\n",
      "BaggingClassifier_GS\n",
      "precision_score: 0.581145584725537\n",
      "recall_score: 0.20505263157894738\n",
      "f1_score: 0.30314347961406785\n",
      "accuracy_score: 0.9186232463473141\n",
      "BaggingClassifier_GS_SMOTE\n",
      "precision_score: 0.30403741999015266\n",
      "recall_score: 0.52\n",
      "f1_score: 0.383719123815442\n",
      "accuracy_score: 0.855818855855201\n",
      "VotingClassifier_GS\n",
      "precision_score: 0.7082601054481547\n",
      "recall_score: 0.1696842105263158\n",
      "f1_score: 0.2737771739130435\n",
      "accuracy_score: 0.9222941048193647\n",
      "VotingClassifier_GS\n",
      "precision_score: 0.36022625781482587\n",
      "recall_score: 0.5094736842105263\n",
      "f1_score: 0.42204394837809556\n",
      "accuracy_score: 0.8795522279566766\n",
      "DecisionTreeClassifier_GS\n",
      "precision_score: 0.29273914713791777\n",
      "recall_score: 0.3208421052631579\n",
      "f1_score: 0.30614704700683004\n",
      "accuracy_score: 0.874463909282547\n"
     ]
    }
   ],
   "source": [
    "models.append(('DecisionTreeClassifier_GS', grid_26.best_estimator_))\n",
    "\n",
    "\n",
    "\n",
    "precision_score = []\n",
    "recall_score = []\n",
    "f1_score = []\n",
    "accuracy_score = []\n",
    "for name, model in models:\n",
    "    print(name)\n",
    "    print(\"precision_score: {}\".format(metrics.precision_score(y_test, model.predict(X_test)) ))\n",
    "    print(\"recall_score: {}\".format( metrics.recall_score(y_test, model.predict(X_test)) ))\n",
    "    print(\"f1_score: {}\".format( metrics.f1_score(y_test, model.predict(X_test)) ))\n",
    "    print(\"accuracy_score: {}\".format( metrics.accuracy_score(y_test, model.predict(X_test)) ))\n",
    "    precision_score.append(metrics.precision_score(y_test, model.predict(X_test)))\n",
    "    recall_score.append(metrics.recall_score(y_test, model.predict(X_test)))\n",
    "    f1_score.append( metrics.f1_score(y_test, model.predict(X_test)))\n",
    "    accuracy_score.append(metrics.accuracy_score(y_test, model.predict(X_test)))"
   ]
  },
  {
   "cell_type": "code",
   "execution_count": null,
   "metadata": {},
   "outputs": [],
   "source": []
  },
  {
   "cell_type": "code",
   "execution_count": 69,
   "metadata": {
    "scrolled": true
   },
   "outputs": [
    {
     "data": {
      "text/plain": [
       "GridSearchCV(cv=StratifiedKFold(n_splits=5, random_state=None, shuffle=False),\n",
       "             estimator=Pipeline(steps=[('preprocessing',\n",
       "                                        FeatureUnion(transformer_list=[('num_pipeline',\n",
       "                                                                        Pipeline(steps=[('select_numeric',\n",
       "                                                                                         DataFrameSelector(attribute_names=['age',\n",
       "                                                                                                                            'bmi',\n",
       "                                                                                                                            'height',\n",
       "                                                                                                                            'icu_id',\n",
       "                                                                                                                            'pre_icu_los_days',\n",
       "                                                                                                                            'weight',\n",
       "                                                                                                                            'apache_2_diagnosis',\n",
       "                                                                                                                            'apache_3j_diagnosis',\n",
       "                                                                                                                            'heart_rate_ap...\n",
       "                                                                                                                            'diabetes_mellitus',\n",
       "                                                                                                                            'hepatic_failure',\n",
       "                                                                                                                            'immunosuppression',\n",
       "                                                                                                                            'leukemia',\n",
       "                                                                                                                            'lymphoma',\n",
       "                                                                                                                            'solid_tumor_with_metastasis'])),\n",
       "                                                                                        ('imputer',\n",
       "                                                                                         MostFrequentImputer()),\n",
       "                                                                                        ('cat_encoder',\n",
       "                                                                                         OneHotEncoder(handle_unknown='ignore',\n",
       "                                                                                                       sparse=False))]))])),\n",
       "                                       ('scaler', StandardScaler()),\n",
       "                                       ('pca', PCA(n_components=20)),\n",
       "                                       ('over', SMOTE()),\n",
       "                                       ('classifier',\n",
       "                                        DecisionTreeClassifier())]),\n",
       "             param_grid={})"
      ]
     },
     "execution_count": 69,
     "metadata": {},
     "output_type": "execute_result"
    }
   ],
   "source": [
    "pipe = Pipeline([('preprocessing', preprocess_pipeline), \n",
    "                  ('scaler', StandardScaler()),\n",
    "                 ('pca', PCA(n_components=20)),\n",
    "                 ('over', SMOTE()),\n",
    "                 ('classifier', DecisionTreeClassifier()),\n",
    "                                   ])\n",
    "\n",
    "\n",
    "\n",
    "param_grid = {}\n",
    "            \n",
    "\n",
    "grid_27 = GridSearchCV(pipe, param_grid,cv=kfold)\n",
    "\n",
    "grid_27.fit(X_train, y_train)"
   ]
  },
  {
   "cell_type": "code",
   "execution_count": 70,
   "metadata": {},
   "outputs": [
    {
     "name": "stdout",
     "output_type": "stream",
     "text": [
      "BaselineLogisticRegression\n",
      "precision_score: 0.6532921810699589\n",
      "recall_score: 0.2673684210526316\n",
      "f1_score: 0.3794442784583209\n",
      "accuracy_score: 0.9245111579559497\n",
      "BaselineLogisticRegressionSMOTE\n",
      "precision_score: 0.2504263786242183\n",
      "recall_score: 0.7418947368421053\n",
      "f1_score: 0.3744554245032408\n",
      "accuracy_score: 0.7860361997528531\n",
      "RandomForest_BS\n",
      "precision_score: 0.6929698708751794\n",
      "recall_score: 0.2033684210526316\n",
      "f1_score: 0.31445312500000006\n",
      "accuracy_score: 0.9234571490877371\n",
      "RandomForest_BS_SMOTE\n",
      "precision_score: 0.3717908082408875\n",
      "recall_score: 0.4938947368421053\n",
      "f1_score: 0.42423146473779383\n",
      "accuracy_score: 0.8842770952969398\n",
      "XGBClassifier_GS\n",
      "precision_score: 0.6019512195121951\n",
      "recall_score: 0.2597894736842105\n",
      "f1_score: 0.36294117647058827\n",
      "accuracy_score: 0.9212764410845388\n",
      "XGBClassifier_GS_SMOTE\n",
      "precision_score: 0.2624511303756587\n",
      "recall_score: 0.6501052631578947\n",
      "f1_score: 0.37394042140954226\n",
      "accuracy_score: 0.8120956603910736\n",
      "LinerarSVC_GS\n",
      "precision_score: 0.6964618249534451\n",
      "recall_score: 0.15747368421052632\n",
      "f1_score: 0.25686813186813184\n",
      "accuracy_score: 0.921349131351312\n",
      "LinerarSVC_GS_SMOTE\n",
      "precision_score: 0.700587084148728\n",
      "recall_score: 0.15073684210526317\n",
      "f1_score: 0.24809424809424813\n",
      "accuracy_score: 0.9211310605509923\n",
      "ExtraTreesClassifier_GS\n",
      "precision_score: 0.6962699822380106\n",
      "recall_score: 0.16505263157894737\n",
      "f1_score: 0.2668481960517359\n",
      "accuracy_score: 0.9217125826851784\n",
      "ExtraTreesClassifier_GS_SMOTE\n",
      "precision_score: 0.3789938817131203\n",
      "recall_score: 0.4694736842105263\n",
      "f1_score: 0.41940944141433134\n",
      "accuracy_score: 0.8878025732354438\n",
      "AdaBoostClassifier_GS\n",
      "precision_score: 0.5923076923076923\n",
      "recall_score: 0.22694736842105262\n",
      "f1_score: 0.3281582952815829\n",
      "accuracy_score: 0.9197862906156865\n",
      "AdaBoostClassifier_GS_SMOTE\n",
      "precision_score: 0.24197090310183914\n",
      "recall_score: 0.7423157894736843\n",
      "f1_score: 0.36497257012731604\n",
      "accuracy_score: 0.7770226066729665\n",
      "KNeighborsClassifier_GS\n",
      "precision_score: 0.5339470655926352\n",
      "recall_score: 0.19536842105263158\n",
      "f1_score: 0.28606658446362515\n",
      "accuracy_score: 0.9158246710765429\n",
      "KNeighborsClassifier_GS_SMOTE\n",
      "precision_score: 0.22233651726671566\n",
      "recall_score: 0.6370526315789473\n",
      "f1_score: 0.32962962962962966\n",
      "accuracy_score: 0.7763320491386203\n",
      "GradientBoostingClassifier_GS\n",
      "precision_score: 0.6403301886792453\n",
      "recall_score: 0.2286315789473684\n",
      "f1_score: 0.33695314923983866\n",
      "accuracy_score: 0.9223304499527514\n",
      "GradientBoostingClassifier_GS_SMOTE\n",
      "precision_score: 0.2471692902513118\n",
      "recall_score: 0.7536842105263157\n",
      "f1_score: 0.3722574607465945\n",
      "accuracy_score: 0.7805844297448572\n",
      "BaggingClassifier_GS\n",
      "precision_score: 0.581145584725537\n",
      "recall_score: 0.20505263157894738\n",
      "f1_score: 0.30314347961406785\n",
      "accuracy_score: 0.9186232463473141\n",
      "BaggingClassifier_GS_SMOTE\n",
      "precision_score: 0.30403741999015266\n",
      "recall_score: 0.52\n",
      "f1_score: 0.383719123815442\n",
      "accuracy_score: 0.855818855855201\n",
      "VotingClassifier_GS\n",
      "precision_score: 0.7082601054481547\n",
      "recall_score: 0.1696842105263158\n",
      "f1_score: 0.2737771739130435\n",
      "accuracy_score: 0.9222941048193647\n",
      "VotingClassifier_GS\n",
      "precision_score: 0.36022625781482587\n",
      "recall_score: 0.5094736842105263\n",
      "f1_score: 0.42204394837809556\n",
      "accuracy_score: 0.8795522279566766\n",
      "DecisionTreeClassifier_GS\n",
      "precision_score: 0.29273914713791777\n",
      "recall_score: 0.3208421052631579\n",
      "f1_score: 0.30614704700683004\n",
      "accuracy_score: 0.874463909282547\n",
      "DecisionTreeClassifier_GS_SMOTE\n",
      "precision_score: 0.21364246024142555\n",
      "recall_score: 0.4694736842105263\n",
      "f1_score: 0.2936528838556755\n",
      "accuracy_score: 0.8050447045140655\n"
     ]
    }
   ],
   "source": [
    "models.append(('DecisionTreeClassifier_GS_SMOTE', grid_27.best_estimator_))\n",
    "\n",
    "\n",
    "\n",
    "precision_score = []\n",
    "recall_score = []\n",
    "f1_score = []\n",
    "accuracy_score = []\n",
    "for name, model in models:\n",
    "    print(name)\n",
    "    print(\"precision_score: {}\".format(metrics.precision_score(y_test, model.predict(X_test)) ))\n",
    "    print(\"recall_score: {}\".format( metrics.recall_score(y_test, model.predict(X_test)) ))\n",
    "    print(\"f1_score: {}\".format( metrics.f1_score(y_test, model.predict(X_test)) ))\n",
    "    print(\"accuracy_score: {}\".format( metrics.accuracy_score(y_test, model.predict(X_test)) ))\n",
    "    precision_score.append(metrics.precision_score(y_test, model.predict(X_test)))\n",
    "    recall_score.append(metrics.recall_score(y_test, model.predict(X_test)))\n",
    "    f1_score.append( metrics.f1_score(y_test, model.predict(X_test)))\n",
    "    accuracy_score.append(metrics.accuracy_score(y_test, model.predict(X_test)))"
   ]
  },
  {
   "cell_type": "markdown",
   "metadata": {},
   "source": [
    "## MLPClassifier"
   ]
  },
  {
   "cell_type": "code",
   "execution_count": 71,
   "metadata": {
    "scrolled": true
   },
   "outputs": [
    {
     "data": {
      "text/plain": [
       "GridSearchCV(cv=StratifiedKFold(n_splits=5, random_state=None, shuffle=False),\n",
       "             estimator=Pipeline(steps=[('preprocessing',\n",
       "                                        FeatureUnion(transformer_list=[('num_pipeline',\n",
       "                                                                        Pipeline(steps=[('select_numeric',\n",
       "                                                                                         DataFrameSelector(attribute_names=['age',\n",
       "                                                                                                                            'bmi',\n",
       "                                                                                                                            'height',\n",
       "                                                                                                                            'icu_id',\n",
       "                                                                                                                            'pre_icu_los_days',\n",
       "                                                                                                                            'weight',\n",
       "                                                                                                                            'apache_2_diagnosis',\n",
       "                                                                                                                            'apache_3j_diagnosis',\n",
       "                                                                                                                            'heart_rate_ap...\n",
       "                                                                                                                            'diabetes_mellitus',\n",
       "                                                                                                                            'hepatic_failure',\n",
       "                                                                                                                            'immunosuppression',\n",
       "                                                                                                                            'leukemia',\n",
       "                                                                                                                            'lymphoma',\n",
       "                                                                                                                            'solid_tumor_with_metastasis'])),\n",
       "                                                                                        ('imputer',\n",
       "                                                                                         MostFrequentImputer()),\n",
       "                                                                                        ('cat_encoder',\n",
       "                                                                                         OneHotEncoder(handle_unknown='ignore',\n",
       "                                                                                                       sparse=False))]))])),\n",
       "                                       ('scaler', MaxAbsScaler()),\n",
       "                                       ('pca', PCA(n_components=20)),\n",
       "                                       ('classifier',\n",
       "                                        MLPClassifier(hidden_layer_sizes=(64,\n",
       "                                                                          32,\n",
       "                                                                          16),\n",
       "                                                      max_iter=1000))]),\n",
       "             param_grid={})"
      ]
     },
     "execution_count": 71,
     "metadata": {},
     "output_type": "execute_result"
    }
   ],
   "source": [
    "from sklearn.neural_network import MLPClassifier\n",
    "from sklearn.preprocessing import MaxAbsScaler\n",
    "pipe = Pipeline([('preprocessing', preprocess_pipeline), \n",
    "                  ('scaler', MaxAbsScaler()),\n",
    "                 ('pca', PCA(n_components=20)),\n",
    "                 ('classifier', MLPClassifier((64,32,16),max_iter=1000)),\n",
    "                                   ])\n",
    "\n",
    "\n",
    "\n",
    "param_grid = { }\n",
    "\n",
    "\n",
    "grid_28 = GridSearchCV(pipe, param_grid,cv=kfold)\n",
    "\n",
    "grid_28.fit(X_train, y_train)\n"
   ]
  },
  {
   "cell_type": "code",
   "execution_count": 72,
   "metadata": {
    "scrolled": true
   },
   "outputs": [
    {
     "name": "stdout",
     "output_type": "stream",
     "text": [
      "BaselineLogisticRegression\n",
      "precision_score: 0.6532921810699589\n",
      "recall_score: 0.2673684210526316\n",
      "f1_score: 0.3794442784583209\n",
      "accuracy_score: 0.9245111579559497\n",
      "BaselineLogisticRegressionSMOTE\n",
      "precision_score: 0.2504263786242183\n",
      "recall_score: 0.7418947368421053\n",
      "f1_score: 0.3744554245032408\n",
      "accuracy_score: 0.7860361997528531\n",
      "RandomForest_BS\n",
      "precision_score: 0.6929698708751794\n",
      "recall_score: 0.2033684210526316\n",
      "f1_score: 0.31445312500000006\n",
      "accuracy_score: 0.9234571490877371\n",
      "RandomForest_BS_SMOTE\n",
      "precision_score: 0.3717908082408875\n",
      "recall_score: 0.4938947368421053\n",
      "f1_score: 0.42423146473779383\n",
      "accuracy_score: 0.8842770952969398\n",
      "XGBClassifier_GS\n",
      "precision_score: 0.6019512195121951\n",
      "recall_score: 0.2597894736842105\n",
      "f1_score: 0.36294117647058827\n",
      "accuracy_score: 0.9212764410845388\n",
      "XGBClassifier_GS_SMOTE\n",
      "precision_score: 0.2624511303756587\n",
      "recall_score: 0.6501052631578947\n",
      "f1_score: 0.37394042140954226\n",
      "accuracy_score: 0.8120956603910736\n",
      "LinerarSVC_GS\n",
      "precision_score: 0.6964618249534451\n",
      "recall_score: 0.15747368421052632\n",
      "f1_score: 0.25686813186813184\n",
      "accuracy_score: 0.921349131351312\n",
      "LinerarSVC_GS_SMOTE\n",
      "precision_score: 0.700587084148728\n",
      "recall_score: 0.15073684210526317\n",
      "f1_score: 0.24809424809424813\n",
      "accuracy_score: 0.9211310605509923\n",
      "ExtraTreesClassifier_GS\n",
      "precision_score: 0.6962699822380106\n",
      "recall_score: 0.16505263157894737\n",
      "f1_score: 0.2668481960517359\n",
      "accuracy_score: 0.9217125826851784\n",
      "ExtraTreesClassifier_GS_SMOTE\n",
      "precision_score: 0.3789938817131203\n",
      "recall_score: 0.4694736842105263\n",
      "f1_score: 0.41940944141433134\n",
      "accuracy_score: 0.8878025732354438\n",
      "AdaBoostClassifier_GS\n",
      "precision_score: 0.5923076923076923\n",
      "recall_score: 0.22694736842105262\n",
      "f1_score: 0.3281582952815829\n",
      "accuracy_score: 0.9197862906156865\n",
      "AdaBoostClassifier_GS_SMOTE\n",
      "precision_score: 0.24197090310183914\n",
      "recall_score: 0.7423157894736843\n",
      "f1_score: 0.36497257012731604\n",
      "accuracy_score: 0.7770226066729665\n",
      "KNeighborsClassifier_GS\n",
      "precision_score: 0.5339470655926352\n",
      "recall_score: 0.19536842105263158\n",
      "f1_score: 0.28606658446362515\n",
      "accuracy_score: 0.9158246710765429\n",
      "KNeighborsClassifier_GS_SMOTE\n",
      "precision_score: 0.22233651726671566\n",
      "recall_score: 0.6370526315789473\n",
      "f1_score: 0.32962962962962966\n",
      "accuracy_score: 0.7763320491386203\n",
      "GradientBoostingClassifier_GS\n",
      "precision_score: 0.6403301886792453\n",
      "recall_score: 0.2286315789473684\n",
      "f1_score: 0.33695314923983866\n",
      "accuracy_score: 0.9223304499527514\n",
      "GradientBoostingClassifier_GS_SMOTE\n",
      "precision_score: 0.2471692902513118\n",
      "recall_score: 0.7536842105263157\n",
      "f1_score: 0.3722574607465945\n",
      "accuracy_score: 0.7805844297448572\n",
      "BaggingClassifier_GS\n",
      "precision_score: 0.581145584725537\n",
      "recall_score: 0.20505263157894738\n",
      "f1_score: 0.30314347961406785\n",
      "accuracy_score: 0.9186232463473141\n",
      "BaggingClassifier_GS_SMOTE\n",
      "precision_score: 0.30403741999015266\n",
      "recall_score: 0.52\n",
      "f1_score: 0.383719123815442\n",
      "accuracy_score: 0.855818855855201\n",
      "VotingClassifier_GS\n",
      "precision_score: 0.7082601054481547\n",
      "recall_score: 0.1696842105263158\n",
      "f1_score: 0.2737771739130435\n",
      "accuracy_score: 0.9222941048193647\n",
      "VotingClassifier_GS\n",
      "precision_score: 0.36022625781482587\n",
      "recall_score: 0.5094736842105263\n",
      "f1_score: 0.42204394837809556\n",
      "accuracy_score: 0.8795522279566766\n",
      "DecisionTreeClassifier_GS\n",
      "precision_score: 0.29273914713791777\n",
      "recall_score: 0.3208421052631579\n",
      "f1_score: 0.30614704700683004\n",
      "accuracy_score: 0.874463909282547\n",
      "DecisionTreeClassifier_GS_SMOTE\n",
      "precision_score: 0.21364246024142555\n",
      "recall_score: 0.4694736842105263\n",
      "f1_score: 0.2936528838556755\n",
      "accuracy_score: 0.8050447045140655\n",
      "MLP_GS\n",
      "precision_score: 0.43375\n",
      "recall_score: 0.2922105263157895\n",
      "f1_score: 0.3491823899371069\n",
      "accuracy_score: 0.9059751399287636\n"
     ]
    }
   ],
   "source": [
    "models.append(('MLP_GS', grid_28.best_estimator_))\n",
    "\n",
    "\n",
    "\n",
    "precision_score = []\n",
    "recall_score = []\n",
    "f1_score = []\n",
    "accuracy_score = []\n",
    "for name, model in models:\n",
    "    print(name)\n",
    "    print(\"precision_score: {}\".format(metrics.precision_score(y_test, model.predict(X_test)) ))\n",
    "    print(\"recall_score: {}\".format( metrics.recall_score(y_test, model.predict(X_test)) ))\n",
    "    print(\"f1_score: {}\".format( metrics.f1_score(y_test, model.predict(X_test)) ))\n",
    "    print(\"accuracy_score: {}\".format( metrics.accuracy_score(y_test, model.predict(X_test)) ))\n",
    "    precision_score.append(metrics.precision_score(y_test, model.predict(X_test)))\n",
    "    recall_score.append(metrics.recall_score(y_test, model.predict(X_test)))\n",
    "    f1_score.append( metrics.f1_score(y_test, model.predict(X_test)))\n",
    "    accuracy_score.append(metrics.accuracy_score(y_test, model.predict(X_test)))"
   ]
  },
  {
   "cell_type": "code",
   "execution_count": null,
   "metadata": {},
   "outputs": [],
   "source": []
  },
  {
   "cell_type": "code",
   "execution_count": 73,
   "metadata": {},
   "outputs": [
    {
     "data": {
      "text/plain": [
       "GridSearchCV(cv=StratifiedKFold(n_splits=5, random_state=None, shuffle=False),\n",
       "             estimator=Pipeline(steps=[('preprocessing',\n",
       "                                        FeatureUnion(transformer_list=[('num_pipeline',\n",
       "                                                                        Pipeline(steps=[('select_numeric',\n",
       "                                                                                         DataFrameSelector(attribute_names=['age',\n",
       "                                                                                                                            'bmi',\n",
       "                                                                                                                            'height',\n",
       "                                                                                                                            'icu_id',\n",
       "                                                                                                                            'pre_icu_los_days',\n",
       "                                                                                                                            'weight',\n",
       "                                                                                                                            'apache_2_diagnosis',\n",
       "                                                                                                                            'apache_3j_diagnosis',\n",
       "                                                                                                                            'heart_rate_ap...\n",
       "                                                                                                                            'hepatic_failure',\n",
       "                                                                                                                            'immunosuppression',\n",
       "                                                                                                                            'leukemia',\n",
       "                                                                                                                            'lymphoma',\n",
       "                                                                                                                            'solid_tumor_with_metastasis'])),\n",
       "                                                                                        ('imputer',\n",
       "                                                                                         MostFrequentImputer()),\n",
       "                                                                                        ('cat_encoder',\n",
       "                                                                                         OneHotEncoder(handle_unknown='ignore',\n",
       "                                                                                                       sparse=False))]))])),\n",
       "                                       ('scaler', MaxAbsScaler()),\n",
       "                                       ('pca', PCA(n_components=20)),\n",
       "                                       ('over', SMOTE()),\n",
       "                                       ('classifier',\n",
       "                                        MLPClassifier(hidden_layer_sizes=(64,\n",
       "                                                                          32,\n",
       "                                                                          16),\n",
       "                                                      max_iter=1000))]),\n",
       "             param_grid={})"
      ]
     },
     "execution_count": 73,
     "metadata": {},
     "output_type": "execute_result"
    }
   ],
   "source": [
    "pipe = Pipeline([('preprocessing', preprocess_pipeline), \n",
    "                  ('scaler', MaxAbsScaler()),\n",
    "                 ('pca', PCA(n_components=20)),\n",
    "                 \n",
    "                  ('over', SMOTE()),\n",
    "                 ('classifier', MLPClassifier((64,32,16),max_iter=1000)),\n",
    "                                   ])\n",
    "\n",
    "\n",
    "\n",
    "param_grid = { }\n",
    "\n",
    "\n",
    "grid_29 = GridSearchCV(pipe, param_grid,cv=kfold)\n",
    "\n",
    "grid_29.fit(X_train, y_train)\n"
   ]
  },
  {
   "cell_type": "code",
   "execution_count": 74,
   "metadata": {
    "scrolled": true
   },
   "outputs": [
    {
     "name": "stdout",
     "output_type": "stream",
     "text": [
      "BaselineLogisticRegression\n",
      "precision_score: 0.6532921810699589\n",
      "recall_score: 0.2673684210526316\n",
      "f1_score: 0.3794442784583209\n",
      "accuracy_score: 0.9245111579559497\n",
      "BaselineLogisticRegressionSMOTE\n",
      "precision_score: 0.2504263786242183\n",
      "recall_score: 0.7418947368421053\n",
      "f1_score: 0.3744554245032408\n",
      "accuracy_score: 0.7860361997528531\n",
      "RandomForest_BS\n",
      "precision_score: 0.6929698708751794\n",
      "recall_score: 0.2033684210526316\n",
      "f1_score: 0.31445312500000006\n",
      "accuracy_score: 0.9234571490877371\n",
      "RandomForest_BS_SMOTE\n",
      "precision_score: 0.3717908082408875\n",
      "recall_score: 0.4938947368421053\n",
      "f1_score: 0.42423146473779383\n",
      "accuracy_score: 0.8842770952969398\n",
      "XGBClassifier_GS\n",
      "precision_score: 0.6019512195121951\n",
      "recall_score: 0.2597894736842105\n",
      "f1_score: 0.36294117647058827\n",
      "accuracy_score: 0.9212764410845388\n",
      "XGBClassifier_GS_SMOTE\n",
      "precision_score: 0.2624511303756587\n",
      "recall_score: 0.6501052631578947\n",
      "f1_score: 0.37394042140954226\n",
      "accuracy_score: 0.8120956603910736\n",
      "LinerarSVC_GS\n",
      "precision_score: 0.6964618249534451\n",
      "recall_score: 0.15747368421052632\n",
      "f1_score: 0.25686813186813184\n",
      "accuracy_score: 0.921349131351312\n",
      "LinerarSVC_GS_SMOTE\n",
      "precision_score: 0.700587084148728\n",
      "recall_score: 0.15073684210526317\n",
      "f1_score: 0.24809424809424813\n",
      "accuracy_score: 0.9211310605509923\n",
      "ExtraTreesClassifier_GS\n",
      "precision_score: 0.6962699822380106\n",
      "recall_score: 0.16505263157894737\n",
      "f1_score: 0.2668481960517359\n",
      "accuracy_score: 0.9217125826851784\n",
      "ExtraTreesClassifier_GS_SMOTE\n",
      "precision_score: 0.3789938817131203\n",
      "recall_score: 0.4694736842105263\n",
      "f1_score: 0.41940944141433134\n",
      "accuracy_score: 0.8878025732354438\n",
      "AdaBoostClassifier_GS\n",
      "precision_score: 0.5923076923076923\n",
      "recall_score: 0.22694736842105262\n",
      "f1_score: 0.3281582952815829\n",
      "accuracy_score: 0.9197862906156865\n",
      "AdaBoostClassifier_GS_SMOTE\n",
      "precision_score: 0.24197090310183914\n",
      "recall_score: 0.7423157894736843\n",
      "f1_score: 0.36497257012731604\n",
      "accuracy_score: 0.7770226066729665\n",
      "KNeighborsClassifier_GS\n",
      "precision_score: 0.5339470655926352\n",
      "recall_score: 0.19536842105263158\n",
      "f1_score: 0.28606658446362515\n",
      "accuracy_score: 0.9158246710765429\n",
      "KNeighborsClassifier_GS_SMOTE\n",
      "precision_score: 0.22233651726671566\n",
      "recall_score: 0.6370526315789473\n",
      "f1_score: 0.32962962962962966\n",
      "accuracy_score: 0.7763320491386203\n",
      "GradientBoostingClassifier_GS\n",
      "precision_score: 0.6403301886792453\n",
      "recall_score: 0.2286315789473684\n",
      "f1_score: 0.33695314923983866\n",
      "accuracy_score: 0.9223304499527514\n",
      "GradientBoostingClassifier_GS_SMOTE\n",
      "precision_score: 0.2471692902513118\n",
      "recall_score: 0.7536842105263157\n",
      "f1_score: 0.3722574607465945\n",
      "accuracy_score: 0.7805844297448572\n",
      "BaggingClassifier_GS\n",
      "precision_score: 0.581145584725537\n",
      "recall_score: 0.20505263157894738\n",
      "f1_score: 0.30314347961406785\n",
      "accuracy_score: 0.9186232463473141\n",
      "BaggingClassifier_GS_SMOTE\n",
      "precision_score: 0.30403741999015266\n",
      "recall_score: 0.52\n",
      "f1_score: 0.383719123815442\n",
      "accuracy_score: 0.855818855855201\n",
      "VotingClassifier_GS\n",
      "precision_score: 0.7082601054481547\n",
      "recall_score: 0.1696842105263158\n",
      "f1_score: 0.2737771739130435\n",
      "accuracy_score: 0.9222941048193647\n",
      "VotingClassifier_GS\n",
      "precision_score: 0.36022625781482587\n",
      "recall_score: 0.5094736842105263\n",
      "f1_score: 0.42204394837809556\n",
      "accuracy_score: 0.8795522279566766\n",
      "DecisionTreeClassifier_GS\n",
      "precision_score: 0.29273914713791777\n",
      "recall_score: 0.3208421052631579\n",
      "f1_score: 0.30614704700683004\n",
      "accuracy_score: 0.874463909282547\n",
      "DecisionTreeClassifier_GS_SMOTE\n",
      "precision_score: 0.21364246024142555\n",
      "recall_score: 0.4694736842105263\n",
      "f1_score: 0.2936528838556755\n",
      "accuracy_score: 0.8050447045140655\n",
      "MLP_GS\n",
      "precision_score: 0.43375\n",
      "recall_score: 0.2922105263157895\n",
      "f1_score: 0.3491823899371069\n",
      "accuracy_score: 0.9059751399287636\n",
      "MLP_GS_SMOTE\n",
      "precision_score: 0.27939233817701453\n",
      "recall_score: 0.5343157894736842\n",
      "f1_score: 0.366922076044528\n",
      "accuracy_score: 0.8408446608999055\n"
     ]
    }
   ],
   "source": [
    "models.append(('MLP_GS_SMOTE', grid_29.best_estimator_))\n",
    "\n",
    "\n",
    "\n",
    "precision_score = []\n",
    "recall_score = []\n",
    "f1_score = []\n",
    "accuracy_score = []\n",
    "for name, model in models:\n",
    "    print(name)\n",
    "    print(\"precision_score: {}\".format(metrics.precision_score(y_test, model.predict(X_test)) ))\n",
    "    print(\"recall_score: {}\".format( metrics.recall_score(y_test, model.predict(X_test)) ))\n",
    "    print(\"f1_score: {}\".format( metrics.f1_score(y_test, model.predict(X_test)) ))\n",
    "    print(\"accuracy_score: {}\".format( metrics.accuracy_score(y_test, model.predict(X_test)) ))\n",
    "    precision_score.append(metrics.precision_score(y_test, model.predict(X_test)))\n",
    "    recall_score.append(metrics.recall_score(y_test, model.predict(X_test)))\n",
    "    f1_score.append( metrics.f1_score(y_test, model.predict(X_test)))\n",
    "    accuracy_score.append(metrics.accuracy_score(y_test, model.predict(X_test)))"
   ]
  },
  {
   "cell_type": "code",
   "execution_count": null,
   "metadata": {},
   "outputs": [],
   "source": []
  },
  {
   "cell_type": "code",
   "execution_count": null,
   "metadata": {},
   "outputs": [],
   "source": []
  },
  {
   "cell_type": "code",
   "execution_count": 76,
   "metadata": {
    "scrolled": false
   },
   "outputs": [
    {
     "data": {
      "text/html": [
       "<div>\n",
       "<style scoped>\n",
       "    .dataframe tbody tr th:only-of-type {\n",
       "        vertical-align: middle;\n",
       "    }\n",
       "\n",
       "    .dataframe tbody tr th {\n",
       "        vertical-align: top;\n",
       "    }\n",
       "\n",
       "    .dataframe thead th {\n",
       "        text-align: right;\n",
       "    }\n",
       "</style>\n",
       "<table border=\"1\" class=\"dataframe\">\n",
       "  <thead>\n",
       "    <tr style=\"text-align: right;\">\n",
       "      <th></th>\n",
       "      <th>Method</th>\n",
       "      <th>precision_score</th>\n",
       "      <th>recall_score</th>\n",
       "      <th>f1_score</th>\n",
       "      <th>accuracy_score</th>\n",
       "    </tr>\n",
       "  </thead>\n",
       "  <tbody>\n",
       "    <tr>\n",
       "      <th>0</th>\n",
       "      <td>BaselineLogisticRegression</td>\n",
       "      <td>0.653292</td>\n",
       "      <td>0.267368</td>\n",
       "      <td>0.379444</td>\n",
       "      <td>0.924511</td>\n",
       "    </tr>\n",
       "    <tr>\n",
       "      <th>1</th>\n",
       "      <td>BaselineLogisticRegressionSMOTE</td>\n",
       "      <td>0.250426</td>\n",
       "      <td>0.741895</td>\n",
       "      <td>0.374455</td>\n",
       "      <td>0.786036</td>\n",
       "    </tr>\n",
       "    <tr>\n",
       "      <th>2</th>\n",
       "      <td>RandomForest_BS</td>\n",
       "      <td>0.692970</td>\n",
       "      <td>0.203368</td>\n",
       "      <td>0.314453</td>\n",
       "      <td>0.923457</td>\n",
       "    </tr>\n",
       "    <tr>\n",
       "      <th>3</th>\n",
       "      <td>RandomForest_BS_SMOTE</td>\n",
       "      <td>0.371791</td>\n",
       "      <td>0.493895</td>\n",
       "      <td>0.424231</td>\n",
       "      <td>0.884277</td>\n",
       "    </tr>\n",
       "    <tr>\n",
       "      <th>4</th>\n",
       "      <td>XGBClassifier_GS</td>\n",
       "      <td>0.601951</td>\n",
       "      <td>0.259789</td>\n",
       "      <td>0.362941</td>\n",
       "      <td>0.921276</td>\n",
       "    </tr>\n",
       "    <tr>\n",
       "      <th>5</th>\n",
       "      <td>XGBClassifier_GS_SMOTE</td>\n",
       "      <td>0.262451</td>\n",
       "      <td>0.650105</td>\n",
       "      <td>0.373940</td>\n",
       "      <td>0.812096</td>\n",
       "    </tr>\n",
       "    <tr>\n",
       "      <th>6</th>\n",
       "      <td>LinerarSVC_GS</td>\n",
       "      <td>0.696462</td>\n",
       "      <td>0.157474</td>\n",
       "      <td>0.256868</td>\n",
       "      <td>0.921349</td>\n",
       "    </tr>\n",
       "    <tr>\n",
       "      <th>7</th>\n",
       "      <td>LinerarSVC_GS_SMOTE</td>\n",
       "      <td>0.700587</td>\n",
       "      <td>0.150737</td>\n",
       "      <td>0.248094</td>\n",
       "      <td>0.921131</td>\n",
       "    </tr>\n",
       "    <tr>\n",
       "      <th>8</th>\n",
       "      <td>ExtraTreesClassifier_GS</td>\n",
       "      <td>0.696270</td>\n",
       "      <td>0.165053</td>\n",
       "      <td>0.266848</td>\n",
       "      <td>0.921713</td>\n",
       "    </tr>\n",
       "    <tr>\n",
       "      <th>9</th>\n",
       "      <td>ExtraTreesClassifier_GS_SMOTE</td>\n",
       "      <td>0.378994</td>\n",
       "      <td>0.469474</td>\n",
       "      <td>0.419409</td>\n",
       "      <td>0.887803</td>\n",
       "    </tr>\n",
       "    <tr>\n",
       "      <th>10</th>\n",
       "      <td>AdaBoostClassifier_GS</td>\n",
       "      <td>0.592308</td>\n",
       "      <td>0.226947</td>\n",
       "      <td>0.328158</td>\n",
       "      <td>0.919786</td>\n",
       "    </tr>\n",
       "    <tr>\n",
       "      <th>11</th>\n",
       "      <td>AdaBoostClassifier_GS_SMOTE</td>\n",
       "      <td>0.241971</td>\n",
       "      <td>0.742316</td>\n",
       "      <td>0.364973</td>\n",
       "      <td>0.777023</td>\n",
       "    </tr>\n",
       "    <tr>\n",
       "      <th>12</th>\n",
       "      <td>KNeighborsClassifier_GS</td>\n",
       "      <td>0.533947</td>\n",
       "      <td>0.195368</td>\n",
       "      <td>0.286067</td>\n",
       "      <td>0.915825</td>\n",
       "    </tr>\n",
       "    <tr>\n",
       "      <th>13</th>\n",
       "      <td>KNeighborsClassifier_GS_SMOTE</td>\n",
       "      <td>0.222337</td>\n",
       "      <td>0.637053</td>\n",
       "      <td>0.329630</td>\n",
       "      <td>0.776332</td>\n",
       "    </tr>\n",
       "    <tr>\n",
       "      <th>14</th>\n",
       "      <td>GradientBoostingClassifier_GS</td>\n",
       "      <td>0.640330</td>\n",
       "      <td>0.228632</td>\n",
       "      <td>0.336953</td>\n",
       "      <td>0.922330</td>\n",
       "    </tr>\n",
       "    <tr>\n",
       "      <th>15</th>\n",
       "      <td>GradientBoostingClassifier_GS_SMOTE</td>\n",
       "      <td>0.247169</td>\n",
       "      <td>0.753684</td>\n",
       "      <td>0.372257</td>\n",
       "      <td>0.780584</td>\n",
       "    </tr>\n",
       "    <tr>\n",
       "      <th>16</th>\n",
       "      <td>BaggingClassifier_GS</td>\n",
       "      <td>0.581146</td>\n",
       "      <td>0.205053</td>\n",
       "      <td>0.303143</td>\n",
       "      <td>0.918623</td>\n",
       "    </tr>\n",
       "    <tr>\n",
       "      <th>17</th>\n",
       "      <td>BaggingClassifier_GS_SMOTE</td>\n",
       "      <td>0.304037</td>\n",
       "      <td>0.520000</td>\n",
       "      <td>0.383719</td>\n",
       "      <td>0.855819</td>\n",
       "    </tr>\n",
       "    <tr>\n",
       "      <th>18</th>\n",
       "      <td>VotingClassifier_GS</td>\n",
       "      <td>0.708260</td>\n",
       "      <td>0.169684</td>\n",
       "      <td>0.273777</td>\n",
       "      <td>0.922294</td>\n",
       "    </tr>\n",
       "    <tr>\n",
       "      <th>19</th>\n",
       "      <td>VotingClassifier_GS_SMOTE</td>\n",
       "      <td>0.360226</td>\n",
       "      <td>0.509474</td>\n",
       "      <td>0.422044</td>\n",
       "      <td>0.879552</td>\n",
       "    </tr>\n",
       "    <tr>\n",
       "      <th>20</th>\n",
       "      <td>DecisionTreeClassifier_GS</td>\n",
       "      <td>0.292739</td>\n",
       "      <td>0.320842</td>\n",
       "      <td>0.306147</td>\n",
       "      <td>0.874464</td>\n",
       "    </tr>\n",
       "    <tr>\n",
       "      <th>21</th>\n",
       "      <td>DecisionTreeClassifier_GS_SMOTE</td>\n",
       "      <td>0.213642</td>\n",
       "      <td>0.469474</td>\n",
       "      <td>0.293653</td>\n",
       "      <td>0.805045</td>\n",
       "    </tr>\n",
       "    <tr>\n",
       "      <th>22</th>\n",
       "      <td>MLP_GS</td>\n",
       "      <td>0.433750</td>\n",
       "      <td>0.292211</td>\n",
       "      <td>0.349182</td>\n",
       "      <td>0.905975</td>\n",
       "    </tr>\n",
       "    <tr>\n",
       "      <th>23</th>\n",
       "      <td>MLP_GS_SMOTE</td>\n",
       "      <td>0.279392</td>\n",
       "      <td>0.534316</td>\n",
       "      <td>0.366922</td>\n",
       "      <td>0.840845</td>\n",
       "    </tr>\n",
       "  </tbody>\n",
       "</table>\n",
       "</div>"
      ],
      "text/plain": [
       "                                 Method  precision_score  recall_score  \\\n",
       "0            BaselineLogisticRegression         0.653292      0.267368   \n",
       "1       BaselineLogisticRegressionSMOTE         0.250426      0.741895   \n",
       "2                       RandomForest_BS         0.692970      0.203368   \n",
       "3                 RandomForest_BS_SMOTE         0.371791      0.493895   \n",
       "4                      XGBClassifier_GS         0.601951      0.259789   \n",
       "5                XGBClassifier_GS_SMOTE         0.262451      0.650105   \n",
       "6                         LinerarSVC_GS         0.696462      0.157474   \n",
       "7                   LinerarSVC_GS_SMOTE         0.700587      0.150737   \n",
       "8              ExtraTreesClassifier_GS          0.696270      0.165053   \n",
       "9         ExtraTreesClassifier_GS_SMOTE         0.378994      0.469474   \n",
       "10                AdaBoostClassifier_GS         0.592308      0.226947   \n",
       "11          AdaBoostClassifier_GS_SMOTE         0.241971      0.742316   \n",
       "12              KNeighborsClassifier_GS         0.533947      0.195368   \n",
       "13        KNeighborsClassifier_GS_SMOTE         0.222337      0.637053   \n",
       "14        GradientBoostingClassifier_GS         0.640330      0.228632   \n",
       "15  GradientBoostingClassifier_GS_SMOTE         0.247169      0.753684   \n",
       "16                 BaggingClassifier_GS         0.581146      0.205053   \n",
       "17           BaggingClassifier_GS_SMOTE         0.304037      0.520000   \n",
       "18                  VotingClassifier_GS         0.708260      0.169684   \n",
       "19            VotingClassifier_GS_SMOTE         0.360226      0.509474   \n",
       "20            DecisionTreeClassifier_GS         0.292739      0.320842   \n",
       "21      DecisionTreeClassifier_GS_SMOTE         0.213642      0.469474   \n",
       "22                               MLP_GS         0.433750      0.292211   \n",
       "23                         MLP_GS_SMOTE         0.279392      0.534316   \n",
       "\n",
       "    f1_score  accuracy_score  \n",
       "0   0.379444        0.924511  \n",
       "1   0.374455        0.786036  \n",
       "2   0.314453        0.923457  \n",
       "3   0.424231        0.884277  \n",
       "4   0.362941        0.921276  \n",
       "5   0.373940        0.812096  \n",
       "6   0.256868        0.921349  \n",
       "7   0.248094        0.921131  \n",
       "8   0.266848        0.921713  \n",
       "9   0.419409        0.887803  \n",
       "10  0.328158        0.919786  \n",
       "11  0.364973        0.777023  \n",
       "12  0.286067        0.915825  \n",
       "13  0.329630        0.776332  \n",
       "14  0.336953        0.922330  \n",
       "15  0.372257        0.780584  \n",
       "16  0.303143        0.918623  \n",
       "17  0.383719        0.855819  \n",
       "18  0.273777        0.922294  \n",
       "19  0.422044        0.879552  \n",
       "20  0.306147        0.874464  \n",
       "21  0.293653        0.805045  \n",
       "22  0.349182        0.905975  \n",
       "23  0.366922        0.840845  "
      ]
     },
     "execution_count": 76,
     "metadata": {},
     "output_type": "execute_result"
    }
   ],
   "source": [
    "import pandas as pd\n",
    "d = {'precision_score': precision_score, \n",
    "     'recall_score': recall_score, \n",
    "     'f1_score': f1_score,\n",
    "     'accuracy_score' : accuracy_score\n",
    "    }\n",
    "df = pd.DataFrame(data=d)\n",
    "df.insert(loc=0, column='Method', value=[\n",
    "                                        'BaselineLogisticRegression',\n",
    "                                        'BaselineLogisticRegressionSMOTE',\n",
    "                                        'RandomForest_BS',\n",
    "                                        'RandomForest_BS_SMOTE',\n",
    "                                        'XGBClassifier_GS',\n",
    "                                        'XGBClassifier_GS_SMOTE',\n",
    "                                        'LinerarSVC_GS',\n",
    "                                        'LinerarSVC_GS_SMOTE',\n",
    "                                        'ExtraTreesClassifier_GS ',\n",
    "                                        'ExtraTreesClassifier_GS_SMOTE',\n",
    "                                        'AdaBoostClassifier_GS',\n",
    "                                        'AdaBoostClassifier_GS_SMOTE',\n",
    "                                        'KNeighborsClassifier_GS',\n",
    "                                        'KNeighborsClassifier_GS_SMOTE',\n",
    "                                        'GradientBoostingClassifier_GS',\n",
    "                                        'GradientBoostingClassifier_GS_SMOTE',\n",
    "                                        'BaggingClassifier_GS',\n",
    "                                        'BaggingClassifier_GS_SMOTE',\n",
    "                                        'VotingClassifier_GS',\n",
    "                                        'VotingClassifier_GS_SMOTE',\n",
    "                                        'DecisionTreeClassifier_GS',\n",
    "                                        'DecisionTreeClassifier_GS_SMOTE',\n",
    "                                        'MLP_GS',\n",
    "                                        'MLP_GS_SMOTE',\n",
    "                                        ])\n",
    "df"
   ]
  },
  {
   "cell_type": "code",
   "execution_count": 109,
   "metadata": {},
   "outputs": [],
   "source": [
    "df_p=df.precision_score.mean(),df.precision_score.max(),df.precision_score.min(),"
   ]
  },
  {
   "cell_type": "code",
   "execution_count": 110,
   "metadata": {},
   "outputs": [],
   "source": [
    "df_r=df.recall_score.mean(),df.recall_score.max(),df.recall_score.min(),"
   ]
  },
  {
   "cell_type": "code",
   "execution_count": 111,
   "metadata": {},
   "outputs": [],
   "source": [
    "df_f=df.f1_score.mean(),df.f1_score.max(),df.f1_score.min(),"
   ]
  },
  {
   "cell_type": "code",
   "execution_count": 112,
   "metadata": {},
   "outputs": [],
   "source": [
    "df_a=df.accuracy_score.mean(),df.accuracy_score.max(),df.accuracy_score.min(),"
   ]
  },
  {
   "cell_type": "code",
   "execution_count": 113,
   "metadata": {},
   "outputs": [],
   "source": [
    "df_metrics = pd.DataFrame([df_p,df_r,df_f,df_a],columns=['mean,','max','min',],index=['precision_score' ,'recall_score' ,'f1_score' ,'accuracy_score' ])"
   ]
  },
  {
   "cell_type": "code",
   "execution_count": 114,
   "metadata": {},
   "outputs": [
    {
     "data": {
      "text/html": [
       "<div>\n",
       "<style scoped>\n",
       "    .dataframe tbody tr th:only-of-type {\n",
       "        vertical-align: middle;\n",
       "    }\n",
       "\n",
       "    .dataframe tbody tr th {\n",
       "        vertical-align: top;\n",
       "    }\n",
       "\n",
       "    .dataframe thead th {\n",
       "        text-align: right;\n",
       "    }\n",
       "</style>\n",
       "<table border=\"1\" class=\"dataframe\">\n",
       "  <thead>\n",
       "    <tr style=\"text-align: right;\">\n",
       "      <th></th>\n",
       "      <th>mean,</th>\n",
       "      <th>max</th>\n",
       "      <th>min</th>\n",
       "    </tr>\n",
       "  </thead>\n",
       "  <tbody>\n",
       "    <tr>\n",
       "      <th>precision_score</th>\n",
       "      <td>0.456519</td>\n",
       "      <td>0.708260</td>\n",
       "      <td>0.213642</td>\n",
       "    </tr>\n",
       "    <tr>\n",
       "      <th>recall_score</th>\n",
       "      <td>0.390175</td>\n",
       "      <td>0.753684</td>\n",
       "      <td>0.150737</td>\n",
       "    </tr>\n",
       "    <tr>\n",
       "      <th>f1_score</th>\n",
       "      <td>0.339055</td>\n",
       "      <td>0.424231</td>\n",
       "      <td>0.248094</td>\n",
       "    </tr>\n",
       "    <tr>\n",
       "      <th>accuracy_score</th>\n",
       "      <td>0.874923</td>\n",
       "      <td>0.924511</td>\n",
       "      <td>0.776332</td>\n",
       "    </tr>\n",
       "  </tbody>\n",
       "</table>\n",
       "</div>"
      ],
      "text/plain": [
       "                    mean,       max       min\n",
       "precision_score  0.456519  0.708260  0.213642\n",
       "recall_score     0.390175  0.753684  0.150737\n",
       "f1_score         0.339055  0.424231  0.248094\n",
       "accuracy_score   0.874923  0.924511  0.776332"
      ]
     },
     "execution_count": 114,
     "metadata": {},
     "output_type": "execute_result"
    }
   ],
   "source": [
    "df_metrics"
   ]
  },
  {
   "cell_type": "code",
   "execution_count": 118,
   "metadata": {},
   "outputs": [
    {
     "data": {
      "image/png": "[encoded data removed]",
      "text/plain": [
       "<Figure size 1440x720 with 1 Axes>"
      ]
     },
     "metadata": {
      "needs_background": "light"
     },
     "output_type": "display_data"
    }
   ],
   "source": [
    "_=df_metrics.plot(kind='bar',figsize=(20,10))"
   ]
  },
  {
   "cell_type": "code",
   "execution_count": 83,
   "metadata": {
    "scrolled": false
   },
   "outputs": [
    {
     "name": "stderr",
     "output_type": "stream",
     "text": [
      "<ipython-input-83-d0282e1d4cce>:1: UserWarning: Boolean Series key will be reindexed to match DataFrame index.\n",
      "  df[df['precision_score']>0.35][df['recall_score']>0.35]\n"
     ]
    },
    {
     "data": {
      "text/html": [
       "<div>\n",
       "<style scoped>\n",
       "    .dataframe tbody tr th:only-of-type {\n",
       "        vertical-align: middle;\n",
       "    }\n",
       "\n",
       "    .dataframe tbody tr th {\n",
       "        vertical-align: top;\n",
       "    }\n",
       "\n",
       "    .dataframe thead th {\n",
       "        text-align: right;\n",
       "    }\n",
       "</style>\n",
       "<table border=\"1\" class=\"dataframe\">\n",
       "  <thead>\n",
       "    <tr style=\"text-align: right;\">\n",
       "      <th></th>\n",
       "      <th>Method</th>\n",
       "      <th>precision_score</th>\n",
       "      <th>recall_score</th>\n",
       "      <th>f1_score</th>\n",
       "      <th>accuracy_score</th>\n",
       "    </tr>\n",
       "  </thead>\n",
       "  <tbody>\n",
       "    <tr>\n",
       "      <th>3</th>\n",
       "      <td>RandomForest_BS_SMOTE</td>\n",
       "      <td>0.371791</td>\n",
       "      <td>0.493895</td>\n",
       "      <td>0.424231</td>\n",
       "      <td>0.884277</td>\n",
       "    </tr>\n",
       "    <tr>\n",
       "      <th>9</th>\n",
       "      <td>ExtraTreesClassifier_GS_SMOTE</td>\n",
       "      <td>0.378994</td>\n",
       "      <td>0.469474</td>\n",
       "      <td>0.419409</td>\n",
       "      <td>0.887803</td>\n",
       "    </tr>\n",
       "    <tr>\n",
       "      <th>19</th>\n",
       "      <td>VotingClassifier_GS_SMOTE</td>\n",
       "      <td>0.360226</td>\n",
       "      <td>0.509474</td>\n",
       "      <td>0.422044</td>\n",
       "      <td>0.879552</td>\n",
       "    </tr>\n",
       "  </tbody>\n",
       "</table>\n",
       "</div>"
      ],
      "text/plain": [
       "                           Method  precision_score  recall_score  f1_score  \\\n",
       "3           RandomForest_BS_SMOTE         0.371791      0.493895  0.424231   \n",
       "9   ExtraTreesClassifier_GS_SMOTE         0.378994      0.469474  0.419409   \n",
       "19      VotingClassifier_GS_SMOTE         0.360226      0.509474  0.422044   \n",
       "\n",
       "    accuracy_score  \n",
       "3         0.884277  \n",
       "9         0.887803  \n",
       "19        0.879552  "
      ]
     },
     "execution_count": 83,
     "metadata": {},
     "output_type": "execute_result"
    }
   ],
   "source": [
    "df[df['precision_score']>0.35][df['recall_score']>0.35]"
   ]
  },
  {
   "cell_type": "code",
   "execution_count": 78,
   "metadata": {
    "scrolled": false
   },
   "outputs": [
    {
     "data": {
      "text/plain": [
       "<matplotlib.axes._subplots.AxesSubplot at 0x1e90148cfa0>"
      ]
     },
     "execution_count": 78,
     "metadata": {},
     "output_type": "execute_result"
    },
    {
     "data": {
      "image/png": "[encoded data removed]",
      "text/plain": [
       "<Figure size 1440x720 with 1 Axes>"
      ]
     },
     "metadata": {
      "needs_background": "light"
     },
     "output_type": "display_data"
    }
   ],
   "source": [
    "df.plot(figsize=(20,10))"
   ]
  },
  {
   "cell_type": "code",
   "execution_count": 119,
   "metadata": {
    "scrolled": false
   },
   "outputs": [
    {
     "data": {
      "text/plain": [
       "[<matplotlib.lines.Line2D at 0x1e9a8c06dc0>]"
      ]
     },
     "execution_count": 119,
     "metadata": {},
     "output_type": "execute_result"
    },
    {
     "data": {
      "image/png": "[encoded data removed]",
      "text/plain": [
       "<Figure size 1800x720 with 1 Axes>"
      ]
     },
     "metadata": {
      "needs_background": "light"
     },
     "output_type": "display_data"
    }
   ],
   "source": [
    "df.plot(kind='bar',figsize=(25,10))\n",
    "plt.xticks(rotation=90)\n",
    "plt.plot(0.40)\n"
   ]
  },
  {
   "cell_type": "markdown",
   "metadata": {},
   "source": [
    "*The list of model results shows us that it's hard to choose a good model for this collection. The recall increases with oversampling, but the precision drops drastically. The accuracy of the model has the highest measure and the smallest amplitude. Oversampled models fare better overall*"
   ]
  },
  {
   "cell_type": "markdown",
   "metadata": {},
   "source": [
    "# NEUTRAL NETWORK"
   ]
  },
  {
   "cell_type": "markdown",
   "metadata": {},
   "source": [
    "## Sequential"
   ]
  },
  {
   "cell_type": "code",
   "execution_count": 155,
   "metadata": {},
   "outputs": [],
   "source": [
    "from tensorflow.keras.models import Sequential\n",
    "from tensorflow.keras.layers import Dense, Dropout, Flatten\n",
    "from tensorflow.keras.callbacks import EarlyStopping\n",
    "from tensorflow.keras.metrics import Accuracy, Precision, Recall, MeanSquaredError\n",
    "from tensorflow.keras.losses import BinaryCrossentropy, CategoricalCrossentropy\n",
    "from tensorflow.keras.regularizers import l2\n",
    "from tensorflow.keras.optimizers import Adam"
   ]
  },
  {
   "cell_type": "code",
   "execution_count": 156,
   "metadata": {},
   "outputs": [],
   "source": [
    "early_stopping = EarlyStopping(monitor='val_loss', patience=10, restore_best_weights=True)"
   ]
  },
  {
   "cell_type": "markdown",
   "metadata": {},
   "source": [
    "*I have to again make a training split for the Sequential model because I can not attach pre processing pipeline to do it automatically.*"
   ]
  },
  {
   "cell_type": "code",
   "execution_count": 159,
   "metadata": {},
   "outputs": [],
   "source": [
    "X_train, X_test, y_train, y_test = train_test_split(X_scaled, y, test_size=0.3,stratify=y)"
   ]
  },
  {
   "cell_type": "code",
   "execution_count": 160,
   "metadata": {
    "scrolled": true
   },
   "outputs": [
    {
     "name": "stdout",
     "output_type": "stream",
     "text": [
      "Model: \"sequential_1\"\n",
      "_________________________________________________________________\n",
      " Layer (type)                Output Shape              Param #   \n",
      "=================================================================\n",
      " dense_4 (Dense)             (None, 1024)              153600    \n",
      "                                                                 \n",
      " dropout_3 (Dropout)         (None, 1024)              0         \n",
      "                                                                 \n",
      " dense_5 (Dense)             (None, 512)               524800    \n",
      "                                                                 \n",
      " dropout_4 (Dropout)         (None, 512)               0         \n",
      "                                                                 \n",
      " dense_6 (Dense)             (None, 256)               131328    \n",
      "                                                                 \n",
      " dropout_5 (Dropout)         (None, 256)               0         \n",
      "                                                                 \n",
      " dense_7 (Dense)             (None, 1)                 257       \n",
      "                                                                 \n",
      "=================================================================\n",
      "Total params: 809,985\n",
      "Trainable params: 809,985\n",
      "Non-trainable params: 0\n",
      "_________________________________________________________________\n",
      "Epoch 1/100\n",
      "1706/1706 [==============================] - 21s 12ms/step - loss: 0.5656 - accuracy: 0.0000e+00 - precision_1: 0.0828 - recall_1: 0.0427 - mean_squared_error: 0.1307 - val_loss: 0.4659 - val_accuracy: 0.0000e+00 - val_precision_1: 0.0000e+00 - val_recall_1: 0.0000e+00 - val_mean_squared_error: 0.0902\n",
      "Epoch 2/100\n",
      "1706/1706 [==============================] - 20s 12ms/step - loss: 0.4452 - accuracy: 0.0000e+00 - precision_1: 0.0000e+00 - recall_1: 0.0000e+00 - mean_squared_error: 0.0834 - val_loss: 0.4239 - val_accuracy: 0.0000e+00 - val_precision_1: 0.0000e+00 - val_recall_1: 0.0000e+00 - val_mean_squared_error: 0.0795\n",
      "Epoch 3/100\n",
      "1706/1706 [==============================] - 20s 12ms/step - loss: 0.4138 - accuracy: 0.0000e+00 - precision_1: 0.8571 - recall_1: 0.0013 - mean_squared_error: 0.0762 - val_loss: 0.3982 - val_accuracy: 0.0000e+00 - val_precision_1: 0.8333 - val_recall_1: 0.0059 - val_mean_squared_error: 0.0735\n",
      "Epoch 4/100\n",
      "1706/1706 [==============================] - 20s 12ms/step - loss: 0.3925 - accuracy: 0.0000e+00 - precision_1: 0.6441 - recall_1: 0.0243 - mean_squared_error: 0.0713 - val_loss: 0.3825 - val_accuracy: 0.0000e+00 - val_precision_1: 0.7966 - val_recall_1: 0.0550 - val_mean_squared_error: 0.0698\n",
      "Epoch 5/100\n",
      "1706/1706 [==============================] - 19s 11ms/step - loss: 0.3786 - accuracy: 0.0000e+00 - precision_1: 0.6692 - recall_1: 0.0747 - mean_squared_error: 0.0681 - val_loss: 0.3732 - val_accuracy: 0.0000e+00 - val_precision_1: 0.6826 - val_recall_1: 0.1335 - val_mean_squared_error: 0.0677\n",
      "Epoch 6/100\n",
      "1706/1706 [==============================] - 19s 11ms/step - loss: 0.3709 - accuracy: 0.0000e+00 - precision_1: 0.6384 - recall_1: 0.1300 - mean_squared_error: 0.0662 - val_loss: 0.3677 - val_accuracy: 0.0000e+00 - val_precision_1: 0.6594 - val_recall_1: 0.1768 - val_mean_squared_error: 0.0666\n",
      "Epoch 7/100\n",
      "1706/1706 [==============================] - 19s 11ms/step - loss: 0.3638 - accuracy: 0.0000e+00 - precision_1: 0.6267 - recall_1: 0.1605 - mean_squared_error: 0.0649 - val_loss: 0.3640 - val_accuracy: 0.0000e+00 - val_precision_1: 0.6360 - val_recall_1: 0.2026 - val_mean_squared_error: 0.0659\n",
      "Epoch 8/100\n",
      "1706/1706 [==============================] - 20s 12ms/step - loss: 0.3607 - accuracy: 0.0000e+00 - precision_1: 0.6112 - recall_1: 0.1825 - mean_squared_error: 0.0643 - val_loss: 0.3612 - val_accuracy: 0.0000e+00 - val_precision_1: 0.6283 - val_recall_1: 0.2237 - val_mean_squared_error: 0.0654\n",
      "Epoch 9/100\n",
      "1706/1706 [==============================] - 20s 12ms/step - loss: 0.3579 - accuracy: 0.0000e+00 - precision_1: 0.6014 - recall_1: 0.1880 - mean_squared_error: 0.0638 - val_loss: 0.3589 - val_accuracy: 0.0000e+00 - val_precision_1: 0.6250 - val_recall_1: 0.2400 - val_mean_squared_error: 0.0650\n",
      "Epoch 10/100\n",
      "1706/1706 [==============================] - 20s 12ms/step - loss: 0.3551 - accuracy: 0.0000e+00 - precision_1: 0.6057 - recall_1: 0.2072 - mean_squared_error: 0.0631 - val_loss: 0.3570 - val_accuracy: 0.0000e+00 - val_precision_1: 0.6121 - val_recall_1: 0.2494 - val_mean_squared_error: 0.0647\n",
      "Epoch 11/100\n",
      "1706/1706 [==============================] - 20s 11ms/step - loss: 0.3532 - accuracy: 0.0000e+00 - precision_1: 0.6050 - recall_1: 0.2164 - mean_squared_error: 0.0628 - val_loss: 0.3553 - val_accuracy: 0.0000e+00 - val_precision_1: 0.6040 - val_recall_1: 0.2447 - val_mean_squared_error: 0.0644\n",
      "Epoch 12/100\n",
      "1706/1706 [==============================] - 20s 12ms/step - loss: 0.3515 - accuracy: 0.0000e+00 - precision_1: 0.6118 - recall_1: 0.2243 - mean_squared_error: 0.0625 - val_loss: 0.3539 - val_accuracy: 0.0000e+00 - val_precision_1: 0.5983 - val_recall_1: 0.2529 - val_mean_squared_error: 0.0641\n",
      "Epoch 13/100\n",
      "1706/1706 [==============================] - 20s 11ms/step - loss: 0.3501 - accuracy: 0.0000e+00 - precision_1: 0.6111 - recall_1: 0.2247 - mean_squared_error: 0.0623 - val_loss: 0.3527 - val_accuracy: 0.0000e+00 - val_precision_1: 0.5873 - val_recall_1: 0.2600 - val_mean_squared_error: 0.0640\n",
      "Epoch 14/100\n",
      "1706/1706 [==============================] - 20s 11ms/step - loss: 0.3474 - accuracy: 0.0000e+00 - precision_1: 0.6174 - recall_1: 0.2352 - mean_squared_error: 0.0616 - val_loss: 0.3515 - val_accuracy: 0.0000e+00 - val_precision_1: 0.5940 - val_recall_1: 0.2553 - val_mean_squared_error: 0.0637\n",
      "Epoch 15/100\n",
      "1706/1706 [==============================] - 20s 11ms/step - loss: 0.3467 - accuracy: 0.0000e+00 - precision_1: 0.6162 - recall_1: 0.2303 - mean_squared_error: 0.0616 - val_loss: 0.3504 - val_accuracy: 0.0000e+00 - val_precision_1: 0.5851 - val_recall_1: 0.2576 - val_mean_squared_error: 0.0635\n",
      "Epoch 16/100\n",
      "1706/1706 [==============================] - 19s 11ms/step - loss: 0.3452 - accuracy: 0.0000e+00 - precision_1: 0.6115 - recall_1: 0.2358 - mean_squared_error: 0.0613 - val_loss: 0.3495 - val_accuracy: 0.0000e+00 - val_precision_1: 0.5858 - val_recall_1: 0.2600 - val_mean_squared_error: 0.0634\n",
      "Epoch 17/100\n",
      "1706/1706 [==============================] - 19s 11ms/step - loss: 0.3442 - accuracy: 0.0000e+00 - precision_1: 0.6288 - recall_1: 0.2448 - mean_squared_error: 0.0610 - val_loss: 0.3486 - val_accuracy: 0.0000e+00 - val_precision_1: 0.5887 - val_recall_1: 0.2564 - val_mean_squared_error: 0.0632\n",
      "Epoch 18/100\n",
      "1706/1706 [==============================] - 19s 11ms/step - loss: 0.3431 - accuracy: 0.0000e+00 - precision_1: 0.6247 - recall_1: 0.2416 - mean_squared_error: 0.0608 - val_loss: 0.3478 - val_accuracy: 0.0000e+00 - val_precision_1: 0.5862 - val_recall_1: 0.2588 - val_mean_squared_error: 0.0630\n",
      "Epoch 19/100\n",
      "1706/1706 [==============================] - 20s 11ms/step - loss: 0.3432 - accuracy: 0.0000e+00 - precision_1: 0.6347 - recall_1: 0.2518 - mean_squared_error: 0.0608 - val_loss: 0.3470 - val_accuracy: 0.0000e+00 - val_precision_1: 0.5853 - val_recall_1: 0.2611 - val_mean_squared_error: 0.0629\n",
      "Epoch 20/100\n",
      "1706/1706 [==============================] - 20s 11ms/step - loss: 0.3412 - accuracy: 0.0000e+00 - precision_1: 0.6345 - recall_1: 0.2471 - mean_squared_error: 0.0605 - val_loss: 0.3463 - val_accuracy: 0.0000e+00 - val_precision_1: 0.5798 - val_recall_1: 0.2553 - val_mean_squared_error: 0.0628\n",
      "Epoch 21/100\n",
      "1706/1706 [==============================] - 20s 11ms/step - loss: 0.3397 - accuracy: 0.0000e+00 - precision_1: 0.6372 - recall_1: 0.2522 - mean_squared_error: 0.0602 - val_loss: 0.3457 - val_accuracy: 0.0000e+00 - val_precision_1: 0.5898 - val_recall_1: 0.2576 - val_mean_squared_error: 0.0626\n",
      "Epoch 22/100\n",
      "1706/1706 [==============================] - 19s 11ms/step - loss: 0.3405 - accuracy: 0.0000e+00 - precision_1: 0.6320 - recall_1: 0.2488 - mean_squared_error: 0.0605 - val_loss: 0.3450 - val_accuracy: 0.0000e+00 - val_precision_1: 0.5941 - val_recall_1: 0.2588 - val_mean_squared_error: 0.0625\n",
      "Epoch 23/100\n",
      "1706/1706 [==============================] - 19s 11ms/step - loss: 0.3383 - accuracy: 0.0000e+00 - precision_1: 0.6442 - recall_1: 0.2554 - mean_squared_error: 0.0599 - val_loss: 0.3446 - val_accuracy: 0.0000e+00 - val_precision_1: 0.5933 - val_recall_1: 0.2681 - val_mean_squared_error: 0.0625\n",
      "Epoch 24/100\n",
      "1706/1706 [==============================] - 19s 11ms/step - loss: 0.3379 - accuracy: 0.0000e+00 - precision_1: 0.6425 - recall_1: 0.2554 - mean_squared_error: 0.0598 - val_loss: 0.3440 - val_accuracy: 0.0000e+00 - val_precision_1: 0.5964 - val_recall_1: 0.2681 - val_mean_squared_error: 0.0624\n",
      "Epoch 25/100\n",
      "1706/1706 [==============================] - 19s 11ms/step - loss: 0.3376 - accuracy: 0.0000e+00 - precision_1: 0.6339 - recall_1: 0.2576 - mean_squared_error: 0.0599 - val_loss: 0.3434 - val_accuracy: 0.0000e+00 - val_precision_1: 0.6021 - val_recall_1: 0.2693 - val_mean_squared_error: 0.0622\n",
      "Epoch 26/100\n",
      "1706/1706 [==============================] - 20s 11ms/step - loss: 0.3369 - accuracy: 0.0000e+00 - precision_1: 0.6440 - recall_1: 0.2567 - mean_squared_error: 0.0598 - val_loss: 0.3430 - val_accuracy: 0.0000e+00 - val_precision_1: 0.6042 - val_recall_1: 0.2717 - val_mean_squared_error: 0.0621\n",
      "Epoch 27/100\n",
      "1706/1706 [==============================] - 19s 11ms/step - loss: 0.3358 - accuracy: 0.0000e+00 - precision_1: 0.6416 - recall_1: 0.2582 - mean_squared_error: 0.0595 - val_loss: 0.3425 - val_accuracy: 0.0000e+00 - val_precision_1: 0.6005 - val_recall_1: 0.2693 - val_mean_squared_error: 0.0621\n",
      "Epoch 28/100\n",
      "1706/1706 [==============================] - 19s 11ms/step - loss: 0.3354 - accuracy: 0.0000e+00 - precision_1: 0.6412 - recall_1: 0.2616 - mean_squared_error: 0.0595 - val_loss: 0.3421 - val_accuracy: 0.0000e+00 - val_precision_1: 0.6000 - val_recall_1: 0.2705 - val_mean_squared_error: 0.0620\n",
      "Epoch 29/100\n",
      "1706/1706 [==============================] - 19s 11ms/step - loss: 0.3346 - accuracy: 0.0000e+00 - precision_1: 0.6328 - recall_1: 0.2563 - mean_squared_error: 0.0593 - val_loss: 0.3417 - val_accuracy: 0.0000e+00 - val_precision_1: 0.5974 - val_recall_1: 0.2693 - val_mean_squared_error: 0.0619\n",
      "Epoch 30/100\n",
      "1706/1706 [==============================] - 19s 11ms/step - loss: 0.3343 - accuracy: 0.0000e+00 - precision_1: 0.6397 - recall_1: 0.2580 - mean_squared_error: 0.0594 - val_loss: 0.3413 - val_accuracy: 0.0000e+00 - val_precision_1: 0.5974 - val_recall_1: 0.2728 - val_mean_squared_error: 0.0619\n",
      "Epoch 31/100\n",
      "1706/1706 [==============================] - 20s 12ms/step - loss: 0.3335 - accuracy: 0.0000e+00 - precision_1: 0.6403 - recall_1: 0.2640 - mean_squared_error: 0.0591 - val_loss: 0.3409 - val_accuracy: 0.0000e+00 - val_precision_1: 0.5985 - val_recall_1: 0.2740 - val_mean_squared_error: 0.0618\n",
      "Epoch 32/100\n",
      "1706/1706 [==============================] - 20s 12ms/step - loss: 0.3324 - accuracy: 0.0000e+00 - precision_1: 0.6382 - recall_1: 0.2563 - mean_squared_error: 0.0590 - val_loss: 0.3405 - val_accuracy: 0.0000e+00 - val_precision_1: 0.5990 - val_recall_1: 0.2728 - val_mean_squared_error: 0.0617\n",
      "Epoch 33/100\n",
      "1706/1706 [==============================] - 20s 12ms/step - loss: 0.3326 - accuracy: 0.0000e+00 - precision_1: 0.6530 - recall_1: 0.2682 - mean_squared_error: 0.0589 - val_loss: 0.3401 - val_accuracy: 0.0000e+00 - val_precision_1: 0.6037 - val_recall_1: 0.2693 - val_mean_squared_error: 0.0617\n",
      "Epoch 34/100\n",
      "1706/1706 [==============================] - 20s 12ms/step - loss: 0.3323 - accuracy: 0.0000e+00 - precision_1: 0.6509 - recall_1: 0.2650 - mean_squared_error: 0.0589 - val_loss: 0.3398 - val_accuracy: 0.0000e+00 - val_precision_1: 0.6005 - val_recall_1: 0.2763 - val_mean_squared_error: 0.0617\n",
      "Epoch 35/100\n",
      "1706/1706 [==============================] - 19s 11ms/step - loss: 0.3305 - accuracy: 0.0000e+00 - precision_1: 0.6514 - recall_1: 0.2700 - mean_squared_error: 0.0585 - val_loss: 0.3395 - val_accuracy: 0.0000e+00 - val_precision_1: 0.6042 - val_recall_1: 0.2717 - val_mean_squared_error: 0.0616\n",
      "Epoch 36/100\n",
      "1706/1706 [==============================] - 20s 11ms/step - loss: 0.3311 - accuracy: 0.0000e+00 - precision_1: 0.6575 - recall_1: 0.2646 - mean_squared_error: 0.0587 - val_loss: 0.3393 - val_accuracy: 0.0000e+00 - val_precision_1: 0.5995 - val_recall_1: 0.2857 - val_mean_squared_error: 0.0616\n",
      "Epoch 37/100\n",
      "1706/1706 [==============================] - 20s 12ms/step - loss: 0.3303 - accuracy: 0.0000e+00 - precision_1: 0.6489 - recall_1: 0.2706 - mean_squared_error: 0.0585 - val_loss: 0.3389 - val_accuracy: 0.0000e+00 - val_precision_1: 0.6127 - val_recall_1: 0.2705 - val_mean_squared_error: 0.0614\n",
      "Epoch 38/100\n",
      "1706/1706 [==============================] - 20s 12ms/step - loss: 0.3293 - accuracy: 0.0000e+00 - precision_1: 0.6543 - recall_1: 0.2678 - mean_squared_error: 0.0585 - val_loss: 0.3386 - val_accuracy: 0.0000e+00 - val_precision_1: 0.6071 - val_recall_1: 0.2787 - val_mean_squared_error: 0.0614\n",
      "Epoch 39/100\n",
      "1706/1706 [==============================] - 20s 11ms/step - loss: 0.3292 - accuracy: 0.0000e+00 - precision_1: 0.6553 - recall_1: 0.2674 - mean_squared_error: 0.0582 - val_loss: 0.3383 - val_accuracy: 0.0000e+00 - val_precision_1: 0.6076 - val_recall_1: 0.2810 - val_mean_squared_error: 0.0614\n",
      "Epoch 40/100\n",
      "1706/1706 [==============================] - 19s 11ms/step - loss: 0.3295 - accuracy: 0.0000e+00 - precision_1: 0.6615 - recall_1: 0.2749 - mean_squared_error: 0.0584 - val_loss: 0.3380 - val_accuracy: 0.0000e+00 - val_precision_1: 0.6101 - val_recall_1: 0.2822 - val_mean_squared_error: 0.0613\n",
      "Epoch 41/100\n",
      "1706/1706 [==============================] - 19s 11ms/step - loss: 0.3289 - accuracy: 0.0000e+00 - precision_1: 0.6631 - recall_1: 0.2759 - mean_squared_error: 0.0583 - val_loss: 0.3376 - val_accuracy: 0.0000e+00 - val_precision_1: 0.6108 - val_recall_1: 0.2775 - val_mean_squared_error: 0.0613\n",
      "Epoch 42/100\n",
      "1706/1706 [==============================] - 19s 11ms/step - loss: 0.3277 - accuracy: 0.0000e+00 - precision_1: 0.6590 - recall_1: 0.2693 - mean_squared_error: 0.0580 - val_loss: 0.3374 - val_accuracy: 0.0000e+00 - val_precision_1: 0.6117 - val_recall_1: 0.2822 - val_mean_squared_error: 0.0613\n",
      "Epoch 43/100\n",
      "1706/1706 [==============================] - 20s 12ms/step - loss: 0.3274 - accuracy: 0.0000e+00 - precision_1: 0.6660 - recall_1: 0.2736 - mean_squared_error: 0.0579 - val_loss: 0.3371 - val_accuracy: 0.0000e+00 - val_precision_1: 0.6154 - val_recall_1: 0.2810 - val_mean_squared_error: 0.0612\n",
      "Epoch 44/100\n",
      "1706/1706 [==============================] - 19s 11ms/step - loss: 0.3271 - accuracy: 0.0000e+00 - precision_1: 0.6595 - recall_1: 0.2732 - mean_squared_error: 0.0579 - val_loss: 0.3368 - val_accuracy: 0.0000e+00 - val_precision_1: 0.6154 - val_recall_1: 0.2810 - val_mean_squared_error: 0.0611\n",
      "Epoch 45/100\n",
      "1706/1706 [==============================] - 20s 12ms/step - loss: 0.3277 - accuracy: 0.0000e+00 - precision_1: 0.6549 - recall_1: 0.2685 - mean_squared_error: 0.0582 - val_loss: 0.3365 - val_accuracy: 0.0000e+00 - val_precision_1: 0.6117 - val_recall_1: 0.2822 - val_mean_squared_error: 0.0611\n",
      "Epoch 46/100\n",
      "1706/1706 [==============================] - 19s 11ms/step - loss: 0.3265 - accuracy: 0.0000e+00 - precision_1: 0.6533 - recall_1: 0.2751 - mean_squared_error: 0.0580 - val_loss: 0.3363 - val_accuracy: 0.0000e+00 - val_precision_1: 0.6207 - val_recall_1: 0.2740 - val_mean_squared_error: 0.0610\n",
      "Epoch 47/100\n",
      "1706/1706 [==============================] - 19s 11ms/step - loss: 0.3258 - accuracy: 0.0000e+00 - precision_1: 0.6636 - recall_1: 0.2727 - mean_squared_error: 0.0578 - val_loss: 0.3360 - val_accuracy: 0.0000e+00 - val_precision_1: 0.6055 - val_recall_1: 0.2822 - val_mean_squared_error: 0.0611\n",
      "Epoch 48/100\n",
      "1706/1706 [==============================] - 20s 12ms/step - loss: 0.3254 - accuracy: 0.0000e+00 - precision_1: 0.6623 - recall_1: 0.2796 - mean_squared_error: 0.0578 - val_loss: 0.3357 - val_accuracy: 0.0000e+00 - val_precision_1: 0.6168 - val_recall_1: 0.2752 - val_mean_squared_error: 0.0610\n",
      "Epoch 49/100\n",
      "1706/1706 [==============================] - 20s 12ms/step - loss: 0.3254 - accuracy: 0.0000e+00 - precision_1: 0.6699 - recall_1: 0.2781 - mean_squared_error: 0.0577 - val_loss: 0.3355 - val_accuracy: 0.0000e+00 - val_precision_1: 0.6114 - val_recall_1: 0.2763 - val_mean_squared_error: 0.0609\n"
     ]
    },
    {
     "name": "stdout",
     "output_type": "stream",
     "text": [
      "Epoch 50/100\n",
      "1706/1706 [==============================] - 20s 12ms/step - loss: 0.3238 - accuracy: 0.0000e+00 - precision_1: 0.6781 - recall_1: 0.2796 - mean_squared_error: 0.0573 - val_loss: 0.3353 - val_accuracy: 0.0000e+00 - val_precision_1: 0.6075 - val_recall_1: 0.2845 - val_mean_squared_error: 0.0610\n",
      "Epoch 51/100\n",
      "1706/1706 [==============================] - 19s 11ms/step - loss: 0.3246 - accuracy: 0.0000e+00 - precision_1: 0.6740 - recall_1: 0.2798 - mean_squared_error: 0.0576 - val_loss: 0.3351 - val_accuracy: 0.0000e+00 - val_precision_1: 0.6075 - val_recall_1: 0.2845 - val_mean_squared_error: 0.0609\n",
      "Epoch 52/100\n",
      "1706/1706 [==============================] - 19s 11ms/step - loss: 0.3245 - accuracy: 0.0000e+00 - precision_1: 0.6626 - recall_1: 0.2808 - mean_squared_error: 0.0577 - val_loss: 0.3348 - val_accuracy: 0.0000e+00 - val_precision_1: 0.6132 - val_recall_1: 0.2822 - val_mean_squared_error: 0.0609\n",
      "Epoch 53/100\n",
      "1706/1706 [==============================] - 19s 11ms/step - loss: 0.3241 - accuracy: 0.0000e+00 - precision_1: 0.6653 - recall_1: 0.2766 - mean_squared_error: 0.0576 - val_loss: 0.3345 - val_accuracy: 0.0000e+00 - val_precision_1: 0.6160 - val_recall_1: 0.2799 - val_mean_squared_error: 0.0608\n",
      "Epoch 54/100\n",
      "1706/1706 [==============================] - 19s 11ms/step - loss: 0.3233 - accuracy: 0.0000e+00 - precision_1: 0.6679 - recall_1: 0.2798 - mean_squared_error: 0.0574 - val_loss: 0.3343 - val_accuracy: 0.0000e+00 - val_precision_1: 0.6162 - val_recall_1: 0.2763 - val_mean_squared_error: 0.0608\n",
      "Epoch 55/100\n",
      "1706/1706 [==============================] - 19s 11ms/step - loss: 0.3227 - accuracy: 0.0000e+00 - precision_1: 0.6679 - recall_1: 0.2742 - mean_squared_error: 0.0571 - val_loss: 0.3341 - val_accuracy: 0.0000e+00 - val_precision_1: 0.6132 - val_recall_1: 0.2822 - val_mean_squared_error: 0.0608\n",
      "Epoch 56/100\n",
      "1706/1706 [==============================] - 19s 11ms/step - loss: 0.3221 - accuracy: 0.0000e+00 - precision_1: 0.6714 - recall_1: 0.2808 - mean_squared_error: 0.0572 - val_loss: 0.3339 - val_accuracy: 0.0000e+00 - val_precision_1: 0.6154 - val_recall_1: 0.2810 - val_mean_squared_error: 0.0607\n",
      "Epoch 57/100\n",
      "1706/1706 [==============================] - 19s 11ms/step - loss: 0.3222 - accuracy: 0.0000e+00 - precision_1: 0.6793 - recall_1: 0.2879 - mean_squared_error: 0.0572 - val_loss: 0.3337 - val_accuracy: 0.0000e+00 - val_precision_1: 0.6136 - val_recall_1: 0.2845 - val_mean_squared_error: 0.0607\n",
      "Epoch 58/100\n",
      "1706/1706 [==============================] - 19s 11ms/step - loss: 0.3226 - accuracy: 0.0000e+00 - precision_1: 0.6687 - recall_1: 0.2808 - mean_squared_error: 0.0573 - val_loss: 0.3335 - val_accuracy: 0.0000e+00 - val_precision_1: 0.6029 - val_recall_1: 0.2916 - val_mean_squared_error: 0.0608\n",
      "Epoch 59/100\n",
      "1706/1706 [==============================] - 19s 11ms/step - loss: 0.3221 - accuracy: 0.0000e+00 - precision_1: 0.6724 - recall_1: 0.2851 - mean_squared_error: 0.0571 - val_loss: 0.3332 - val_accuracy: 0.0000e+00 - val_precision_1: 0.6055 - val_recall_1: 0.2857 - val_mean_squared_error: 0.0607\n",
      "Epoch 60/100\n",
      "1706/1706 [==============================] - 19s 11ms/step - loss: 0.3210 - accuracy: 0.0000e+00 - precision_1: 0.6775 - recall_1: 0.2843 - mean_squared_error: 0.0568 - val_loss: 0.3330 - val_accuracy: 0.0000e+00 - val_precision_1: 0.6044 - val_recall_1: 0.2881 - val_mean_squared_error: 0.0607\n",
      "Epoch 61/100\n",
      "1706/1706 [==============================] - 19s 11ms/step - loss: 0.3205 - accuracy: 0.0000e+00 - precision_1: 0.6809 - recall_1: 0.2924 - mean_squared_error: 0.0568 - val_loss: 0.3328 - val_accuracy: 0.0000e+00 - val_precision_1: 0.6070 - val_recall_1: 0.2857 - val_mean_squared_error: 0.0606\n",
      "Epoch 62/100\n",
      "1706/1706 [==============================] - 19s 11ms/step - loss: 0.3196 - accuracy: 0.0000e+00 - precision_1: 0.6636 - recall_1: 0.2883 - mean_squared_error: 0.0567 - val_loss: 0.3326 - val_accuracy: 0.0000e+00 - val_precision_1: 0.6121 - val_recall_1: 0.2845 - val_mean_squared_error: 0.0606\n",
      "Epoch 63/100\n",
      "1706/1706 [==============================] - 19s 11ms/step - loss: 0.3201 - accuracy: 0.0000e+00 - precision_1: 0.6714 - recall_1: 0.2830 - mean_squared_error: 0.0568 - val_loss: 0.3324 - val_accuracy: 0.0000e+00 - val_precision_1: 0.6136 - val_recall_1: 0.2845 - val_mean_squared_error: 0.0606\n",
      "Epoch 64/100\n",
      "1706/1706 [==============================] - 19s 11ms/step - loss: 0.3196 - accuracy: 0.0000e+00 - precision_1: 0.6849 - recall_1: 0.2853 - mean_squared_error: 0.0566 - val_loss: 0.3323 - val_accuracy: 0.0000e+00 - val_precision_1: 0.6115 - val_recall_1: 0.2857 - val_mean_squared_error: 0.0606\n",
      "Epoch 65/100\n",
      "1706/1706 [==============================] - 19s 11ms/step - loss: 0.3196 - accuracy: 0.0000e+00 - precision_1: 0.6747 - recall_1: 0.2872 - mean_squared_error: 0.0567 - val_loss: 0.3321 - val_accuracy: 0.0000e+00 - val_precision_1: 0.6121 - val_recall_1: 0.2845 - val_mean_squared_error: 0.0605\n",
      "Epoch 66/100\n",
      "1706/1706 [==============================] - 19s 11ms/step - loss: 0.3197 - accuracy: 0.0000e+00 - precision_1: 0.6740 - recall_1: 0.2868 - mean_squared_error: 0.0567 - val_loss: 0.3319 - val_accuracy: 0.0000e+00 - val_precision_1: 0.6054 - val_recall_1: 0.2892 - val_mean_squared_error: 0.0605\n",
      "Epoch 67/100\n",
      "1706/1706 [==============================] - 19s 11ms/step - loss: 0.3192 - accuracy: 0.0000e+00 - precision_1: 0.6776 - recall_1: 0.2862 - mean_squared_error: 0.0567 - val_loss: 0.3316 - val_accuracy: 0.0000e+00 - val_precision_1: 0.6054 - val_recall_1: 0.2892 - val_mean_squared_error: 0.0605\n",
      "Epoch 68/100\n",
      "1706/1706 [==============================] - 19s 11ms/step - loss: 0.3185 - accuracy: 0.0000e+00 - precision_1: 0.6877 - recall_1: 0.2928 - mean_squared_error: 0.0566 - val_loss: 0.3314 - val_accuracy: 0.0000e+00 - val_precision_1: 0.6099 - val_recall_1: 0.2892 - val_mean_squared_error: 0.0605\n",
      "Epoch 69/100\n",
      "1706/1706 [==============================] - 19s 11ms/step - loss: 0.3178 - accuracy: 0.0000e+00 - precision_1: 0.6888 - recall_1: 0.2900 - mean_squared_error: 0.0563 - val_loss: 0.3313 - val_accuracy: 0.0000e+00 - val_precision_1: 0.6175 - val_recall_1: 0.2892 - val_mean_squared_error: 0.0604\n",
      "Epoch 70/100\n",
      "1706/1706 [==============================] - 19s 11ms/step - loss: 0.3181 - accuracy: 0.0000e+00 - precision_1: 0.6854 - recall_1: 0.2864 - mean_squared_error: 0.0566 - val_loss: 0.3311 - val_accuracy: 0.0000e+00 - val_precision_1: 0.6039 - val_recall_1: 0.2927 - val_mean_squared_error: 0.0605\n",
      "Epoch 71/100\n",
      "1706/1706 [==============================] - 19s 11ms/step - loss: 0.3177 - accuracy: 0.0000e+00 - precision_1: 0.6781 - recall_1: 0.2945 - mean_squared_error: 0.0564 - val_loss: 0.3309 - val_accuracy: 0.0000e+00 - val_precision_1: 0.6088 - val_recall_1: 0.2916 - val_mean_squared_error: 0.0604\n",
      "Epoch 72/100\n",
      "1706/1706 [==============================] - 19s 11ms/step - loss: 0.3177 - accuracy: 0.0000e+00 - precision_1: 0.6843 - recall_1: 0.2932 - mean_squared_error: 0.0564 - val_loss: 0.3307 - val_accuracy: 0.0000e+00 - val_precision_1: 0.6083 - val_recall_1: 0.2927 - val_mean_squared_error: 0.0604\n",
      "Epoch 73/100\n",
      "1706/1706 [==============================] - 19s 11ms/step - loss: 0.3171 - accuracy: 0.0000e+00 - precision_1: 0.6751 - recall_1: 0.2904 - mean_squared_error: 0.0563 - val_loss: 0.3305 - val_accuracy: 0.0000e+00 - val_precision_1: 0.6103 - val_recall_1: 0.2916 - val_mean_squared_error: 0.0603\n",
      "Epoch 74/100\n",
      "1706/1706 [==============================] - 19s 11ms/step - loss: 0.3162 - accuracy: 0.0000e+00 - precision_1: 0.6715 - recall_1: 0.2853 - mean_squared_error: 0.0562 - val_loss: 0.3303 - val_accuracy: 0.0000e+00 - val_precision_1: 0.6103 - val_recall_1: 0.2916 - val_mean_squared_error: 0.0603\n",
      "Epoch 75/100\n",
      "1706/1706 [==============================] - 19s 11ms/step - loss: 0.3165 - accuracy: 0.0000e+00 - precision_1: 0.6914 - recall_1: 0.2964 - mean_squared_error: 0.0561 - val_loss: 0.3301 - val_accuracy: 0.0000e+00 - val_precision_1: 0.6133 - val_recall_1: 0.2916 - val_mean_squared_error: 0.0603\n",
      "Epoch 76/100\n",
      "1706/1706 [==============================] - 19s 11ms/step - loss: 0.3170 - accuracy: 0.0000e+00 - precision_1: 0.6806 - recall_1: 0.2919 - mean_squared_error: 0.0565 - val_loss: 0.3299 - val_accuracy: 0.0000e+00 - val_precision_1: 0.6103 - val_recall_1: 0.2916 - val_mean_squared_error: 0.0603\n"
     ]
    },
    {
     "name": "stdout",
     "output_type": "stream",
     "text": [
      "Epoch 77/100\n",
      "1706/1706 [==============================] - 19s 11ms/step - loss: 0.3159 - accuracy: 0.0000e+00 - precision_1: 0.6859 - recall_1: 0.2964 - mean_squared_error: 0.0561 - val_loss: 0.3297 - val_accuracy: 0.0000e+00 - val_precision_1: 0.6098 - val_recall_1: 0.2927 - val_mean_squared_error: 0.0603\n",
      "Epoch 78/100\n",
      "1706/1706 [==============================] - 19s 11ms/step - loss: 0.3153 - accuracy: 0.0000e+00 - precision_1: 0.6829 - recall_1: 0.2960 - mean_squared_error: 0.0562 - val_loss: 0.3295 - val_accuracy: 0.0000e+00 - val_precision_1: 0.6154 - val_recall_1: 0.2904 - val_mean_squared_error: 0.0602\n",
      "Epoch 79/100\n",
      "1706/1706 [==============================] - 19s 11ms/step - loss: 0.3153 - accuracy: 0.0000e+00 - precision_1: 0.6746 - recall_1: 0.2960 - mean_squared_error: 0.0561 - val_loss: 0.3293 - val_accuracy: 0.0000e+00 - val_precision_1: 0.6139 - val_recall_1: 0.2904 - val_mean_squared_error: 0.0602\n",
      "Epoch 80/100\n",
      "1706/1706 [==============================] - 19s 11ms/step - loss: 0.3155 - accuracy: 0.0000e+00 - precision_1: 0.6935 - recall_1: 0.2926 - mean_squared_error: 0.0560 - val_loss: 0.3292 - val_accuracy: 0.0000e+00 - val_precision_1: 0.6082 - val_recall_1: 0.2963 - val_mean_squared_error: 0.0602\n",
      "Epoch 81/100\n",
      "1706/1706 [==============================] - 19s 11ms/step - loss: 0.3145 - accuracy: 0.0000e+00 - precision_1: 0.6817 - recall_1: 0.2971 - mean_squared_error: 0.0558 - val_loss: 0.3290 - val_accuracy: 0.0000e+00 - val_precision_1: 0.6122 - val_recall_1: 0.2939 - val_mean_squared_error: 0.0602\n",
      "Epoch 82/100\n",
      "1706/1706 [==============================] - 19s 11ms/step - loss: 0.3144 - accuracy: 0.0000e+00 - precision_1: 0.6868 - recall_1: 0.2966 - mean_squared_error: 0.0558 - val_loss: 0.3288 - val_accuracy: 0.0000e+00 - val_precision_1: 0.6108 - val_recall_1: 0.2904 - val_mean_squared_error: 0.0601\n",
      "Epoch 83/100\n",
      "1706/1706 [==============================] - 19s 11ms/step - loss: 0.3132 - accuracy: 0.0000e+00 - precision_1: 0.6852 - recall_1: 0.2996 - mean_squared_error: 0.0556 - val_loss: 0.3287 - val_accuracy: 0.0000e+00 - val_precision_1: 0.6108 - val_recall_1: 0.2904 - val_mean_squared_error: 0.0601\n",
      "Epoch 84/100\n",
      "1706/1706 [==============================] - 19s 11ms/step - loss: 0.3136 - accuracy: 0.0000e+00 - precision_1: 0.6930 - recall_1: 0.2958 - mean_squared_error: 0.0557 - val_loss: 0.3285 - val_accuracy: 0.0000e+00 - val_precision_1: 0.6086 - val_recall_1: 0.2986 - val_mean_squared_error: 0.0601\n",
      "Epoch 85/100\n",
      "1706/1706 [==============================] - 19s 11ms/step - loss: 0.3133 - accuracy: 0.0000e+00 - precision_1: 0.6789 - recall_1: 0.2992 - mean_squared_error: 0.0558 - val_loss: 0.3283 - val_accuracy: 0.0000e+00 - val_precision_1: 0.6139 - val_recall_1: 0.2904 - val_mean_squared_error: 0.0600\n",
      "Epoch 86/100\n",
      "1706/1706 [==============================] - 19s 11ms/step - loss: 0.3130 - accuracy: 0.0000e+00 - precision_1: 0.6946 - recall_1: 0.3020 - mean_squared_error: 0.0555 - val_loss: 0.3281 - val_accuracy: 0.0000e+00 - val_precision_1: 0.6118 - val_recall_1: 0.2916 - val_mean_squared_error: 0.0600\n",
      "Epoch 87/100\n",
      "1706/1706 [==============================] - 19s 11ms/step - loss: 0.3129 - accuracy: 0.0000e+00 - precision_1: 0.6855 - recall_1: 0.2958 - mean_squared_error: 0.0556 - val_loss: 0.3280 - val_accuracy: 0.0000e+00 - val_precision_1: 0.6143 - val_recall_1: 0.2927 - val_mean_squared_error: 0.0600\n",
      "Epoch 88/100\n",
      "1706/1706 [==============================] - 19s 11ms/step - loss: 0.3122 - accuracy: 0.0000e+00 - precision_1: 0.6894 - recall_1: 0.3064 - mean_squared_error: 0.0554 - val_loss: 0.3278 - val_accuracy: 0.0000e+00 - val_precision_1: 0.6222 - val_recall_1: 0.2892 - val_mean_squared_error: 0.0600\n",
      "Epoch 89/100\n",
      "1706/1706 [==============================] - 19s 11ms/step - loss: 0.3124 - accuracy: 0.0000e+00 - precision_1: 0.6988 - recall_1: 0.2985 - mean_squared_error: 0.0555 - val_loss: 0.3277 - val_accuracy: 0.0000e+00 - val_precision_1: 0.6143 - val_recall_1: 0.2927 - val_mean_squared_error: 0.0600\n",
      "Epoch 90/100\n",
      "1706/1706 [==============================] - 19s 11ms/step - loss: 0.3119 - accuracy: 0.0000e+00 - precision_1: 0.6906 - recall_1: 0.2953 - mean_squared_error: 0.0553 - val_loss: 0.3275 - val_accuracy: 0.0000e+00 - val_precision_1: 0.6173 - val_recall_1: 0.2927 - val_mean_squared_error: 0.0600\n",
      "Epoch 91/100\n",
      "1706/1706 [==============================] - 19s 11ms/step - loss: 0.3116 - accuracy: 0.0000e+00 - precision_1: 0.6908 - recall_1: 0.2994 - mean_squared_error: 0.0553 - val_loss: 0.3274 - val_accuracy: 0.0000e+00 - val_precision_1: 0.6130 - val_recall_1: 0.2986 - val_mean_squared_error: 0.0600\n",
      "Epoch 92/100\n",
      "1706/1706 [==============================] - 19s 11ms/step - loss: 0.3118 - accuracy: 0.0000e+00 - precision_1: 0.6932 - recall_1: 0.3043 - mean_squared_error: 0.0554 - val_loss: 0.3272 - val_accuracy: 0.0000e+00 - val_precision_1: 0.6137 - val_recall_1: 0.2939 - val_mean_squared_error: 0.0600\n",
      "Epoch 93/100\n",
      "1706/1706 [==============================] - 19s 11ms/step - loss: 0.3119 - accuracy: 0.0000e+00 - precision_1: 0.6907 - recall_1: 0.2979 - mean_squared_error: 0.0556 - val_loss: 0.3270 - val_accuracy: 0.0000e+00 - val_precision_1: 0.6145 - val_recall_1: 0.2986 - val_mean_squared_error: 0.0600\n",
      "Epoch 94/100\n",
      "1706/1706 [==============================] - 19s 11ms/step - loss: 0.3114 - accuracy: 0.0000e+00 - precision_1: 0.6807 - recall_1: 0.2994 - mean_squared_error: 0.0553 - val_loss: 0.3269 - val_accuracy: 0.0000e+00 - val_precision_1: 0.6165 - val_recall_1: 0.2974 - val_mean_squared_error: 0.0600\n",
      "Epoch 95/100\n",
      "1706/1706 [==============================] - 19s 11ms/step - loss: 0.3097 - accuracy: 0.0000e+00 - precision_1: 0.6948 - recall_1: 0.3071 - mean_squared_error: 0.0550 - val_loss: 0.3267 - val_accuracy: 0.0000e+00 - val_precision_1: 0.6163 - val_recall_1: 0.2916 - val_mean_squared_error: 0.0599\n",
      "Epoch 96/100\n",
      "1706/1706 [==============================] - 19s 11ms/step - loss: 0.3107 - accuracy: 0.0000e+00 - precision_1: 0.6924 - recall_1: 0.3064 - mean_squared_error: 0.0552 - val_loss: 0.3266 - val_accuracy: 0.0000e+00 - val_precision_1: 0.6178 - val_recall_1: 0.3009 - val_mean_squared_error: 0.0599\n",
      "Epoch 97/100\n",
      "1706/1706 [==============================] - 19s 11ms/step - loss: 0.3099 - accuracy: 0.0000e+00 - precision_1: 0.6961 - recall_1: 0.3041 - mean_squared_error: 0.0550 - val_loss: 0.3264 - val_accuracy: 0.0000e+00 - val_precision_1: 0.6163 - val_recall_1: 0.3009 - val_mean_squared_error: 0.0599\n",
      "Epoch 98/100\n",
      "1706/1706 [==============================] - 19s 11ms/step - loss: 0.3103 - accuracy: 0.0000e+00 - precision_1: 0.6864 - recall_1: 0.3041 - mean_squared_error: 0.0552 - val_loss: 0.3263 - val_accuracy: 0.0000e+00 - val_precision_1: 0.6156 - val_recall_1: 0.2963 - val_mean_squared_error: 0.0599\n",
      "Epoch 99/100\n",
      "1706/1706 [==============================] - 19s 11ms/step - loss: 0.3095 - accuracy: 0.0000e+00 - precision_1: 0.6988 - recall_1: 0.3158 - mean_squared_error: 0.0551 - val_loss: 0.3261 - val_accuracy: 0.0000e+00 - val_precision_1: 0.6203 - val_recall_1: 0.2927 - val_mean_squared_error: 0.0599\n",
      "Epoch 100/100\n",
      "1706/1706 [==============================] - 19s 11ms/step - loss: 0.3091 - accuracy: 0.0000e+00 - precision_1: 0.6911 - recall_1: 0.3032 - mean_squared_error: 0.0550 - val_loss: 0.3260 - val_accuracy: 0.0000e+00 - val_precision_1: 0.6169 - val_recall_1: 0.2998 - val_mean_squared_error: 0.0599\n"
     ]
    }
   ],
   "source": [
    "optim = Adam(learning_rate=0.000001)\n",
    "drop_rate =0.2\n",
    "reg = l2(0.0001)\n",
    "loss_fn = BinaryCrossentropy()\n",
    "metrics_list = [Accuracy(), Precision(), Recall(), MeanSquaredError()]\n",
    "\n",
    "model = Sequential()\n",
    "model.add(Dense(1024,'relu',kernel_regularizer=reg,input_shape=(X_train.shape[1],)))\n",
    "model.add(Dropout(drop_rate))\n",
    "\n",
    "model.add(Dense(512,'relu',kernel_regularizer=reg))\n",
    "model.add(Dropout(drop_rate))\n",
    "\n",
    "model.add(Dense(256,'relu',kernel_regularizer=reg,))\n",
    "model.add(Dropout(drop_rate))\n",
    "\n",
    "model.add(Dense(1,'sigmoid'))\n",
    "model.summary()\n",
    "\n",
    "model.compile(loss=loss_fn, \n",
    "              optimizer=optim ,\n",
    "              metrics=metrics_list)\n",
    "history = model.fit(X_train,y_train,callbacks=early_stopping,epochs=100,validation_split=0.15)"
   ]
  },
  {
   "cell_type": "code",
   "execution_count": 161,
   "metadata": {
    "scrolled": false
   },
   "outputs": [
    {
     "name": "stdout",
     "output_type": "stream",
     "text": [
      "860/860 [==============================] - 2s 2ms/step - loss: 0.3216 - accuracy: 0.0000e+00 - precision_1: 0.6305 - recall_1: 0.3225 - mean_squared_error: 0.0585\n"
     ]
    }
   ],
   "source": [
    "score = model.evaluate(X_test,y_test)"
   ]
  },
  {
   "cell_type": "markdown",
   "metadata": {},
   "source": [
    "*The neural network constructed in this way did not bring better results than normal classification models*"
   ]
  },
  {
   "cell_type": "markdown",
   "metadata": {},
   "source": [
    "# UNSUPERVISED LEARNING"
   ]
  },
  {
   "cell_type": "markdown",
   "metadata": {},
   "source": [
    "## KMeans"
   ]
  },
  {
   "cell_type": "code",
   "execution_count": 120,
   "metadata": {},
   "outputs": [],
   "source": [
    "from sklearn.cluster import KMeans"
   ]
  },
  {
   "cell_type": "markdown",
   "metadata": {},
   "source": [
    "*Let's look at two graphs explaining how many clusters we should use for best performance. Anyway we will use two clusters like our target in dataset*"
   ]
  },
  {
   "cell_type": "code",
   "execution_count": 121,
   "metadata": {},
   "outputs": [
    {
     "data": {
      "image/png": "[encoded data removed]",
      "text/plain": [
       "<Figure size 432x288 with 1 Axes>"
      ]
     },
     "metadata": {
      "needs_background": "light"
     },
     "output_type": "display_data"
    }
   ],
   "source": [
    "wcss=[]\n",
    "for nclusters in range(1,15):\n",
    "    kmeans=KMeans(n_clusters=nclusters,max_iter=700)\n",
    "    kmeans.fit(X_scaled)\n",
    "    wcss.append(kmeans.inertia_)\n",
    "plt.plot(range(1,15),wcss)\n",
    "plt.title('Elbow method')\n",
    "plt.xlabel('No of clusters')\n",
    "plt.ylabel('WCSS')\n",
    "plt.show()"
   ]
  },
  {
   "cell_type": "code",
   "execution_count": 122,
   "metadata": {
    "scrolled": true
   },
   "outputs": [
    {
     "data": {
      "text/plain": [
       "[<matplotlib.lines.Line2D at 0x1e9a50d4b50>]"
      ]
     },
     "execution_count": 122,
     "metadata": {},
     "output_type": "execute_result"
    },
    {
     "data": {
      "image/png": "[encoded data removed]",
      "text/plain": [
       "<Figure size 432x288 with 1 Axes>"
      ]
     },
     "metadata": {
      "needs_background": "light"
     },
     "output_type": "display_data"
    }
   ],
   "source": [
    "from sklearn.metrics import silhouette_score\n",
    "silhouette=[]\n",
    "for ncluster in range(2,15):\n",
    "    kmeans=KMeans(n_clusters=ncluster,max_iter=300)\n",
    "    kmeans.fit(X_scaled)\n",
    "    silhouette.append(silhouette_score(X_scaled,kmeans.fit_predict(X_scaled)))\n",
    "plt.title('Silhouette score')\n",
    "plt.xlabel('No of clusters')\n",
    "plt.ylabel('Score')\n",
    "plt.plot(range(2,15),silhouette)"
   ]
  },
  {
   "cell_type": "markdown",
   "metadata": {},
   "source": [
    "*After analyzing the graphs, I do not expect high results for the two clusters.*"
   ]
  },
  {
   "cell_type": "code",
   "execution_count": 123,
   "metadata": {},
   "outputs": [],
   "source": [
    "kmeans=KMeans(2)\n",
    "kmeans.fit(X_scaled)\n",
    "kmeans_clusters=kmeans.labels_"
   ]
  },
  {
   "cell_type": "code",
   "execution_count": 124,
   "metadata": {},
   "outputs": [
    {
     "name": "stdout",
     "output_type": "stream",
     "text": [
      "KMeans\n",
      "adjusted_mutual_info_score: 0.013309382685706424\n",
      "rand_score: 0.5020870296981933\n",
      "completeness_score: 0.009532511379002897\n"
     ]
    }
   ],
   "source": [
    "cluster_models = []\n",
    "cluster_models.append(('KMeans',kmeans_clusters))\n",
    "\n",
    "adjusted_mutual_info_scores = []\n",
    "rand_scores = []\n",
    "completeness_scores = []\n",
    "name_clustering = []\n",
    "\n",
    "for name,labels in cluster_models:\n",
    "    print(name)\n",
    "    print(\"adjusted_mutual_info_score: {}\".format(metrics.adjusted_mutual_info_score(y, labels_pred=labels)))\n",
    "    print(\"rand_score: {}\".format(metrics.rand_score(y, labels_pred=labels)))\n",
    "    print(\"completeness_score: {}\".format(metrics.completeness_score(y, labels_pred=labels)))\n",
    "\n",
    "\n",
    "    name_clustering.append('KMeans')\n",
    "    adjusted_mutual_info_scores.append(metrics.adjusted_mutual_info_score(y, labels_pred=labels))\n",
    "    rand_scores.append(metrics.rand_score(y, labels_pred=labels))\n",
    "    completeness_scores.append(metrics.completeness_score(y, labels_pred=labels))\n",
    "\n"
   ]
  },
  {
   "cell_type": "code",
   "execution_count": 125,
   "metadata": {},
   "outputs": [
    {
     "data": {
      "text/plain": [
       "array([[46878, 36920],\n",
       "       [ 5970,  1945]], dtype=int64)"
      ]
     },
     "execution_count": 125,
     "metadata": {},
     "output_type": "execute_result"
    }
   ],
   "source": [
    "from sklearn.metrics.cluster import contingency_matrix\n",
    "contingency_matrix(y, kmeans_clusters)"
   ]
  },
  {
   "cell_type": "markdown",
   "metadata": {},
   "source": [
    "## DBSCAN"
   ]
  },
  {
   "cell_type": "code",
   "execution_count": 127,
   "metadata": {},
   "outputs": [],
   "source": [
    "from sklearn.cluster import DBSCAN"
   ]
  },
  {
   "cell_type": "code",
   "execution_count": 128,
   "metadata": {},
   "outputs": [
    {
     "data": {
      "text/plain": [
       "DBSCAN()"
      ]
     },
     "execution_count": 128,
     "metadata": {},
     "output_type": "execute_result"
    }
   ],
   "source": [
    "dbscan=DBSCAN()\n",
    "dbscan.fit(X_scaled)"
   ]
  },
  {
   "cell_type": "code",
   "execution_count": 130,
   "metadata": {},
   "outputs": [],
   "source": [
    "dbscan_clusters = dbscan.labels_"
   ]
  },
  {
   "cell_type": "code",
   "execution_count": 131,
   "metadata": {},
   "outputs": [
    {
     "name": "stdout",
     "output_type": "stream",
     "text": [
      "KMeans\n",
      "adjusted_mutual_info_score: 0.013309382685706424\n",
      "rand_score: 0.5020870296981933\n",
      "completeness_score: 0.009532511379002897\n",
      "DBSCAN\n",
      "adjusted_mutual_info_score: 1.0001808799157969e-14\n",
      "rand_score: 0.8422906273407648\n",
      "completeness_score: 1.0\n"
     ]
    }
   ],
   "source": [
    "cluster_models.append(('DBSCAN',dbscan_clusters))\n",
    "\n",
    "adjusted_mutual_info_scores = []\n",
    "rand_scores = []\n",
    "completeness_scores = []\n",
    "name_clustering = []\n",
    "\n",
    "\n",
    "for name,labels in cluster_models:\n",
    "    print(name)\n",
    "    print(\"adjusted_mutual_info_score: {}\".format(metrics.adjusted_mutual_info_score(y, labels_pred=labels)))\n",
    "    print(\"rand_score: {}\".format(metrics.rand_score(y, labels_pred=labels)))\n",
    "    print(\"completeness_score: {}\".format(metrics.completeness_score(y, labels_pred=labels)))\n",
    "\n",
    "\n",
    "   \n",
    "    adjusted_mutual_info_scores.append(metrics.adjusted_mutual_info_score(y, labels_pred=labels))\n",
    "    rand_scores.append(metrics.rand_score(y, labels_pred=labels))\n",
    "    completeness_scores.append(metrics.completeness_score(y, labels_pred=labels))\n"
   ]
  },
  {
   "cell_type": "code",
   "execution_count": 132,
   "metadata": {},
   "outputs": [
    {
     "data": {
      "text/plain": [
       "array([[83798],\n",
       "       [ 7915]], dtype=int64)"
      ]
     },
     "execution_count": 132,
     "metadata": {},
     "output_type": "execute_result"
    }
   ],
   "source": [
    "contingency_matrix(y, dbscan_clusters)"
   ]
  },
  {
   "cell_type": "markdown",
   "metadata": {},
   "source": [
    "## MiniBatchKMeans"
   ]
  },
  {
   "cell_type": "code",
   "execution_count": 133,
   "metadata": {},
   "outputs": [],
   "source": [
    "from sklearn.cluster import MiniBatchKMeans"
   ]
  },
  {
   "cell_type": "code",
   "execution_count": 134,
   "metadata": {},
   "outputs": [
    {
     "name": "stderr",
     "output_type": "stream",
     "text": [
      "C:\\Users\\Daniel\\anaconda3\\lib\\site-packages\\sklearn\\cluster\\_kmeans.py:1043: UserWarning: MiniBatchKMeans is known to have a memory leak on Windows with MKL, when there are less chunks than available threads. You can prevent it by setting batch_size >= 4096 or by setting the environment variable OMP_NUM_THREADS=4\n",
      "  warnings.warn(\n"
     ]
    }
   ],
   "source": [
    "mbk=MiniBatchKMeans(n_clusters=2)\n",
    "mbk=mbk.fit(X_scaled)\n",
    "mkb_clusters=mbk.predict(X_scaled)"
   ]
  },
  {
   "cell_type": "code",
   "execution_count": 135,
   "metadata": {},
   "outputs": [
    {
     "name": "stdout",
     "output_type": "stream",
     "text": [
      "KMeans\n",
      "adjusted_mutual_info_score: 0.013309382685706424\n",
      "rand_score: 0.5020870296981933\n",
      "completeness_score: 0.009532511379002897\n",
      "DBSCAN\n",
      "adjusted_mutual_info_score: 1.0001808799157969e-14\n",
      "rand_score: 0.8422906273407648\n",
      "completeness_score: 1.0\n",
      "MiniBatchKMeans\n",
      "adjusted_mutual_info_score: 0.019716651963107647\n",
      "rand_score: 0.5001416338282881\n",
      "completeness_score: 0.014061364150355582\n"
     ]
    }
   ],
   "source": [
    "cluster_models.append(('MiniBatchKMeans',mkb_clusters))\n",
    "\n",
    "adjusted_mutual_info_scores = []\n",
    "rand_scores = []\n",
    "completeness_scores = []\n",
    "name_clustering = []\n",
    "\n",
    "\n",
    "for name,labels in cluster_models:\n",
    "    print(name)\n",
    "    print(\"adjusted_mutual_info_score: {}\".format(metrics.adjusted_mutual_info_score(y, labels_pred=labels)))\n",
    "    print(\"rand_score: {}\".format(metrics.rand_score(y, labels_pred=labels)))\n",
    "    print(\"completeness_score: {}\".format(metrics.completeness_score(y, labels_pred=labels)))\n",
    "\n",
    "\n",
    "   \n",
    "    adjusted_mutual_info_scores.append(metrics.adjusted_mutual_info_score(y, labels_pred=labels))\n",
    "    rand_scores.append(metrics.rand_score(y, labels_pred=labels))\n",
    "    completeness_scores.append(metrics.completeness_score(y, labels_pred=labels))"
   ]
  },
  {
   "cell_type": "code",
   "execution_count": 136,
   "metadata": {},
   "outputs": [
    {
     "data": {
      "text/plain": [
       "array([[40661, 43137],\n",
       "       [ 1933,  5982]], dtype=int64)"
      ]
     },
     "execution_count": 136,
     "metadata": {},
     "output_type": "execute_result"
    }
   ],
   "source": [
    "contingency_matrix(y, mkb_clusters)"
   ]
  },
  {
   "cell_type": "code",
   "execution_count": 137,
   "metadata": {},
   "outputs": [
    {
     "data": {
      "text/html": [
       "<div>\n",
       "<style scoped>\n",
       "    .dataframe tbody tr th:only-of-type {\n",
       "        vertical-align: middle;\n",
       "    }\n",
       "\n",
       "    .dataframe tbody tr th {\n",
       "        vertical-align: top;\n",
       "    }\n",
       "\n",
       "    .dataframe thead th {\n",
       "        text-align: right;\n",
       "    }\n",
       "</style>\n",
       "<table border=\"1\" class=\"dataframe\">\n",
       "  <thead>\n",
       "    <tr style=\"text-align: right;\">\n",
       "      <th></th>\n",
       "      <th>Method</th>\n",
       "      <th>adjusted_mutual_info_score</th>\n",
       "      <th>rand_score</th>\n",
       "      <th>completeness_score</th>\n",
       "    </tr>\n",
       "  </thead>\n",
       "  <tbody>\n",
       "    <tr>\n",
       "      <th>0</th>\n",
       "      <td>Kmeans</td>\n",
       "      <td>1.330938e-02</td>\n",
       "      <td>0.502087</td>\n",
       "      <td>0.009533</td>\n",
       "    </tr>\n",
       "    <tr>\n",
       "      <th>1</th>\n",
       "      <td>DBSCAN</td>\n",
       "      <td>1.000181e-14</td>\n",
       "      <td>0.842291</td>\n",
       "      <td>1.000000</td>\n",
       "    </tr>\n",
       "    <tr>\n",
       "      <th>2</th>\n",
       "      <td>MKB</td>\n",
       "      <td>1.971665e-02</td>\n",
       "      <td>0.500142</td>\n",
       "      <td>0.014061</td>\n",
       "    </tr>\n",
       "  </tbody>\n",
       "</table>\n",
       "</div>"
      ],
      "text/plain": [
       "   Method  adjusted_mutual_info_score  rand_score  completeness_score\n",
       "0  Kmeans                1.330938e-02    0.502087            0.009533\n",
       "1  DBSCAN                1.000181e-14    0.842291            1.000000\n",
       "2     MKB                1.971665e-02    0.500142            0.014061"
      ]
     },
     "execution_count": 137,
     "metadata": {},
     "output_type": "execute_result"
    }
   ],
   "source": [
    "dd = {'adjusted_mutual_info_score': adjusted_mutual_info_scores, \n",
    "     'rand_score': rand_scores, \n",
    "     'completeness_score': completeness_scores,\n",
    "     \n",
    "    }\n",
    "df_c = pd.DataFrame(data=dd)\n",
    "df_c.insert(loc=0, column='Method', value=[  'Kmeans',\n",
    "                                        'DBSCAN',\n",
    "                                            'MKB'])\n",
    "df_c"
   ]
  },
  {
   "cell_type": "code",
   "execution_count": 152,
   "metadata": {},
   "outputs": [
    {
     "data": {
      "text/plain": [
       "<matplotlib.axes._subplots.AxesSubplot at 0x1e9a413cbb0>"
      ]
     },
     "execution_count": 152,
     "metadata": {},
     "output_type": "execute_result"
    },
    {
     "data": {
      "image/png": "[encoded data removed]",
      "text/plain": [
       "<Figure size 432x288 with 1 Axes>"
      ]
     },
     "metadata": {
      "needs_background": "light"
     },
     "output_type": "display_data"
    }
   ],
   "source": [
    "df_c.plot(kind='bar')"
   ]
  },
  {
   "cell_type": "markdown",
   "metadata": {},
   "source": [
    "*Very poor clustering results, DBSCAN did not detect any clusters, let's check how clustering is doing, on an oversampled set.*"
   ]
  },
  {
   "cell_type": "code",
   "execution_count": null,
   "metadata": {},
   "outputs": [],
   "source": []
  },
  {
   "cell_type": "markdown",
   "metadata": {},
   "source": [
    "## KMeans-Oversampled"
   ]
  },
  {
   "cell_type": "code",
   "execution_count": 138,
   "metadata": {},
   "outputs": [],
   "source": [
    "oversample = SMOTE(sampling_strategy=0.5)\n",
    "X_oversampled, y_oversampled = oversample.fit_resample(X_scaled, y)"
   ]
  },
  {
   "cell_type": "code",
   "execution_count": 139,
   "metadata": {},
   "outputs": [
    {
     "data": {
      "text/plain": [
       "KMeans(n_clusters=2)"
      ]
     },
     "execution_count": 139,
     "metadata": {},
     "output_type": "execute_result"
    }
   ],
   "source": [
    "kmeans=KMeans(2)\n",
    "kmeans.fit(X_oversampled)"
   ]
  },
  {
   "cell_type": "code",
   "execution_count": 140,
   "metadata": {},
   "outputs": [],
   "source": [
    "kmeans_clusters_oversampled=kmeans.labels_"
   ]
  },
  {
   "cell_type": "code",
   "execution_count": 141,
   "metadata": {},
   "outputs": [
    {
     "name": "stdout",
     "output_type": "stream",
     "text": [
      "Kmeans-SMOTE\n",
      "adjusted_mutual_info_score: 0.05930255191767492\n",
      "rand_score: 0.5241046930462381\n",
      "completeness_score: 0.05714300947191484\n"
     ]
    }
   ],
   "source": [
    "cluster_models_oversampled = []\n",
    "cluster_models_oversampled.append(('Kmeans-SMOTE',kmeans_clusters_oversampled))\n",
    "\n",
    "adjusted_mutual_info_scores_ = []\n",
    "rand_scores_ = []\n",
    "completeness_scores_ = []\n",
    "name_clustering_ = []\n",
    "\n",
    "\n",
    "for name,labels in cluster_models_oversampled:\n",
    "    print(name)\n",
    "    print(\"adjusted_mutual_info_score: {}\".format(metrics.adjusted_mutual_info_score(y_oversampled, labels_pred=labels)))\n",
    "    print(\"rand_score: {}\".format(metrics.rand_score(y_oversampled, labels_pred=labels)))\n",
    "    print(\"completeness_score: {}\".format(metrics.completeness_score(y_oversampled, labels_pred=labels)))\n",
    "\n",
    "\n",
    "   \n",
    "    adjusted_mutual_info_scores_.append(metrics.adjusted_mutual_info_score(y_oversampled, labels_pred=labels))\n",
    "    rand_scores_.append(metrics.rand_score(y_oversampled, labels_pred=labels))\n",
    "    completeness_scores_.append(metrics.completeness_score(y_oversampled, labels_pred=labels))"
   ]
  },
  {
   "cell_type": "code",
   "execution_count": 142,
   "metadata": {},
   "outputs": [
    {
     "data": {
      "text/plain": [
       "array([[38577, 45221],\n",
       "       [31428, 10471]], dtype=int64)"
      ]
     },
     "execution_count": 142,
     "metadata": {},
     "output_type": "execute_result"
    }
   ],
   "source": [
    "contingency_matrix(y_oversampled, kmeans_clusters_oversampled)"
   ]
  },
  {
   "cell_type": "markdown",
   "metadata": {},
   "source": [
    "## DBSCAN-Oversampled"
   ]
  },
  {
   "cell_type": "code",
   "execution_count": 143,
   "metadata": {},
   "outputs": [
    {
     "data": {
      "text/plain": [
       "DBSCAN()"
      ]
     },
     "execution_count": 143,
     "metadata": {},
     "output_type": "execute_result"
    }
   ],
   "source": [
    "dbscan=DBSCAN()\n",
    "dbscan.fit(X_oversampled)"
   ]
  },
  {
   "cell_type": "code",
   "execution_count": 144,
   "metadata": {},
   "outputs": [],
   "source": [
    "dbscan_clusters_oversampled = dbscan.labels_"
   ]
  },
  {
   "cell_type": "code",
   "execution_count": 145,
   "metadata": {},
   "outputs": [
    {
     "name": "stdout",
     "output_type": "stream",
     "text": [
      "Kmeans-SMOTE\n",
      "adjusted_mutual_info_score: 0.05930255191767492\n",
      "rand_score: 0.5241046930462381\n",
      "completeness_score: 0.05714300947191484\n",
      "DBSCAN-SMOTE\n",
      "adjusted_mutual_info_score: 0.006729310096904455\n",
      "rand_score: 0.5570474858310225\n",
      "completeness_score: 0.09986458978165343\n"
     ]
    }
   ],
   "source": [
    "cluster_models_oversampled.append(('DBSCAN-SMOTE',dbscan_clusters_oversampled))\n",
    "\n",
    "adjusted_mutual_info_scores_ = []\n",
    "rand_scores_ = []\n",
    "completeness_scores_ = []\n",
    "name_clustering_ = []\n",
    "\n",
    "\n",
    "for name,labels in cluster_models_oversampled:\n",
    "    print(name)\n",
    "    print(\"adjusted_mutual_info_score: {}\".format(metrics.adjusted_mutual_info_score(y_oversampled, labels_pred=labels)))\n",
    "    print(\"rand_score: {}\".format(metrics.rand_score(y_oversampled, labels_pred=labels)))\n",
    "    print(\"completeness_score: {}\".format(metrics.completeness_score(y_oversampled, labels_pred=labels)))\n",
    "\n",
    "\n",
    "   \n",
    "    adjusted_mutual_info_scores_.append(metrics.adjusted_mutual_info_score(y_oversampled, labels_pred=labels))\n",
    "    rand_scores_.append(metrics.rand_score(y_oversampled, labels_pred=labels))\n",
    "    completeness_scores_.append(metrics.completeness_score(y_oversampled, labels_pred=labels))"
   ]
  },
  {
   "cell_type": "code",
   "execution_count": 146,
   "metadata": {},
   "outputs": [
    {
     "data": {
      "text/plain": [
       "array([[83798,     0,     0,     0,     0,     0,     0,     0,     0,\n",
       "            0,     0,     0,     0,     0,     0,     0,     0,     0,\n",
       "            0,     0,     0,     0,     0,     0,     0,     0,     0,\n",
       "            0,     0,     0,     0,     0,     0,     0,     0,     0,\n",
       "            0,     0,     0,     0,     0,     0,     0,     0,     0,\n",
       "            0,     0,     0,     0,     0,     0,     0],\n",
       "       [41618,     6,     5,     5,     5,     6,     5,     5,     5,\n",
       "            7,     7,     5,     5,     5,     5,     5,     6,     6,\n",
       "            6,     6,     8,     5,     5,     7,     6,     5,     6,\n",
       "            7,     5,     5,     8,     6,     5,     6,     5,     5,\n",
       "            5,     5,     7,     5,     5,     5,     5,     5,     5,\n",
       "            5,     5,     5,     5,     5,     5,     5]], dtype=int64)"
      ]
     },
     "execution_count": 146,
     "metadata": {},
     "output_type": "execute_result"
    }
   ],
   "source": [
    "contingency_matrix(y_oversampled, dbscan_clusters_oversampled)"
   ]
  },
  {
   "cell_type": "markdown",
   "metadata": {},
   "source": [
    "## MiniBatchKMeans-Oversampled"
   ]
  },
  {
   "cell_type": "code",
   "execution_count": 147,
   "metadata": {},
   "outputs": [
    {
     "name": "stderr",
     "output_type": "stream",
     "text": [
      "C:\\Users\\Daniel\\anaconda3\\lib\\site-packages\\sklearn\\cluster\\_kmeans.py:1043: UserWarning: MiniBatchKMeans is known to have a memory leak on Windows with MKL, when there are less chunks than available threads. You can prevent it by setting batch_size >= 4096 or by setting the environment variable OMP_NUM_THREADS=4\n",
      "  warnings.warn(\n"
     ]
    }
   ],
   "source": [
    "mbk=MiniBatchKMeans(n_clusters=2)\n",
    "mbk.fit(X_oversampled)\n",
    "mkb_clusters_oversampled=mbk.predict(X_oversampled)"
   ]
  },
  {
   "cell_type": "code",
   "execution_count": 148,
   "metadata": {},
   "outputs": [
    {
     "name": "stdout",
     "output_type": "stream",
     "text": [
      "Kmeans-SMOTE\n",
      "adjusted_mutual_info_score: 0.05930255191767492\n",
      "rand_score: 0.5241046930462381\n",
      "completeness_score: 0.05714300947191484\n",
      "DBSCAN-SMOTE\n",
      "adjusted_mutual_info_score: 0.006729310096904455\n",
      "rand_score: 0.5570474858310225\n",
      "completeness_score: 0.09986458978165343\n",
      "MBK-SMOTE\n",
      "adjusted_mutual_info_score: 0.03750463872091882\n",
      "rand_score: 0.5073008621847187\n",
      "completeness_score: 0.036686936703411506\n"
     ]
    }
   ],
   "source": [
    "cluster_models_oversampled.append(('MBK-SMOTE',mkb_clusters_oversampled))\n",
    "\n",
    "adjusted_mutual_info_scores_ = []\n",
    "rand_scores_ = []\n",
    "completeness_scores_ = []\n",
    "name_clustering_ = []\n",
    "\n",
    "\n",
    "for name,labels in cluster_models_oversampled:\n",
    "    print(name)\n",
    "    print(\"adjusted_mutual_info_score: {}\".format(metrics.adjusted_mutual_info_score(y_oversampled, labels_pred=labels)))\n",
    "    print(\"rand_score: {}\".format(metrics.rand_score(y_oversampled, labels_pred=labels)))\n",
    "    print(\"completeness_score: {}\".format(metrics.completeness_score(y_oversampled, labels_pred=labels)))\n",
    "\n",
    "\n",
    "   \n",
    "    adjusted_mutual_info_scores_.append(metrics.adjusted_mutual_info_score(y_oversampled, labels_pred=labels))\n",
    "    rand_scores_.append(metrics.rand_score(y_oversampled, labels_pred=labels))\n",
    "    completeness_scores_.append(metrics.completeness_score(y_oversampled, labels_pred=labels))"
   ]
  },
  {
   "cell_type": "code",
   "execution_count": 149,
   "metadata": {
    "scrolled": true
   },
   "outputs": [
    {
     "data": {
      "text/plain": [
       "array([[45423, 38375],\n",
       "       [32070,  9829]], dtype=int64)"
      ]
     },
     "execution_count": 149,
     "metadata": {},
     "output_type": "execute_result"
    }
   ],
   "source": [
    "contingency_matrix(y_oversampled, mkb_clusters_oversampled)"
   ]
  },
  {
   "cell_type": "code",
   "execution_count": 150,
   "metadata": {
    "scrolled": true
   },
   "outputs": [
    {
     "data": {
      "text/html": [
       "<div>\n",
       "<style scoped>\n",
       "    .dataframe tbody tr th:only-of-type {\n",
       "        vertical-align: middle;\n",
       "    }\n",
       "\n",
       "    .dataframe tbody tr th {\n",
       "        vertical-align: top;\n",
       "    }\n",
       "\n",
       "    .dataframe thead th {\n",
       "        text-align: right;\n",
       "    }\n",
       "</style>\n",
       "<table border=\"1\" class=\"dataframe\">\n",
       "  <thead>\n",
       "    <tr style=\"text-align: right;\">\n",
       "      <th></th>\n",
       "      <th>Method</th>\n",
       "      <th>adjusted_mutual_info_score</th>\n",
       "      <th>rand_score</th>\n",
       "      <th>completeness_score</th>\n",
       "    </tr>\n",
       "  </thead>\n",
       "  <tbody>\n",
       "    <tr>\n",
       "      <th>0</th>\n",
       "      <td>Kmeans-SMOTE</td>\n",
       "      <td>0.059303</td>\n",
       "      <td>0.524105</td>\n",
       "      <td>0.057143</td>\n",
       "    </tr>\n",
       "    <tr>\n",
       "      <th>1</th>\n",
       "      <td>DBSCAN-SMOTE</td>\n",
       "      <td>0.006729</td>\n",
       "      <td>0.557047</td>\n",
       "      <td>0.099865</td>\n",
       "    </tr>\n",
       "    <tr>\n",
       "      <th>2</th>\n",
       "      <td>MKB_SMOTE</td>\n",
       "      <td>0.037505</td>\n",
       "      <td>0.507301</td>\n",
       "      <td>0.036687</td>\n",
       "    </tr>\n",
       "  </tbody>\n",
       "</table>\n",
       "</div>"
      ],
      "text/plain": [
       "         Method  adjusted_mutual_info_score  rand_score  completeness_score\n",
       "0  Kmeans-SMOTE                    0.059303    0.524105            0.057143\n",
       "1  DBSCAN-SMOTE                    0.006729    0.557047            0.099865\n",
       "2     MKB_SMOTE                    0.037505    0.507301            0.036687"
      ]
     },
     "execution_count": 150,
     "metadata": {},
     "output_type": "execute_result"
    }
   ],
   "source": [
    "import pandas as pd\n",
    "ddd = {'adjusted_mutual_info_score': adjusted_mutual_info_scores_, \n",
    "     'rand_score': rand_scores_, \n",
    "     'completeness_score': completeness_scores_,\n",
    "     \n",
    "    }\n",
    "df_c_o = pd.DataFrame(data=ddd)\n",
    "df_c_o.insert(loc=0, column='Method', value=[  'Kmeans-SMOTE',\n",
    "                                        'DBSCAN-SMOTE',\n",
    "                                            'MKB_SMOTE'])\n",
    "df_c_o"
   ]
  },
  {
   "cell_type": "code",
   "execution_count": 151,
   "metadata": {},
   "outputs": [
    {
     "data": {
      "text/plain": [
       "<matplotlib.axes._subplots.AxesSubplot at 0x1e9a5c2d670>"
      ]
     },
     "execution_count": 151,
     "metadata": {},
     "output_type": "execute_result"
    },
    {
     "data": {
      "image/png": "[encoded data removed]",
      "text/plain": [
       "<Figure size 432x288 with 1 Axes>"
      ]
     },
     "metadata": {
      "needs_background": "light"
     },
     "output_type": "display_data"
    }
   ],
   "source": [
    "df_c_o.plot(kind='bar')"
   ]
  },
  {
   "cell_type": "markdown",
   "metadata": {},
   "source": [
    "*the results after oversampling improved but not enough to consider any clustering model reliable/useful*\n"
   ]
  }
 ],
 "metadata": {
  "kernelspec": {
   "display_name": "Python 3",
   "language": "python",
   "name": "python3"
  },
  "language_info": {
   "codemirror_mode": {
    "name": "ipython",
    "version": 3
   },
   "file_extension": ".py",
   "mimetype": "text/x-python",
   "name": "python",
   "nbconvert_exporter": "python",
   "pygments_lexer": "ipython3",
   "version": "3.8.3"
  }
 },
 "nbformat": 4,
 "nbformat_minor": 4
}
